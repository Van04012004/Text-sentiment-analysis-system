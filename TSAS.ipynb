{
  "nbformat": 4,
  "nbformat_minor": 0,
  "metadata": {
    "colab": {
      "provenance": []
    },
    "kernelspec": {
      "name": "python3",
      "display_name": "Python 3"
    },
    "language_info": {
      "name": "python"
    }
  },
  "cells": [
    {
      "cell_type": "code",
      "execution_count": null,
      "metadata": {
        "colab": {
          "base_uri": "https://localhost:8080/"
        },
        "id": "4uxSDmmZH457",
        "outputId": "d1d82557-582d-405c-9fca-0f60264acdf8"
      },
      "outputs": [
        {
          "output_type": "stream",
          "name": "stderr",
          "text": [
            "[nltk_data] Downloading package vader_lexicon to /root/nltk_data...\n"
          ]
        },
        {
          "output_type": "stream",
          "name": "stdout",
          "text": [
            "   ID  \\\n",
            "0   1   \n",
            "1   1   \n",
            "2   1   \n",
            "3   1   \n",
            "4   1   \n",
            "\n",
            "                                                                                   COMMENT  \n",
            "0      The camera takes very good photos, especially the night mode produces sharp images.  \n",
            "1         The device has good compatibility with third-party applications and accessories.  \n",
            "2  High quality glass and metal materials, very good, giving a solid feeling when holding.  \n",
            "3  The sound quality is very good, stereo speakers for a great music listening experience.  \n",
            "4                      Face ID feature is very good, faster and more accurate recognition.  \n"
          ]
        }
      ],
      "source": [
        "\n",
        "import pandas as pd\n",
        "from nltk.sentiment.vader import SentimentIntensityAnalyzer\n",
        "import nltk\n",
        "\n",
        "# Tải dữ liệu VADER nếu sử dụng NLTK\n",
        "nltk.download('vader_lexicon')\n",
        "\n",
        "# Cài đặt tùy chọn hiển thị để không bị cắt câu\n",
        "pd.set_option('display.max_colwidth', None)\n",
        "\n",
        "# Đọc file CSV\n",
        "file_path = \"/content/drive/MyDrive/ForColab/dataenglish.csv\"  # Đường dẫn đến file CSV của bạn\n",
        "df = pd.read_csv(file_path)\n",
        "\n",
        "# Hiển thị 5 dòng đầu tiên của dữ liệu để kiểm tra\n",
        "print(df.head())\n"
      ]
    },
    {
      "cell_type": "code",
      "source": [
        "# Hàm phân tích cảm xúc sử dụng VADER\n",
        "analyzer = SentimentIntensityAnalyzer()\n",
        "def analyze_sentiment_vader(text):\n",
        "    scores = analyzer.polarity_scores(text)\n",
        "    if scores['compound'] >= 0.05:\n",
        "        return 1 #POSITIVE\n",
        "    elif scores['compound'] <= -0.05:\n",
        "        return 3 #NEGATIVE\n",
        "    else:\n",
        "        return 2 #NEUTRAL\n",
        "#Áp dụng hàm phân tích cảm xúc lên cột 'COMMENT'\n",
        "df['Sentiment_Label'] = df['COMMENT'].apply(analyze_sentiment_vader)"
      ],
      "metadata": {
        "id": "amJ_Vs0UH9N9"
      },
      "execution_count": null,
      "outputs": []
    },
    {
      "cell_type": "code",
      "source": [
        "# Hàm chuyển đổi nhãn số thành chuỗi (POSITIVE, NEUTRAL, NEGATIVE)\n",
        "def convert_label_to_string(label):\n",
        "    if label == 1:\n",
        "        return \"POSITIVE\"\n",
        "    elif label == 2:\n",
        "        return \"NEUTRAL\"\n",
        "    elif label == 3:\n",
        "        return \"NEGATIVE\"\n",
        "\n",
        "# Tạo một cột mới để hiển thị nhãn chuỗi\n",
        "df['Sentiment_Display'] = df['Sentiment_Label'].apply(convert_label_to_string)\n",
        "\n"
      ],
      "metadata": {
        "id": "L7Dkd6DZIF1-"
      },
      "execution_count": null,
      "outputs": []
    },
    {
      "cell_type": "code",
      "source": [
        "# Hiển thị kết quả cuối cùng\n",
        "\n",
        "# Đảm bảo hiển thị toàn bộ nội dung của các ô\n",
        "# pd.set_option('display.max_colwidth', None)\n",
        "\n",
        "# Hiển thị kết quả cuối cùng\n",
        "print(df[['Sentiment_Label', 'Sentiment_Display']])\n"
      ],
      "metadata": {
        "colab": {
          "base_uri": "https://localhost:8080/"
        },
        "id": "abQra2OeILAi",
        "outputId": "e5e0dbb0-7b3b-488a-936e-6571ff3c256e"
      },
      "execution_count": null,
      "outputs": [
        {
          "output_type": "stream",
          "name": "stdout",
          "text": [
            "     Sentiment_Label Sentiment_Display\n",
            "0                  1          POSITIVE\n",
            "1                  1          POSITIVE\n",
            "2                  1          POSITIVE\n",
            "3                  1          POSITIVE\n",
            "4                  1          POSITIVE\n",
            "..               ...               ...\n",
            "96                 3          NEGATIVE\n",
            "97                 3          NEGATIVE\n",
            "98                 3          NEGATIVE\n",
            "99                 3          NEGATIVE\n",
            "100                3          NEGATIVE\n",
            "\n",
            "[101 rows x 2 columns]\n"
          ]
        }
      ]
    },
    {
      "cell_type": "code",
      "source": [
        "\n",
        "import pandas as pd\n",
        "\n",
        "# Hàm kiểm tra và chỉnh sửa nhãn thủ công\n",
        "def manual_check(COMMENT, Sentiment_Display):\n",
        "    print(\"Đánh giá: \", COMMENT)\n",
        "    print(\"Nhãn dự đoán: \", Sentiment_Display)\n",
        "    correct_label = input(\"Nhập nhãn chính xác (POSITIVE/NEGATIVE/NEUTRAL) hoặc nhấn Enter để giữ nguyên: \")\n",
        "    return correct_label if correct_label else Sentiment_Display\n",
        "\n",
        "\n",
        "# Áp dụng hàm kiểm tra và chỉnh sửa\n",
        "df['final_label'] = df.apply(lambda row: manual_check(row['COMMENT'], row['Sentiment_Display']), axis=1)\n",
        "\n",
        "# Lưu dữ liệu đã chỉnh sửa vào tệp CSV mới\n",
        "df.to_csv('/content/drive/MyDrive/ForColab/RIGHTLABEL.csv', index=False)\n",
        "\n",
        "print(\"HOÀN TẤT KIỂM TRA VÀ CHỈNH SỬA NHÃN DỮ LIỆU!\")"
      ],
      "metadata": {
        "colab": {
          "base_uri": "https://localhost:8080/"
        },
        "id": "Nz3ap1AgINnl",
        "outputId": "c1e68e1a-d39f-4e73-a29f-e4425e09e713"
      },
      "execution_count": null,
      "outputs": [
        {
          "output_type": "stream",
          "name": "stdout",
          "text": [
            "Đánh giá:  The camera takes very good photos, especially the night mode produces sharp images.\n",
            "Nhãn dự đoán:  POSITIVE\n",
            "Nhập nhãn chính xác (POSITIVE/NEGATIVE/NEUTRAL) hoặc nhấn Enter để giữ nguyên: \n",
            "Đánh giá:  The device has good compatibility with third-party applications and accessories.\n",
            "Nhãn dự đoán:  POSITIVE\n",
            "Nhập nhãn chính xác (POSITIVE/NEGATIVE/NEUTRAL) hoặc nhấn Enter để giữ nguyên: \n",
            "Đánh giá:  High quality glass and metal materials, very good, giving a solid feeling when holding.\n",
            "Nhãn dự đoán:  POSITIVE\n",
            "Nhập nhãn chính xác (POSITIVE/NEGATIVE/NEUTRAL) hoặc nhấn Enter để giữ nguyên: \n",
            "Đánh giá:  The sound quality is very good, stereo speakers for a great music listening experience.\n",
            "Nhãn dự đoán:  POSITIVE\n",
            "Nhập nhãn chính xác (POSITIVE/NEGATIVE/NEUTRAL) hoặc nhấn Enter để giữ nguyên: \n",
            "Đánh giá:  Face ID feature is very good, faster and more accurate recognition.\n",
            "Nhãn dự đoán:  POSITIVE\n",
            "Nhập nhãn chính xác (POSITIVE/NEGATIVE/NEUTRAL) hoặc nhấn Enter để giữ nguyên: \n",
            "Đánh giá:  Charging speed is fast and standard, it only takes less than an hour to fully charge the battery.\n",
            "Nhãn dự đoán:  NEUTRAL\n",
            "Nhập nhãn chính xác (POSITIVE/NEGATIVE/NEUTRAL) hoặc nhấn Enter để giữ nguyên: POSITIVE\n",
            "Đánh giá:  Very good and powerful performance with the A18 Bionic chip, quickly handling all tasks without lag.\n",
            "Nhãn dự đoán:  POSITIVE\n",
            "Nhập nhãn chính xác (POSITIVE/NEGATIVE/NEUTRAL) hoặc nhấn Enter để giữ nguyên: \n",
            "Đánh giá:  The design of iPhone 16 is truly beautiful, luxurious and sophisticated, very worthy of the Apple brand.\n",
            "Nhãn dự đoán:  POSITIVE\n",
            "Nhập nhãn chính xác (POSITIVE/NEGATIVE/NEUTRAL) hoặc nhấn Enter để giữ nguyên: \n",
            "Đánh giá:  Call quality is good, sound is clear, without interruption.\n",
            "Nhãn dự đoán:  POSITIVE\n",
            "Nhập nhãn chính xác (POSITIVE/NEGATIVE/NEUTRAL) hoặc nhấn Enter để giữ nguyên: \n",
            "Đánh giá:  The device is very light and thin, convenient and easy to carry with you.\n",
            "Nhãn dự đoán:  POSITIVE\n",
            "Nhập nhãn chính xác (POSITIVE/NEGATIVE/NEUTRAL) hoặc nhấn Enter để giữ nguyên: \n",
            "Đánh giá:  The ability to connect with other devices in the Apple ecosystem is very good and smooth.\n",
            "Nhãn dự đoán:  POSITIVE\n",
            "Nhập nhãn chính xác (POSITIVE/NEGATIVE/NEUTRAL) hoặc nhấn Enter để giữ nguyên: \n",
            "Đánh giá:  Upgraded selfie camera, producing sharp and beautiful images.\n",
            "Nhãn dự đoán:  POSITIVE\n",
            "Nhập nhãn chính xác (POSITIVE/NEGATIVE/NEUTRAL) hoặc nhấn Enter để giữ nguyên: \n",
            "Đánh giá:  The thin bezel design of the iPhone 16 is beautiful.\n",
            "Nhãn dự đoán:  POSITIVE\n",
            "Nhập nhãn chính xác (POSITIVE/NEGATIVE/NEUTRAL) hoặc nhấn Enter để giữ nguyên: \n",
            "Đánh giá:  The 8K video recording mode is extremely sharp and very good.\n",
            "Nhãn dự đoán:  POSITIVE\n",
            "Nhập nhãn chính xác (POSITIVE/NEGATIVE/NEUTRAL) hoặc nhấn Enter để giữ nguyên: \n",
            "Đánh giá:  Fast delivery product, I like it very much.\n",
            "Nhãn dự đoán:  POSITIVE\n",
            "Nhập nhãn chính xác (POSITIVE/NEGATIVE/NEUTRAL) hoặc nhấn Enter để giữ nguyên: \n",
            "Đánh giá:  The phone was packaged carefully and very carefully. I am very satisfied with the service.\n",
            "Nhãn dự đoán:  POSITIVE\n",
            "Nhập nhãn chính xác (POSITIVE/NEGATIVE/NEUTRAL) hoặc nhấn Enter để giữ nguyên: \n",
            "Đánh giá:  Large memory capacity, comfortably storing many applications and images. I am very satisfied.\n",
            "Nhãn dự đoán:  POSITIVE\n",
            "Nhập nhãn chính xác (POSITIVE/NEGATIVE/NEUTRAL) hoặc nhấn Enter để giữ nguyên: \n",
            "Đánh giá:  I am very impressed with the product's design. I rate the product 5 stars.\n",
            "Nhãn dự đoán:  POSITIVE\n",
            "Nhập nhãn chính xác (POSITIVE/NEGATIVE/NEUTRAL) hoặc nhấn Enter để giữ nguyên: \n",
            "Đánh giá:  The screen is bright and very good even when used in sunlight.\n",
            "Nhãn dự đoán:  POSITIVE\n",
            "Nhập nhãn chính xác (POSITIVE/NEGATIVE/NEUTRAL) hoặc nhấn Enter để giữ nguyên: \n",
            "Đánh giá:  Battery life is enough to last all day. I am very satisfied.\n",
            "Nhãn dự đoán:  POSITIVE\n",
            "Nhập nhãn chính xác (POSITIVE/NEGATIVE/NEUTRAL) hoặc nhấn Enter để giữ nguyên: \n",
            "Đánh giá:  We got this GPS for my husband who is an (OTR) over the road trucker.  Very Impressed with the shipping time, it arrived a few days earlier than expected...  within a week of use however it started freezing up... could of just been a glitch in that unit.  Worked great when it worked!  Will work great for the normal person as well but does have the \"trucker\" option. (the big truck routes - tells you when a scale is coming up ect...)  Love the bigger screen, the ease of use, the ease of putting addresses into memory.  Nothing really bad to say about the unit with the exception of it freezing which is probably one in a million and that's just my luck.  I contacted the seller and within minutes of my email I received a email back with instructions for an exchange! VERY impressed all the way around!\n",
            "Nhãn dự đoán:  POSITIVE\n",
            "Nhập nhãn chính xác (POSITIVE/NEGATIVE/NEUTRAL) hoặc nhấn Enter để giữ nguyên: \n",
            "Đánh giá:  I am using this with a Nook HD+. It works as described. The HD picture on my Samsung 52&#34; TV is excellent.\n",
            "Nhãn dự đoán:  POSITIVE\n",
            "Nhập nhãn chính xác (POSITIVE/NEGATIVE/NEUTRAL) hoặc nhấn Enter để giữ nguyên: \n",
            "Đánh giá:  This adaptor is real easy to setup and use right out of the box. I had not problem with it at all, it is well worth the purchase. I recommend this adaptor very much for viewing your Nook videos on your HDTV. I just disagree with other reviews on the length of the adaptor, I found it to be fairly adequate as to how and where it is connected to my TV. For me it was just right not too long or too short, I was able to place my Nook right below the connection on the TV stand, it did not fall or anything else, it is fine. Use your own judgement, I'm too busy watching my movies :)\n",
            "Nhãn dự đoán:  POSITIVE\n",
            "Nhập nhãn chính xác (POSITIVE/NEGATIVE/NEUTRAL) hoặc nhấn Enter để giữ nguyên: \n",
            "Đánh giá:  This product really works great but I found the following items you need to keep in mind:- You must have your power adapter connected for it to work...it plugs in the the bottom. It appears it needs power from the nook power adapter to operate.- The plug fits in loosely and you cannot move the Nook around much without holding the adapter in place.- On initial plugin it seems you need to rock it around to get the connection but then it seems solid.- It works with a 25ft high quality HDMI cable so you can put the NOOK across the room with you. Not tested with cheap cables.Warning...I found that my LG SmartTV 3D from a few years back does not work with this adapter but it does not seem to work with many things...bad software. This adapter works fine with other HDMI devices I have used like monitors and I am sure other TVs.Gave it five stars because it really is nice to extend the screen and use your Nook as a streaming server to your TV. Nice they made such a device.\n",
            "Nhãn dự đoán:  POSITIVE\n",
            "Nhập nhãn chính xác (POSITIVE/NEGATIVE/NEUTRAL) hoặc nhấn Enter để giữ nguyên: \n",
            "Đánh giá:  bought for a spare for my 9&#34; Nook HD and it fit perfectly.  Very satisfied with the price much less than on the BN site\n",
            "Nhãn dự đoán:  POSITIVE\n",
            "Nhập nhãn chính xác (POSITIVE/NEGATIVE/NEUTRAL) hoặc nhấn Enter để giữ nguyên: \n",
            "Đánh giá:  My son crewed my HD charger cord so I needed another one, this is exactly like the one my son destroyed.\n",
            "Nhãn dự đoán:  NEGATIVE\n",
            "Nhập nhãn chính xác (POSITIVE/NEGATIVE/NEUTRAL) hoặc nhấn Enter để giữ nguyên: POSITIVE\n",
            "Đánh giá:  I lost my B&N original cable.  I looked around for an new one.  I tried  a different, cheaper model but it didn't fit my device properly so back to the drawing board.  I ordered this one.  I am satisfied.  It works exactly as expected and fits perfectly.  I would recommend this product to anyone looking for a spare or in lieu of the original usb cable adapter.\n",
            "Nhãn dự đoán:  POSITIVE\n",
            "Nhập nhãn chính xác (POSITIVE/NEGATIVE/NEUTRAL) hoặc nhấn Enter để giữ nguyên: \n",
            "Đánh giá:  This is a great buy, compared to a $60 or more a retail store.\n",
            "Nhãn dự đoán:  POSITIVE\n",
            "Nhập nhãn chính xác (POSITIVE/NEGATIVE/NEUTRAL) hoặc nhấn Enter để giữ nguyên: \n",
            "Đánh giá:  This mount is just what I needed.  It is strong and sturdy.  It folds almost flat to enable the television to sit square and flat against the wall if desired and extends and rotates for angle turns.  A perfect fit as long as you match the correct visa pattern for your television.\n",
            "Nhãn dự đoán:  POSITIVE\n",
            "Nhập nhãn chính xác (POSITIVE/NEGATIVE/NEUTRAL) hoặc nhấn Enter để giữ nguyên: \n",
            "Đánh giá:  Great deal, easy to mount and it appears to be fairly sturdy. I mounted a 32 in tv on it and it works great.\n",
            "Nhãn dự đoán:  POSITIVE\n",
            "Nhập nhãn chính xác (POSITIVE/NEGATIVE/NEUTRAL) hoặc nhấn Enter để giữ nguyên: \n",
            "Đánh giá:  for the price you just cant beat this item. I bought it for a house I was selling so I could hang some tv and it worked great. Good quality for the price.\n",
            "Nhãn dự đoán:  POSITIVE\n",
            "Nhập nhãn chính xác (POSITIVE/NEGATIVE/NEUTRAL) hoặc nhấn Enter để giữ nguyên: \n",
            "Đánh giá:  I used this for my 47&#34; Samsung. Its fit/feel is great. Easy installation. Appears strong; although I personally spent way too much on the tv to risk leaving it fully outstretched with too little lag bolts for a long time! It is very convenient to be able to move it away from the wall however and I would feel very comfortable tilt or swiveling if needed. The movement is fluid and easily adjustable.I am very pleased with my purchase.\n",
            "Nhãn dự đoán:  POSITIVE\n",
            "Nhập nhãn chính xác (POSITIVE/NEGATIVE/NEUTRAL) hoặc nhấn Enter để giữ nguyên: \n",
            "Đánh giá:  This item serves its purpose as well as any other mount.  Its most appealing attribute is its large range of motion.  I am using this to corner-mount a 32\" TV and it works perfectly to hide the mount, receptacles, and cables behind the TV.  Very easy installation as well.\n",
            "Nhãn dự đoán:  POSITIVE\n",
            "Nhập nhãn chính xác (POSITIVE/NEGATIVE/NEUTRAL) hoặc nhấn Enter để giữ nguyên: \n",
            "Đánh giá:  I love this mount.  This is the 4th one I've bought and it works great every time.  excellent seller and excellent product\n",
            "Nhãn dự đoán:  POSITIVE\n",
            "Nhập nhãn chính xác (POSITIVE/NEGATIVE/NEUTRAL) hoặc nhấn Enter để giữ nguyên: \n",
            "Đánh giá:  I am very glad for buying it.  It is heavy duty and good quality for the price.  It was very easy to install.\n",
            "Nhãn dự đoán:  POSITIVE\n",
            "Nhập nhãn chính xác (POSITIVE/NEGATIVE/NEUTRAL) hoặc nhấn Enter để giữ nguyên: \n",
            "Đánh giá:  this holds up my 55inch sony with ease. make sure u mount this with ur own lag screws into the heart of the 2x4 ur mounting to and u won't have any problem--u may have to make a modificatoin or two but use ur brain and figure it out-- it'll be there till the house falls!!!3inch lag screws is the way to go don't be cheap go buy em.---how much did u pay for the tv????\n",
            "Nhãn dự đoán:  NEGATIVE\n",
            "Nhập nhãn chính xác (POSITIVE/NEGATIVE/NEUTRAL) hoặc nhấn Enter để giữ nguyên: POSITIVE\n",
            "Đánh giá:  Nice quality still works great... very happy with this purchase... need to add 10 more words.. so what can I say its a wall mount that I haven't had any problems with\n",
            "Nhãn dự đoán:  POSITIVE\n",
            "Nhập nhãn chính xác (POSITIVE/NEGATIVE/NEUTRAL) hoặc nhấn Enter để giữ nguyên: \n",
            "Đánh giá:  I bought this for a 22\" TV for my son. I mounted this onto the corner stud and it works great! I love the angles it can achieve. Fees Very sturdy and well built. It works perfect for my application. Very happy with this purchase!\n",
            "Nhãn dự đoán:  POSITIVE\n",
            "Nhập nhãn chính xác (POSITIVE/NEGATIVE/NEUTRAL) hoặc nhấn Enter để giữ nguyên: \n",
            "Đánh giá:  I am using this mount for a 39 inch Vizio TV and it has been great. The installation process was quick and easy and we LOVE the variety of angles that you can get from this mount. We have it on a side wall in our bedroom and we can pull the tv out and move it completely perpendicular to the wall on which it is mounted if we want to. (We don't usually move it quite perpendicular, but it works to do this.)My only complaint is that the joints are a little on the stiff side. It takes quite a bit of force to move the TV from one position to another. It's a little hard for my wife to do-- especially with the TV mounted about 6ft up on the wall. It may be possible to loosen these pivot points, but I have not tried. I'm a little nervous about making it less stable if I do.Overall, it's a great mount. Highly recommended.\n",
            "Nhãn dự đoán:  POSITIVE\n",
            "Nhập nhãn chính xác (POSITIVE/NEGATIVE/NEUTRAL) hoặc nhấn Enter để giữ nguyên: \n",
            "Đánh giá:  Didn't think it would work as well as it has,because the metal was a lighter guage thanwe expected, but it hardly deflected from theweight of the TV, even extended straight out.\n",
            "Nhãn dự đoán:  POSITIVE\n",
            "Nhập nhãn chính xác (POSITIVE/NEGATIVE/NEUTRAL) hoặc nhấn Enter để giữ nguyên: \n",
            "Đánh giá:  very heavy duty construction, extends, tilts perfectlya steal at this pricewill be happy to buy another 1 or 2 if needed\n",
            "Nhãn dự đoán:  POSITIVE\n",
            "Nhập nhãn chính xác (POSITIVE/NEGATIVE/NEUTRAL) hoặc nhấn Enter để giữ nguyên: \n",
            "Đánh giá:  Well constructed wall mount for TV sets up to 37 inches. The mounting  plate has numerous holes for varius sets. Plenty of extra hardware provided. Price was about 1/8th of what it would cost on the open market. I recommend it highly.\n",
            "Nhãn dự đoán:  POSITIVE\n",
            "Nhập nhãn chính xác (POSITIVE/NEGATIVE/NEUTRAL) hoặc nhấn Enter để giữ nguyên: \n",
            "Đánh giá:  This mount is excellent. It is very well built and sturdy. I used it to mount a 32\" TV and it fit the need perfectly. The price was also very good and much, much cheaper than what an inferior mount would cost in a retail store. I would definitely recommend.\n",
            "Nhãn dự đoán:  POSITIVE\n",
            "Nhập nhãn chính xác (POSITIVE/NEGATIVE/NEUTRAL) hoặc nhấn Enter để giữ nguyên: \n",
            "Đánh giá:  Works great and is so much cheaper than the more expensive versions at the Big box stores. It is super easy to install yourself too. You just need a drill and a ratchet set to get it into the stud (oh yea a stud finder too).\n",
            "Nhãn dự đoán:  POSITIVE\n",
            "Nhập nhãn chính xác (POSITIVE/NEGATIVE/NEUTRAL) hoặc nhấn Enter để giữ nguyên: \n",
            "Đánh giá:  Cannot beat this deal anywhere else on the web!  All other retailers are over-priced for what you are getting - a couple pieces of fabricated metal to hold a TV that articulates! This mount is reasonably priced.Pros:  Easy to install (helps to have a cordless driver to drill 6 pilot holes, and to drive in 6 lag screws. You also need to have a stud finder).- Well fabricated- Mount does everything advertised (i.e. articulates - you made need to loosen up some nuts)Con's: Really stretching here since this is a good deal: Instructions could use some help for the \"novice\" DIY'ersInstall tip:  It really helps if you have a second person assisting you for the final step of mounting the flat panel to the TV mountInstalled a 15.5 lbs, 26 Inch Flat Panel LCD (VESA 200mm X 100mm) to this mount. Mount works beautifully! I originally had the TV sitting a little high on a stand, but then the picture was not as good because of the upward viewing angle of the screen (inherent problem with cheaper LCD's - not being directly in front of a LCD screen) - this mount corrected this issue by allowing me to \"tilt down\" the screen.  I would strongly recommend this mount if you are in the market.\n",
            "Nhãn dự đoán:  POSITIVE\n",
            "Nhập nhãn chính xác (POSITIVE/NEGATIVE/NEUTRAL) hoặc nhấn Enter để giữ nguyên: \n",
            "Đánh giá:  This mount is easy to install and very sturdy and is very functional and very affordable for the price. A+\n",
            "Nhãn dự đoán:  POSITIVE\n",
            "Nhập nhãn chính xác (POSITIVE/NEGATIVE/NEUTRAL) hoặc nhấn Enter để giữ nguyên: \n",
            "Đánh giá:  Works like a charm! Lies flat on the wall when I want it too and pulls out and swivels like a charm when I need it too!The instructions call for it to be mounted into a stud in the wall, however mine is mounted directly into the drywall using heavy duty anchors and it works perfect as well! This is a great product for an amazing price!\n",
            "Nhãn dự đoán:  POSITIVE\n",
            "Nhập nhãn chính xác (POSITIVE/NEGATIVE/NEUTRAL) hoặc nhấn Enter để giữ nguyên: \n",
            "Đánh giá:  Easey to put together and install. Used to mount a 37\" LED flat screen. Instuction say to mount the complete unit but if you mount the TV to the back plate on the ground first its a one person job. Well built product for being made in China.wish you could buy American made, better luck next time.\n",
            "Nhãn dự đoán:  POSITIVE\n",
            "Nhập nhãn chính xác (POSITIVE/NEGATIVE/NEUTRAL) hoặc nhấn Enter để giữ nguyên: \n",
            "Đánh giá:  I hung this in my house with great ease and it held up my 8 year old son because I wasn't going to put the 55&#34; flat screen on it to find out that it failed. Fully extends out 2 feet. This was worth the money.\n",
            "Nhãn dự đoán:  POSITIVE\n",
            "Nhập nhãn chính xác (POSITIVE/NEGATIVE/NEUTRAL) hoặc nhấn Enter để giữ nguyên: \n",
            "Đánh giá:  very secure, we did have to use concrete bolts thought since we were putting it on an outside wall made of lath and plaster with concrete brick on the outside.  One of the best features is there is one piece that attaches to the tv and another that attaches to the wall.  the piece on the tv actually hooks onto the piece on the wall.  I am really happy with this purchase.\n",
            "Nhãn dự đoán:  POSITIVE\n",
            "Nhập nhãn chính xác (POSITIVE/NEGATIVE/NEUTRAL) hoặc nhấn Enter để giữ nguyên: \n",
            "Đánh giá:  I live in a studio condo and I needed something to rotate to see from my bed and my couch on the other side of the main room. Once you figure out which instructions to use (several varieties are included to accommodate different scenarios and tvs), they are pretty thorough. Don't be afraid to tighten specific &#34;joints&#34; and loosen others to get it how you want it.Originally had bought a different one, and be careful of this, but it didn't didn't have near the amount of swing as this one does.\n",
            "Nhãn dự đoán:  POSITIVE\n",
            "Nhập nhãn chính xác (POSITIVE/NEGATIVE/NEUTRAL) hoặc nhấn Enter để giữ nguyên: \n",
            "Đánh giá:  This is the best mount I have ever found, especially for the price.Home Depot has a nearly identical mount for $90.This mount comes with every fastener you could need from Lags, Hollow Wall Anchors, Spacers, to varying lengths of Metric Fasteners to most if not all TVs.They mount easy and are sturdy; I have a 60&#34; LED TV on one without issue.I also have 32&#34;, 42&#34;, 46&#34;, and 50&#34; TVs on them; I have used these to mount every LED/LCD TV I or friends have mounted.\n",
            "Nhãn dự đoán:  POSITIVE\n",
            "Nhập nhãn chính xác (POSITIVE/NEGATIVE/NEUTRAL) hoặc nhấn Enter để giữ nguyên: \n",
            "Đánh giá:  Quality was excellent. Instructions were clear. It was not clear about a tilt feature, but there was enough to level it when I finished. Be careful to get the wall bracket real vertical. (I was using it for a 23 inch computer screen so I really need it to be level for reading.) Everything I needed plus lots of extra hardware for different situations.\n",
            "Nhãn dự đoán:  POSITIVE\n",
            "Nhập nhãn chính xác (POSITIVE/NEGATIVE/NEUTRAL) hoặc nhấn Enter để giữ nguyên: \n",
            "Đánh giá:  In the process of turning our master bedroom into a fortress of solitude for my wife, we decided to mount ourPanasonic TC-L32X2 32-Inch 720p LCD HDTVon the wall, above the dresser, to save some space. (You can never have enough dresser space for displaying tchotchkes, amirite, fellas?) My wife wanted a fixed wall mount but I thought the viewing angle required some articulation. (In hindsight, fixed would have worked, too.) This unit was highly rated and the price was right. Sold.The installation was straightforward and fairly simple. The only point at which I needed some help was in balancing the TV while I attached it to the arm; otherwise it was all me. I think it looks great; my wife says it reminds her of being in the hospital. (Sorry, Honey.) When we mount thePanasonic VIERA TC-P42S30 42-Inch 1080p Plasma HDTVin the living room, I'll definitely use a flat mount.You could spend four times this much on an articulating TV mount, but I don't see why you would.\n",
            "Nhãn dự đoán:  POSITIVE\n",
            "Nhập nhãn chính xác (POSITIVE/NEGATIVE/NEUTRAL) hoặc nhấn Enter để giữ nguyên: \n",
            "Đánh giá:  Needed a corner mounted Flatscreen. This did the job well, easy to install. I had to mount in a metal stud, so I used two support boards in the back to distribute the weight more evenly. Expectations of item met at a fraction of the cost from competitors.\n",
            "Nhãn dự đoán:  POSITIVE\n",
            "Nhập nhãn chính xác (POSITIVE/NEGATIVE/NEUTRAL) hoặc nhấn Enter để giữ nguyên: \n",
            "Đánh giá:  Amazing how easy it is to move my 46&#34; around on this mount and able to hang off one stud. Nice quality feel to metal it is made of.\n",
            "Nhãn dự đoán:  POSITIVE\n",
            "Nhập nhãn chính xác (POSITIVE/NEGATIVE/NEUTRAL) hoặc nhấn Enter để giữ nguyên: \n",
            "Đánh giá:  VERY HAPPY, it looks great, I'm so happy we got it. Holds good, it is a lil hard to get it to the wall. Other then that its fine I love how we have more room in our room. My husband is so happy I ordered this, it only cost us $28 free shipping and FAST(: VERY THANKFUL TO THE SELLER.\n",
            "Nhãn dự đoán:  POSITIVE\n",
            "Nhập nhãn chính xác (POSITIVE/NEGATIVE/NEUTRAL) hoặc nhấn Enter để giữ nguyên: \n",
            "Đánh giá:  I have a 42&#34; Hannspree LCD TV. It weighs 42.5 lbs. Most other reviews said they had a TV smaller than this so I was a little skeptical but got it because of the good price and it said it could hold 60 or so lbs. Most of my reservation was because it was the first time I've mounted a TV and worried it would fall within a week. I've had it over a month and its nice to have it be able to swing out, extend, and angle. I like the fact that I can get a bigger TV and still use this mount as its in my living room. It was not too hard to install. I bought a stud finder because I didn't have one and most everything else I already had to install it. I do highly recommend recruiting some help with the install, at least for when putting the TV on. This would be extremely hard by yourself, especially if you have a bigger TV. Overall, very happy with this mount.\n",
            "Nhãn dự đoán:  POSITIVE\n",
            "Nhập nhãn chính xác (POSITIVE/NEGATIVE/NEUTRAL) hoặc nhấn Enter để giữ nguyên: \n",
            "Đánh giá:  Installed easy and in no time at all (finding the stud was the hardest part for me).  Articulates well with the 40&#34; TV on it. I would not hesitate to look for this brand when it is time for the next TV mount.\n",
            "Nhãn dự đoán:  POSITIVE\n",
            "Nhập nhãn chính xác (POSITIVE/NEGATIVE/NEUTRAL) hoặc nhấn Enter để giữ nguyên: \n",
            "Đánh giá:  I have two of these now in different rooms. Works well with my Samsung TV'S  for the size noted above\n",
            "Nhãn dự đoán:  POSITIVE\n",
            "Nhập nhãn chính xác (POSITIVE/NEGATIVE/NEUTRAL) hoặc nhấn Enter để giữ nguyên: \n",
            "Đánh giá:  We got this one recently and its a great wall mount. The unit is pretty heavy, so you will need a helper. It also includes a variety of screws to mount also. Our TV documentation stated it was a 400x400 pattern. But after putting hte plate over the back, seems we didn't need the extra extenders as its 200x200. This is on a Samsung 40&#34; 5000 series LEDTV.The arm is hard to push and pull, but that is more due to being new and stiff. Make sure you adjust the tilt angle screws as our unit came with them loose so we had to tighten them.I initially was scared to mount it (what if it falls if I screw up!!!) but its pretty easy. Not only did i use a stud finder to get the general location of the stud, but i also used nails to get the actual edges (those basic studfinders are never &#34;exact&#34;). make sure you do the same.not bad for $30-ish\n",
            "Nhãn dự đoán:  POSITIVE\n",
            "Nhập nhãn chính xác (POSITIVE/NEGATIVE/NEUTRAL) hoặc nhấn Enter để giữ nguyên: \n",
            "Đánh giá:  I have purchased 3 of these wall mounts and they hold my 37 and 32 inch flat screens perfectly. I love these and highly recommend them.\n",
            "Nhãn dự đoán:  POSITIVE\n",
            "Nhập nhãn chính xác (POSITIVE/NEGATIVE/NEUTRAL) hoặc nhấn Enter để giữ nguyên: \n",
            "Đánh giá:  Very good item; I am happy wit it, and delivery time was excellent!!  I recomended; is a good support for your LED TV. It is easy to install, and it have extra screws for different sizes TV.\n",
            "Nhãn dự đoán:  POSITIVE\n",
            "Nhập nhãn chính xác (POSITIVE/NEGATIVE/NEUTRAL) hoặc nhấn Enter để giữ nguyên: \n",
            "Đánh giá:  This was perfect for my 24\" LED monitor, I had it up in just a few mins and with no problems.  It included a small bubble level and it also came with a 6' HDMI cable which I was not expecting.\n",
            "Nhãn dự đoán:  NEGATIVE\n",
            "Nhập nhãn chính xác (POSITIVE/NEGATIVE/NEUTRAL) hoặc nhấn Enter để giữ nguyên: POSITIVE\n",
            "Đánh giá:  Installed easily, has a nice long reach.  Attached a 32&#34; TV for the grandkids and it works out great. accomodates many different size TV's and was a very good price.\n",
            "Nhãn dự đoán:  POSITIVE\n",
            "Nhập nhãn chính xác (POSITIVE/NEGATIVE/NEUTRAL) hoặc nhấn Enter để giữ nguyên: \n",
            "Đánh giá:  For the price.....can't be beat.  I have two TV's hanging in the living room.  No issues, easy to hang.  I would recommend to a friend.\n",
            "Nhãn dự đoán:  POSITIVE\n",
            "Nhập nhãn chính xác (POSITIVE/NEGATIVE/NEUTRAL) hoặc nhấn Enter để giữ nguyên: \n",
            "Đánh giá:  Works Great. Holds my 40 inch TV effortlessly. Very well built. Definitely worth the price. Easy to install TV to the mount. Has cord clips. TV can be tilted up or down and sideways. Extends from the wall 24 inches. I highly recommend this brand..\n",
            "Nhãn dự đoán:  POSITIVE\n",
            "Nhập nhãn chính xác (POSITIVE/NEGATIVE/NEUTRAL) hoặc nhấn Enter để giữ nguyên: \n",
            "Đánh giá:  I have a 47&#34; TV and had no place to put it in my bed room. With this mount it use the space i had a poster hanging. Very easy to install, came with all hard ware.\n",
            "Nhãn dự đoán:  POSITIVE\n",
            "Nhập nhãn chính xác (POSITIVE/NEGATIVE/NEUTRAL) hoặc nhấn Enter để giữ nguyên: \n",
            "Đánh giá:  Great Mount, so many areas of articulation. This was a great gift idea my mother loves it. I have purchased two of them and they are sturdy and give a touch of class to every room you put them in. A must have any video file or those who want to save space in a bedroom or office.\n",
            "Nhãn dự đoán:  POSITIVE\n",
            "Nhập nhãn chính xác (POSITIVE/NEGATIVE/NEUTRAL) hoặc nhấn Enter để giữ nguyên: \n",
            "Đánh giá:  This is perfect for what I needed it for. I can move the screen from side to side if I need to and I don't have the TV sitting on my desk.....\n",
            "Nhãn dự đoán:  POSITIVE\n",
            "Nhập nhãn chính xác (POSITIVE/NEGATIVE/NEUTRAL) hoặc nhấn Enter để giữ nguyên: \n",
            "Đánh giá:  have not had the opportunity to install the tv mount as of yet - will follow up once mounted in place. great price and quick shipping\n",
            "Nhãn dự đoán:  POSITIVE\n",
            "Nhập nhãn chính xác (POSITIVE/NEGATIVE/NEUTRAL) hoặc nhấn Enter để giữ nguyên: \n",
            "Đánh giá:  Normal product.\n",
            "Nhãn dự đoán:  NEUTRAL\n",
            "Nhập nhãn chính xác (POSITIVE/NEGATIVE/NEUTRAL) hoặc nhấn Enter để giữ nguyên: \n",
            "Đánh giá:  The product has a simple design, not too outstanding but still suitable for daily use.\n",
            "Nhãn dự đoán:  NEGATIVE\n",
            "Nhập nhãn chính xác (POSITIVE/NEGATIVE/NEUTRAL) hoặc nhấn Enter để giữ nguyên: NEUTRAL\n",
            "Đánh giá:  The performance of the device is not too fast, but still enough to handle basic tasks stably.\n",
            "Nhãn dự đoán:  NEUTRAL\n",
            "Nhập nhãn chính xác (POSITIVE/NEGATIVE/NEUTRAL) hoặc nhấn Enter để giữ nguyên: \n",
            "Đánh giá:  The battery is enough to last a day with average use, but if you use it more, you will need to charge it further.\n",
            "Nhãn dự đoán:  NEUTRAL\n",
            "Nhập nhãn chính xác (POSITIVE/NEGATIVE/NEUTRAL) hoặc nhấn Enter để giữ nguyên: \n",
            "Đánh giá:  The camera takes good photos in bright enough conditions, but is not so impressive in low light conditions.\n",
            "Nhãn dự đoán:  NEGATIVE\n",
            "Nhập nhãn chính xác (POSITIVE/NEGATIVE/NEUTRAL) hoặc nhấn Enter để giữ nguyên: NEUTRAL\n",
            "Đánh giá:  The price of the product is at an acceptable level, not too cheap but not too expensive compared to other products in the same segment.\n",
            "Nhãn dự đoán:  POSITIVE\n",
            "Nhập nhãn chính xác (POSITIVE/NEGATIVE/NEUTRAL) hoặc nhấn Enter để giữ nguyên: NEUTRAL\n",
            "Đánh giá:  The sound quality is good, not too outstanding but enough to serve basic entertainment needs.\n",
            "Nhãn dự đoán:  POSITIVE\n",
            "Nhập nhãn chính xác (POSITIVE/NEGATIVE/NEUTRAL) hoặc nhấn Enter để giữ nguyên: NEUTRAL\n",
            "Đánh giá:  The device is compatible with many applications, but does not have many special features compared to previous versions.\n",
            "Nhãn dự đoán:  NEGATIVE\n",
            "Nhập nhãn chính xác (POSITIVE/NEGATIVE/NEUTRAL) hoặc nhấn Enter để giữ nguyên: NEUTRAL\n",
            "Đánh giá:  The display is clear, the colors are relatively good but not too bright.\n",
            "Nhãn dự đoán:  NEGATIVE\n",
            "Nhập nhãn chính xác (POSITIVE/NEGATIVE/NEUTRAL) hoặc nhấn Enter để giữ nguyên: NEUTRAL\n",
            "Đánh giá:  The weight of the product is moderate, not too heavy but not super light either.\n",
            "Nhãn dự đoán:  NEGATIVE\n",
            "Nhập nhãn chính xác (POSITIVE/NEGATIVE/NEUTRAL) hoặc nhấn Enter để giữ nguyên: NEUTRAL\n",
            "Đánh giá:  The product works stably, although it does not have too many outstanding points, it meets the basic needs of users.\n",
            "Nhãn dự đoán:  POSITIVE\n",
            "Nhập nhãn chính xác (POSITIVE/NEGATIVE/NEUTRAL) hoặc nhấn Enter để giữ nguyên: NEUTRAL\n",
            "Đánh giá:  The product is average for me. Not too outstanding, not too bad either.\n",
            "Nhãn dự đoán:  NEGATIVE\n",
            "Nhập nhãn chính xác (POSITIVE/NEGATIVE/NEUTRAL) hoặc nhấn Enter để giữ nguyên: NEUTRAL\n",
            "Đánh giá:  The battery is not too good but not too bad for long use during the day.\n",
            "Nhãn dự đoán:  POSITIVE\n",
            "Nhập nhãn chính xác (POSITIVE/NEGATIVE/NEUTRAL) hoặc nhấn Enter để giữ nguyên: NEUTRAL\n",
            "Đánh giá:  The price of iPhone 16 is too high and difficult to access for many people.\n",
            "Nhãn dự đoán:  NEGATIVE\n",
            "Nhập nhãn chính xác (POSITIVE/NEGATIVE/NEUTRAL) hoặc nhấn Enter để giữ nguyên: \n",
            "Đánh giá:  The camera doesn't really stand out compared to Android competitors in the same segment.\n",
            "Nhãn dự đoán:  NEUTRAL\n",
            "Nhập nhãn chính xác (POSITIVE/NEGATIVE/NEUTRAL) hoặc nhấn Enter để giữ nguyên: NEGATIVE\n",
            "Đánh giá:  I don't like it because it gets too hot when used for a long time or playing heavy games.\n",
            "Nhãn dự đoán:  NEGATIVE\n",
            "Nhập nhãn chính xác (POSITIVE/NEGATIVE/NEUTRAL) hoặc nhấn Enter để giữ nguyên: \n",
            "Đánh giá:  Not many attractive color options. Disappointing.\n",
            "Nhãn dự đoán:  NEGATIVE\n",
            "Nhập nhãn chính xác (POSITIVE/NEGATIVE/NEUTRAL) hoặc nhấn Enter để giữ nguyên: \n",
            "Đánh giá:  I'm not happy because the Camera doesn't have a good optical zoom feature like some Android competitors.\n",
            "Nhãn dự đoán:  NEGATIVE\n",
            "Nhập nhãn chính xác (POSITIVE/NEGATIVE/NEUTRAL) hoặc nhấn Enter để giữ nguyên: \n",
            "Đánh giá:  Even though 5G is available, network performance is not good in some areas.\n",
            "Nhãn dự đoán:  NEGATIVE\n",
            "Nhập nhãn chính xác (POSITIVE/NEGATIVE/NEUTRAL) hoặc nhấn Enter để giữ nguyên: \n",
            "Đánh giá:  The quality of the speakerphone is not really good, the sound is distorted when turned on loudly.\n",
            "Nhãn dự đoán:  NEGATIVE\n",
            "Nhập nhãn chính xác (POSITIVE/NEGATIVE/NEUTRAL) hoặc nhấn Enter để giữ nguyên: \n",
            "Đánh giá:  Wi-Fi reception is not good compared to competitors in the same segment.\n",
            "Nhãn dự đoán:  NEGATIVE\n",
            "Nhập nhãn chính xác (POSITIVE/NEGATIVE/NEUTRAL) hoặc nhấn Enter để giữ nguyên: \n",
            "Đánh giá:  I don't appreciate it because it takes quite a long time to fully charge if I don't use fast charging.\n",
            "Nhãn dự đoán:  NEGATIVE\n",
            "Nhập nhãn chính xác (POSITIVE/NEGATIVE/NEUTRAL) hoặc nhấn Enter để giữ nguyên: \n",
            "Đánh giá:  There has been no major innovation in wireless charging technology.\n",
            "Nhãn dự đoán:  POSITIVE\n",
            "Nhập nhãn chính xác (POSITIVE/NEGATIVE/NEUTRAL) hoặc nhấn Enter để giữ nguyên: NEGATIVE\n",
            "Đánh giá:  The product is not suitable for users who prefer compact devices.\n",
            "Nhãn dự đoán:  NEUTRAL\n",
            "Nhập nhãn chính xác (POSITIVE/NEGATIVE/NEUTRAL) hoặc nhấn Enter để giữ nguyên: NEGATIVE\n",
            "Đánh giá:  I don't rate it highly because it doesn't have many significant improvements.\n",
            "Nhãn dự đoán:  POSITIVE\n",
            "Nhập nhãn chính xác (POSITIVE/NEGATIVE/NEUTRAL) hoặc nhấn Enter để giữ nguyên: NEGATIVE\n",
            "Đánh giá:  The product is so bad.\n",
            "Nhãn dự đoán:  NEGATIVE\n",
            "Nhập nhãn chính xác (POSITIVE/NEGATIVE/NEUTRAL) hoặc nhấn Enter để giữ nguyên: \n",
            "Đánh giá:  I am very disappointed with the shipping service.\n",
            "Nhãn dự đoán:  NEGATIVE\n",
            "Nhập nhãn chính xác (POSITIVE/NEGATIVE/NEUTRAL) hoặc nhấn Enter để giữ nguyên: \n",
            "Đánh giá:  I was very disappointed when I received the product.\n",
            "Nhãn dự đoán:  NEGATIVE\n",
            "Nhập nhãn chính xác (POSITIVE/NEGATIVE/NEUTRAL) hoặc nhấn Enter để giữ nguyên: \n",
            "Đánh giá:  Shipping is quite slow, I'm not satisfied.\n",
            "Nhãn dự đoán:  NEGATIVE\n",
            "Nhập nhãn chính xác (POSITIVE/NEGATIVE/NEUTRAL) hoặc nhấn Enter để giữ nguyên: \n",
            "Đánh giá:  The product is not outstanding.\n",
            "Nhãn dự đoán:  NEGATIVE\n",
            "Nhập nhãn chính xác (POSITIVE/NEGATIVE/NEUTRAL) hoặc nhấn Enter để giữ nguyên: \n",
            "HOÀN TẤT KIỂM TRA VÀ CHỈNH SỬA NHÃN DỮ LIỆU!\n"
          ]
        }
      ]
    },
    {
      "cell_type": "code",
      "source": [
        "# Tách từ\n",
        "import nltk\n",
        "from nltk.tokenize import word_tokenize\n",
        "nltk.download('punkt_tab')\n",
        "\n",
        "# Kiểm tra xem cột 'COMMENT' có tồn tại không\n",
        "if 'COMMENT' in df.columns:\n",
        "    # Tách từ cho từng hàng trong cột 'COMMENT'\n",
        "    df['tokenized'] = df['COMMENT'].apply(word_tokenize)\n",
        "\n",
        "    # Hiển thị DataFrame với cột mới chứa từ đã tách\n",
        "    print(df[['tokenized']].head(10))\n",
        "else:\n",
        "    print(\"Cột 'COMMENT' không tồn tại trong DataFrame.\")\n"
      ],
      "metadata": {
        "id": "-mwkVsNQIUbO",
        "colab": {
          "base_uri": "https://localhost:8080/"
        },
        "outputId": "d9058cc8-03dc-4218-912d-bd6fb1b0495f"
      },
      "execution_count": null,
      "outputs": [
        {
          "output_type": "stream",
          "name": "stderr",
          "text": [
            "[nltk_data] Downloading package punkt_tab to /root/nltk_data...\n"
          ]
        },
        {
          "output_type": "stream",
          "name": "stdout",
          "text": [
            "                                                                                                                          tokenized\n",
            "0                             [The, camera, takes, very, good, photos, ,, especially, the, night, mode, produces, sharp, images, .]\n",
            "1                                     [The, device, has, good, compatibility, with, third-party, applications, and, accessories, .]\n",
            "2                      [High, quality, glass, and, metal, materials, ,, very, good, ,, giving, a, solid, feeling, when, holding, .]\n",
            "3                        [The, sound, quality, is, very, good, ,, stereo, speakers, for, a, great, music, listening, experience, .]\n",
            "4                                               [Face, ID, feature, is, very, good, ,, faster, and, more, accurate, recognition, .]\n",
            "5          [Charging, speed, is, fast, and, standard, ,, it, only, takes, less, than, an, hour, to, fully, charge, the, battery, .]\n",
            "6         [Very, good, and, powerful, performance, with, the, A18, Bionic, chip, ,, quickly, handling, all, tasks, without, lag, .]\n",
            "7  [The, design, of, iPhone, 16, is, truly, beautiful, ,, luxurious, and, sophisticated, ,, very, worthy, of, the, Apple, brand, .]\n",
            "8                                                       [Call, quality, is, good, ,, sound, is, clear, ,, without, interruption, .]\n",
            "9                                      [The, device, is, very, light, and, thin, ,, convenient, and, easy, to, carry, with, you, .]\n"
          ]
        },
        {
          "output_type": "stream",
          "name": "stderr",
          "text": [
            "[nltk_data]   Unzipping tokenizers/punkt_tab.zip.\n"
          ]
        }
      ]
    },
    {
      "cell_type": "code",
      "source": [
        "# Lọc từ dừng\n",
        "import nltk\n",
        "nltk.download('stopwords')\n",
        "from nltk.corpus import stopwords\n",
        "\n",
        "# Tạo danh sách từ dừng tiếng Anh từ NLTK\n",
        "english_stopwords = set(stopwords.words('english'))\n",
        "\n",
        "# Lọc từ dừng cho tiếng Anh trong cột 'tokenized'\n",
        "df['filtered'] = df['tokenized'].apply(lambda tokens: [w for w in tokens if w.lower() not in english_stopwords])\n",
        "\n",
        "# Hiển thị DataFrame với các cột đã xử lý\n",
        "print(df[['filtered']].head(10))\n"
      ],
      "metadata": {
        "id": "bOaFN55pIZ_8",
        "colab": {
          "base_uri": "https://localhost:8080/"
        },
        "outputId": "b09c9bae-dcb1-43c5-fa64-6a0598fcebec",
        "collapsed": true
      },
      "execution_count": null,
      "outputs": [
        {
          "output_type": "stream",
          "name": "stderr",
          "text": [
            "[nltk_data] Downloading package stopwords to /root/nltk_data...\n"
          ]
        },
        {
          "output_type": "stream",
          "name": "stdout",
          "text": [
            "                                                                                          filtered\n",
            "0            [camera, takes, good, photos, ,, especially, night, mode, produces, sharp, images, .]\n",
            "1                         [device, good, compatibility, third-party, applications, accessories, .]\n",
            "2         [High, quality, glass, metal, materials, ,, good, ,, giving, solid, feeling, holding, .]\n",
            "3              [sound, quality, good, ,, stereo, speakers, great, music, listening, experience, .]\n",
            "4                                   [Face, ID, feature, good, ,, faster, accurate, recognition, .]\n",
            "5               [Charging, speed, fast, standard, ,, takes, less, hour, fully, charge, battery, .]\n",
            "6   [good, powerful, performance, A18, Bionic, chip, ,, quickly, handling, tasks, without, lag, .]\n",
            "7  [design, iPhone, 16, truly, beautiful, ,, luxurious, sophisticated, ,, worthy, Apple, brand, .]\n",
            "8                              [Call, quality, good, ,, sound, clear, ,, without, interruption, .]\n",
            "9                                             [device, light, thin, ,, convenient, easy, carry, .]\n"
          ]
        },
        {
          "output_type": "stream",
          "name": "stderr",
          "text": [
            "[nltk_data]   Unzipping corpora/stopwords.zip.\n"
          ]
        }
      ]
    },
    {
      "cell_type": "code",
      "source": [
        "\n",
        "# Chuyển về dạng chữ thường\n",
        "df['lowercase'] = df['filtered'].apply(lambda tokens: [word.lower() for word in tokens])\n",
        "# Hiển thị DataFrame với cột mới chứa từ đã chuyển về chữ thường\n",
        "print(df[['lowercase']].head(10))"
      ],
      "metadata": {
        "id": "vJSdMFC0IayJ",
        "colab": {
          "base_uri": "https://localhost:8080/"
        },
        "outputId": "7ab0061b-a41c-48fa-cb66-d3ef6e1a7c9c",
        "collapsed": true
      },
      "execution_count": null,
      "outputs": [
        {
          "output_type": "stream",
          "name": "stdout",
          "text": [
            "                                                                                         lowercase\n",
            "0            [camera, takes, good, photos, ,, especially, night, mode, produces, sharp, images, .]\n",
            "1                         [device, good, compatibility, third-party, applications, accessories, .]\n",
            "2         [high, quality, glass, metal, materials, ,, good, ,, giving, solid, feeling, holding, .]\n",
            "3              [sound, quality, good, ,, stereo, speakers, great, music, listening, experience, .]\n",
            "4                                   [face, id, feature, good, ,, faster, accurate, recognition, .]\n",
            "5               [charging, speed, fast, standard, ,, takes, less, hour, fully, charge, battery, .]\n",
            "6   [good, powerful, performance, a18, bionic, chip, ,, quickly, handling, tasks, without, lag, .]\n",
            "7  [design, iphone, 16, truly, beautiful, ,, luxurious, sophisticated, ,, worthy, apple, brand, .]\n",
            "8                              [call, quality, good, ,, sound, clear, ,, without, interruption, .]\n",
            "9                                             [device, light, thin, ,, convenient, easy, carry, .]\n"
          ]
        }
      ]
    },
    {
      "cell_type": "code",
      "source": [
        "# Chuyển từ về gốc\n",
        "import pandas as pd\n",
        "import nltk\n",
        "from nltk.stem import PorterStemmer, WordNetLemmatizer\n",
        "from nltk.corpus import wordnet, stopwords\n",
        "nltk.download('averaged_perceptron_tagger')\n",
        "# Tải dữ liệu cần thiết từ NLTK nếu chưa có\n",
        "nltk.download('wordnet')\n",
        "nltk.download('omw-1.4')\n",
        "nltk.download('punkt')\n",
        "nltk.download('stopwords')\n",
        "nltk.download('averaged_perceptron_tagger_eng')\n",
        "\n",
        "# Khởi tạo các công cụ cần thiết\n",
        "stemmer_en = PorterStemmer()\n",
        "lemmatizer = WordNetLemmatizer()\n",
        "stop_words = set(stopwords.words('english'))\n",
        "\n",
        "# Hàm hỗ trợ xác định loại từ cho lemmatizer\n",
        "def get_wordnet_pos(word):\n",
        "    tag = nltk.pos_tag([word])[0][1][0].upper()\n",
        "    tag_dict = {\"J\": wordnet.ADJ, \"N\": wordnet.NOUN, \"V\": wordnet.VERB, \"R\": wordnet.ADV}\n",
        "    return tag_dict.get(tag, wordnet.NOUN)\n",
        "\n",
        "# Hàm tách từ, chuyển về chữ thường và lọc từ dừng\n",
        "def preprocess_text(text):\n",
        "    tokens = nltk.word_tokenize(text.lower())  # Tách từ và chuyển về chữ thường\n",
        "    filtered_tokens = [word for word in tokens if word not in stop_words]  # Lọc từ dừng\n",
        "    return filtered_tokens\n",
        "\n",
        "# Hàm chuyển từ về gốc cho tiếng Anh bằng Stemming\n",
        "def stemming_words(tokens):\n",
        "    return [stemmer_en.stem(word) for word in tokens]\n",
        "\n",
        "# Hàm chuyển từ về gốc cho tiếng Anh bằng Lemmatization\n",
        "def lemmatize_words(tokens):\n",
        "    return [lemmatizer.lemmatize(word, pos=get_wordnet_pos(word)) for word in tokens]\n",
        "\n",
        "# Đọc dữ liệu từ file CSV (đảm bảo đường dẫn chính xác)\n",
        "file_path = '/content/drive/MyDrive/ForColab/dataenglish.csv'  # Thay thế đường dẫn file chính xác\n",
        "try:\n",
        "    df = pd.read_csv(file_path)\n",
        "    print(\"Dữ liệu đã tải thành công.\")\n",
        "except FileNotFoundError:\n",
        "    print(\"Không tìm thấy file. Vui lòng kiểm tra lại đường dẫn.\")\n",
        "except Exception as e:\n",
        "    print(\"Lỗi khi tải dữ liệu:\", e)\n",
        "\n",
        "# Xác nhận rằng cột 'COMMENT' có tồn tại\n",
        "if 'COMMENT' in df.columns:\n",
        "    # Áp dụng quy trình xử lý văn bản\n",
        "    df['filtered'] = df['COMMENT'].apply(preprocess_text)       # Tách từ, chuyển về chữ thường và lọc từ dừng\n",
        "    df['stemmed'] = df['filtered'].apply(stemming_words)        # Chuyển về gốc từ bằng Stemming, cột 'stemmed' chứa từ gốc đơn giản hóa (stemming).\n",
        "    df['lemmatized'] = df['filtered'].apply(lemmatize_words)    # Chuyển về gốc từ bằng Lemmatization, cột 'lemmatized' chứa từ về nguyên mẫu ngữ pháp (lemmatization).\n",
        "\n",
        "    # Hiển thị 50 dòng đầu tiên của DataFrame với các cột đã xử lý\n",
        "    print(df[['stemmed', 'lemmatized']].head(10))\n",
        "else:\n",
        "    print(\"Cột 'COMMENT' không tồn tại trong dữ liệu.\")\n",
        "\n"
      ],
      "metadata": {
        "colab": {
          "base_uri": "https://localhost:8080/"
        },
        "id": "YM33R2tqk9cN",
        "outputId": "1d3d40fe-6881-44c4-ff0f-5ffc818f00c3",
        "collapsed": true
      },
      "execution_count": null,
      "outputs": [
        {
          "output_type": "stream",
          "name": "stderr",
          "text": [
            "[nltk_data] Downloading package averaged_perceptron_tagger to\n",
            "[nltk_data]     /root/nltk_data...\n",
            "[nltk_data]   Unzipping taggers/averaged_perceptron_tagger.zip.\n",
            "[nltk_data] Downloading package wordnet to /root/nltk_data...\n",
            "[nltk_data] Downloading package omw-1.4 to /root/nltk_data...\n",
            "[nltk_data] Downloading package punkt to /root/nltk_data...\n",
            "[nltk_data]   Unzipping tokenizers/punkt.zip.\n",
            "[nltk_data] Downloading package stopwords to /root/nltk_data...\n",
            "[nltk_data]   Package stopwords is already up-to-date!\n",
            "[nltk_data] Downloading package averaged_perceptron_tagger_eng to\n",
            "[nltk_data]     /root/nltk_data...\n",
            "[nltk_data]   Unzipping taggers/averaged_perceptron_tagger_eng.zip.\n"
          ]
        },
        {
          "output_type": "stream",
          "name": "stdout",
          "text": [
            "Dữ liệu đã tải thành công.\n",
            "                                                                               stemmed  \\\n",
            "0          [camera, take, good, photo, ,, especi, night, mode, produc, sharp, imag, .]   \n",
            "1                             [devic, good, compat, third-parti, applic, accessori, .]   \n",
            "2        [high, qualiti, glass, metal, materi, ,, good, ,, give, solid, feel, hold, .]   \n",
            "3          [sound, qualiti, good, ,, stereo, speaker, great, music, listen, experi, .]   \n",
            "4                              [face, id, featur, good, ,, faster, accur, recognit, .]   \n",
            "5        [charg, speed, fast, standard, ,, take, less, hour, fulli, charg, batteri, .]   \n",
            "6  [good, power, perform, a18, bionic, chip, ,, quickli, handl, task, without, lag, .]   \n",
            "7    [design, iphon, 16, truli, beauti, ,, luxuri, sophist, ,, worthi, appl, brand, .]   \n",
            "8                     [call, qualiti, good, ,, sound, clear, ,, without, interrupt, .]   \n",
            "9                                     [devic, light, thin, ,, conveni, easi, carri, .]   \n",
            "\n",
            "                                                                                        lemmatized  \n",
            "0                [camera, take, good, photo, ,, especially, night, mode, produce, sharp, image, .]  \n",
            "1                            [device, good, compatibility, third-party, application, accessory, .]  \n",
            "2                  [high, quality, glass, metal, material, ,, good, ,, give, solid, feel, hold, .]  \n",
            "3                  [sound, quality, good, ,, stereo, speaker, great, music, listen, experience, .]  \n",
            "4                                   [face, id, feature, good, ,, faster, accurate, recognition, .]  \n",
            "5                  [charge, speed, fast, standard, ,, take, less, hour, fully, charge, battery, .]  \n",
            "6      [good, powerful, performance, a18, bionic, chip, ,, quickly, handle, task, without, lag, .]  \n",
            "7  [design, iphone, 16, truly, beautiful, ,, luxurious, sophisticated, ,, worthy, apple, brand, .]  \n",
            "8                              [call, quality, good, ,, sound, clear, ,, without, interruption, .]  \n",
            "9                                             [device, light, thin, ,, convenient, easy, carry, .]  \n"
          ]
        }
      ]
    },
    {
      "cell_type": "code",
      "source": [
        "# So sánh kết quả trước và sau Stemming và Lemmatization\n",
        "comparison = df[['COMMENT', 'filtered', 'stemmed', 'lemmatized']].head(5)\n",
        "for index, row in comparison.iterrows():\n",
        "    print(f\"Original: {row['COMMENT']}\")\n",
        "    print(f\"Filtered: {row['filtered']}\")\n",
        "    print(f\"Stemmed: {row['stemmed']}\")\n",
        "    print(f\"Lemmatized: {row['lemmatized']}\")\n",
        "    print(\"----\")"
      ],
      "metadata": {
        "colab": {
          "base_uri": "https://localhost:8080/"
        },
        "id": "ncgTeS2CPRSB",
        "outputId": "f98cc802-9180-42a5-f799-c45c70cb6610",
        "collapsed": true
      },
      "execution_count": null,
      "outputs": [
        {
          "output_type": "stream",
          "name": "stdout",
          "text": [
            "Original: The camera takes very good photos, especially the night mode produces sharp images.\n",
            "Filtered: ['camera', 'takes', 'good', 'photos', ',', 'especially', 'night', 'mode', 'produces', 'sharp', 'images', '.']\n",
            "Stemmed: ['camera', 'take', 'good', 'photo', ',', 'especi', 'night', 'mode', 'produc', 'sharp', 'imag', '.']\n",
            "Lemmatized: ['camera', 'take', 'good', 'photo', ',', 'especially', 'night', 'mode', 'produce', 'sharp', 'image', '.']\n",
            "----\n",
            "Original: The device has good compatibility with third-party applications and accessories.\n",
            "Filtered: ['device', 'good', 'compatibility', 'third-party', 'applications', 'accessories', '.']\n",
            "Stemmed: ['devic', 'good', 'compat', 'third-parti', 'applic', 'accessori', '.']\n",
            "Lemmatized: ['device', 'good', 'compatibility', 'third-party', 'application', 'accessory', '.']\n",
            "----\n",
            "Original: High quality glass and metal materials, very good, giving a solid feeling when holding.\n",
            "Filtered: ['high', 'quality', 'glass', 'metal', 'materials', ',', 'good', ',', 'giving', 'solid', 'feeling', 'holding', '.']\n",
            "Stemmed: ['high', 'qualiti', 'glass', 'metal', 'materi', ',', 'good', ',', 'give', 'solid', 'feel', 'hold', '.']\n",
            "Lemmatized: ['high', 'quality', 'glass', 'metal', 'material', ',', 'good', ',', 'give', 'solid', 'feel', 'hold', '.']\n",
            "----\n",
            "Original: The sound quality is very good, stereo speakers for a great music listening experience.\n",
            "Filtered: ['sound', 'quality', 'good', ',', 'stereo', 'speakers', 'great', 'music', 'listening', 'experience', '.']\n",
            "Stemmed: ['sound', 'qualiti', 'good', ',', 'stereo', 'speaker', 'great', 'music', 'listen', 'experi', '.']\n",
            "Lemmatized: ['sound', 'quality', 'good', ',', 'stereo', 'speaker', 'great', 'music', 'listen', 'experience', '.']\n",
            "----\n",
            "Original: Face ID feature is very good, faster and more accurate recognition.\n",
            "Filtered: ['face', 'id', 'feature', 'good', ',', 'faster', 'accurate', 'recognition', '.']\n",
            "Stemmed: ['face', 'id', 'featur', 'good', ',', 'faster', 'accur', 'recognit', '.']\n",
            "Lemmatized: ['face', 'id', 'feature', 'good', ',', 'faster', 'accurate', 'recognition', '.']\n",
            "----\n"
          ]
        }
      ]
    },
    {
      "cell_type": "code",
      "source": [
        "# Vector hóa văn bản (Text Vectorization)\n",
        "import pandas as pd\n",
        "from gensim.models import Word2Vec\n",
        "import numpy as np\n",
        "\n",
        "# Chuẩn bị dữ liệu cho Word2Vec\n",
        "sentences = df['lemmatized'].tolist()  # Danh sách các câu, mỗi câu là một danh sách từ\n",
        "\n",
        "# Huấn luyện mô hình Word2Vec\n",
        "# Tham số:\n",
        "# - vector_size: Kích thước của vector biểu diễn từ\n",
        "# - window: Kích thước của ngữ cảnh xung quanh từ đang xét\n",
        "# - min_count: Bỏ qua các từ xuất hiện ít hơn số lần này\n",
        "# - sg: 1 để sử dụng Skip-gram, 0 để dùng CBOW\n",
        "w2v_model = Word2Vec(sentences, vector_size=100, window=5, min_count=1, sg=1)\n",
        "\n",
        "# Hàm để chuyển câu thành vector với các giá trị khác 0\n",
        "def sentence_to_vector_nonzero(sentence, model):\n",
        "    vectors = [model.wv[word] for word in sentence if word in model.wv]\n",
        "    if not vectors:\n",
        "        return []  # Nếu không có từ nào trong mô hình, trả về danh sách rỗng\n",
        "    mean_vector = np.mean(vectors, axis=0)\n",
        "    return mean_vector[mean_vector != 0].tolist()  # Chỉ giữ các phần tử khác 0\n",
        "\n",
        "# Vector hóa các câu trong cột 'lemmatized'\n",
        "df['vectorized'] = df['lemmatized'].apply(lambda sentence: sentence_to_vector_nonzero(sentence, w2v_model))\n",
        "\n",
        "# Hiển thị DataFrame với các cột đã xử lý\n",
        "print(df[['lemmatized', 'vectorized']].head())\n"
      ],
      "metadata": {
        "colab": {
          "base_uri": "https://localhost:8080/"
        },
        "id": "9vOF9DUm72dH",
        "outputId": "64946aeb-b403-4bb5-d857-da2591ce8247"
      },
      "execution_count": null,
      "outputs": [
        {
          "output_type": "stream",
          "name": "stdout",
          "text": [
            "                                                                          lemmatized  \\\n",
            "0  [camera, take, good, photo, ,, especially, night, mode, produce, sharp, image, .]   \n",
            "1              [device, good, compatibility, third-party, application, accessory, .]   \n",
            "2    [high, quality, glass, metal, material, ,, good, ,, give, solid, feel, hold, .]   \n",
            "3    [sound, quality, good, ,, stereo, speaker, great, music, listen, experience, .]   \n",
            "4                     [face, id, feature, good, ,, faster, accurate, recognition, .]   \n",
            "\n",
            "                                                                                                                                                                                                                                                                                                                                                                                                                                                                                                                                                                                                                                                                                                                                                                                                                                                                                                                                                                                                                                                                                                                                                                                                                                                                                                                                                                                                                                                                                                                                                                                                                                                                                                                                                                                                                                                                                                                                                                                                                                                                                                                                                                                                                                                                                                                               vectorized  \n",
            "0  [-0.02010629139840603, 0.023488784208893776, -0.00038811934064142406, 0.0065128374844789505, 0.0016632803017273545, -0.04839501902461052, 0.01159696001559496, 0.0527089424431324, -0.029839634895324707, -0.02268717996776104, -0.015523704700171947, -0.01773936301469803, -0.018751895055174828, 0.0017291918629780412, 0.012228953652083874, -0.020031685009598732, -0.0005155371618457139, -0.026673823595046997, -0.0046219658106565475, -0.06039269641041756, 0.0006693049217574298, 0.018700219690799713, 0.016702057793736458, -0.010035742074251175, 0.009556018747389317, 0.007901612669229507, -0.02167779766023159, -0.023036181926727295, -0.013102925382554531, -0.00012059990694979206, 0.018210217356681824, 0.021165117621421814, 0.003355773165822029, -0.020103612914681435, -0.023178348317742348, 0.04339331388473511, 0.003046231111511588, -0.017248103395104408, -0.012699398212134838, -0.04794846847653389, -0.0025981012731790543, -0.028189321979880333, -0.001986188581213355, -0.006303786765784025, 0.016256650909781456, -0.0039832741022109985, -0.0030780769884586334, 0.003984205890446901, 0.02438005991280079, 0.015203791670501232, 0.012264634482562542, -0.022712066769599915, -0.009206476621329784, 0.006597666535526514, -0.021345363929867744, 0.005978859961032867, 0.018169226124882698, -0.005583910271525383, -0.02578781545162201, 0.011830846779048443, 0.014683700166642666, 0.010969175957143307, -0.0026641215663403273, -0.0285154078155756, -0.04176616296172142, 0.004397114738821983, 0.03059650957584381, 0.023797182366251945, -0.04508841410279274, 0.017962636426091194, -0.017764395102858543, 0.021347330883145332, 0.039066702127456665, -0.006537692155689001, 0.015207954682409763, 0.014783496968448162, 0.0051575168035924435, 0.0005562765873037279, -0.023664796724915504, 0.003887418657541275, -0.011441347189247608, -0.012518520466983318, -0.031223395839333534, 0.033594463020563126, -0.008231446146965027, -0.005843352992087603, -0.0047174072824418545, 0.03161396458745003, 0.02351316809654236, -0.007003240752965212, 0.030459053814411163, 0.030210142955183983, 0.013297838158905506, 0.024977346882224083, 0.04661588743329048, 0.02849244885146618, 0.009909776039421558, -0.024162957444787025, -0.0013594321208074689, -0.00887156743556261]  \n",
            "1                      [-0.016174370422959328, 0.025305915623903275, -0.000946603890042752, 0.005119683686643839, 0.0015256359474733472, -0.04787198454141617, 0.013437839224934578, 0.05545246601104736, -0.03551606088876724, -0.023930247873067856, -0.013500469736754894, -0.02322576381266117, -0.016894152387976646, 0.0010797817958518863, 0.011072876863181591, -0.02175520919263363, 0.000703805242665112, -0.03290291503071785, -0.005664210766553879, -0.06904827058315277, 0.004151288885623217, 0.02580292895436287, 0.01876014471054077, -0.012625415809452534, 0.007837207056581974, 0.006958145182579756, -0.025019416585564613, -0.028347691521048546, -0.01404414139688015, -0.001820145407691598, 0.01596314087510109, 0.019221674650907516, 0.006256935652345419, -0.020836535841226578, -0.021076787263154984, 0.0491638258099556, 0.0036857984960079193, -0.022886160761117935, -0.018586380407214165, -0.05036449804902077, 0.00022933140280656517, -0.027738945558667183, -0.0015392664354294538, -0.003867511870339513, 0.020773740485310555, -0.00258364574983716, -0.0027462404686957598, 0.004120694939047098, 0.025559553876519203, 0.016898712143301964, 0.007648996077477932, -0.023989876732230186, -0.011816301383078098, 0.008118919096887112, -0.017141234129667282, 0.005174944642931223, 0.02170577459037304, -0.006774519104510546, -0.024967653676867485, 0.01064254529774189, 0.02007490210235119, 0.016435524448752403, -0.00468007568269968, -0.02973617985844612, -0.04498850926756859, 0.007016104646027088, 0.029266387224197388, 0.02583363652229309, -0.04696530103683472, 0.021011507138609886, -0.01985357142984867, 0.025297166779637337, 0.04262172803282738, -0.008278525434434414, 0.01335952989757061, 0.015698352828621864, 0.005302343051880598, 0.0014326751697808504, -0.028218915686011314, 0.006427060812711716, -0.010995561257004738, -0.014469502493739128, -0.032635398209095, 0.038244638592004776, -0.008745419792830944, -0.004720580298453569, -0.0022696389351040125, 0.034787796437740326, 0.022261938080191612, -0.004283039830625057, 0.035848718136548996, 0.032269690185785294, 0.012304012663662434, 0.03022848442196846, 0.05225023999810219, 0.030974937602877617, 0.012529364787042141, -0.024717891588807106, -0.003178277751430869, -0.00696587236598134]  \n",
            "2                       [-0.02239437773823738, 0.03096075914800167, -0.00021407398162409663, 0.008856158703565598, 0.0062638274393975735, -0.0588400773704052, 0.01411735825240612, 0.0694560632109642, -0.03553839027881622, -0.029097653925418854, -0.01661320962011814, -0.02964288741350174, -0.02119320258498192, 0.0011505333241075277, 0.01336243748664856, -0.02539079077541828, 0.0013747077900916338, -0.037813451141119, -0.008277400396764278, -0.07462627440690994, 0.0033369760494679213, 0.025871790945529938, 0.01780647039413452, -0.015363777056336403, 0.012489691376686096, 0.009812548756599426, -0.028214646503329277, -0.027356985956430435, -0.019237268716096878, 0.0027097740676254034, 0.022470690310001373, 0.021836064755916595, 0.003884232370182872, -0.02614617720246315, -0.02677186205983162, 0.053845107555389404, 0.0063625723123550415, -0.02356858178973198, -0.016757572069764137, -0.05790160223841667, 0.00019328374764882028, -0.032801009714603424, -0.004970600362867117, -0.005967828445136547, 0.020556209608912468, -0.004833003506064415, -0.00020179309649392962, 0.002591761527583003, 0.028119288384914398, 0.01680690236389637, 0.015718262642621994, -0.03316294029355049, -0.015203318558633327, 0.009510944597423077, -0.024976421147584915, 0.005306922364979982, 0.026166627183556557, -0.004477901384234428, -0.030686089769005775, 0.01412964053452015, 0.01497564371675253, 0.014763254672288895, -0.004308438394218683, -0.037425629794597626, -0.05320964753627777, 0.008616245351731777, 0.03789254650473595, 0.029989633709192276, -0.05559222400188446, 0.02559535577893257, -0.026334166526794434, 0.02644210122525692, 0.05057748407125473, -0.00983755849301815, 0.015598566271364689, 0.017806099727749825, 0.0028160351794213057, 0.00019735170644707978, -0.027869654819369316, 0.003631866304203868, -0.015283426269888878, -0.01388332899659872, -0.040015533566474915, 0.042972780764102936, -0.008487972430884838, -0.005438657943159342, -0.0054444377310574055, 0.039531055837869644, 0.03054909221827984, -0.006195304449647665, 0.041604720056056976, 0.03811948746442795, 0.01263634953647852, 0.034194108098745346, 0.05934516340494156, 0.03795228898525238, 0.016031641513109207, -0.02608429454267025, -0.0038089370355010033, -0.009291650727391243]  \n",
            "3                [-0.0196763277053833, 0.024745548143982887, 0.0013279053382575512, 0.009503358975052834, 0.0035945670679211617, -0.051768817007541656, 0.013392249122262001, 0.06050308048725128, -0.03147973120212555, -0.025631720200181007, -0.015047966502606869, -0.026691244915127754, -0.020160425454378128, 0.0026331967674195766, 0.010090463794767857, -0.020103108137845993, 0.0009099539020098746, -0.03502501919865608, -0.00803594384342432, -0.06537950038909912, -0.0006021306035108864, 0.023953478783369064, 0.015125351957976818, -0.013127753511071205, 0.012273022904992104, 0.006103865802288055, -0.02684084326028824, -0.026219921186566353, -0.01715390384197235, 9.618987678550184e-05, 0.018445121124386787, 0.023106927052140236, 0.003963269758969545, -0.02053922601044178, -0.028940469026565552, 0.05005166679620743, 0.006291069556027651, -0.01984834484755993, -0.016228364780545235, -0.05295776203274727, 0.0005237430450506508, -0.030808724462985992, -0.00511508621275425, -0.006625107955187559, 0.015078794211149216, -0.004231742583215237, -0.004794219043105841, 0.0022728743497282267, 0.023183321580290794, 0.017258500680327415, 0.011567621491849422, -0.028385866433382034, -0.014504256658256054, 0.00752532621845603, -0.023588217794895172, 0.00592180946841836, 0.025717057287693024, -0.00639124633744359, -0.02697642333805561, 0.013123506680130959, 0.015955425798892975, 0.016369597986340523, -0.0035008469130843878, -0.034206412732601166, -0.04854671657085419, 0.007711437065154314, 0.03465854004025459, 0.024257058277726173, -0.05190607160329819, 0.020253559574484825, -0.02138657122850418, 0.025958627462387085, 0.04430985823273659, -0.007953464053571224, 0.012507873587310314, 0.018070602789521217, 0.0023750057443976402, 0.0016221038531512022, -0.024664396420121193, 0.0053411913104355335, -0.010573168285191059, -0.014809816144406796, -0.03215659037232399, 0.038888633251190186, -0.007514605298638344, -0.005515202879905701, -0.0029505968559533358, 0.03509876877069473, 0.028959102928638458, -0.006820285227149725, 0.03769339621067047, 0.03709825128316879, 0.01352426316589117, 0.028194915503263474, 0.05391007661819458, 0.033146344125270844, 0.011668402701616287, -0.02334878034889698, -0.0032385820522904396, -0.010102692991495132]  \n",
            "4                        [-0.020236793905496597, 0.024321116507053375, 0.003808393608778715, 0.008452516049146652, 0.003638670314103365, -0.052080653607845306, 0.013952515088021755, 0.05763685703277588, -0.03160063922405243, -0.02695097029209137, -0.015609885565936565, -0.020817574113607407, -0.018623899668455124, 0.0009865456959232688, 0.013166461139917374, -0.02081807516515255, -0.00013494357699528337, -0.030814601108431816, -0.007679943460971117, -0.06752302497625351, 0.005169044714421034, 0.02197835221886635, 0.016238728538155556, -0.011372963897883892, 0.012351072393357754, 0.006238103844225407, -0.02372027188539505, -0.02185782790184021, -0.01647668145596981, 0.0008702183840796351, 0.01875210553407669, 0.021572906523942947, 0.004503829870373011, -0.021861519664525986, -0.025100702419877052, 0.047106336802244186, 0.00573916407302022, -0.0196272861212492, -0.014404240995645523, -0.05299660935997963, -0.0008174494723789394, -0.02839369885623455, -0.004528375808149576, -0.0039673661813139915, 0.017271680757403374, -0.005497131962329149, -0.004148975946009159, 0.005851444322615862, 0.021524246782064438, 0.01820828579366207, 0.01130753569304943, -0.03125370666384697, -0.013355796225368977, 0.005377994850277901, -0.02474259026348591, 0.005066634621471167, 0.024292437359690666, -0.004532685037702322, -0.027457866817712784, 0.014406800270080566, 0.012380033731460571, 0.013639509677886963, -0.0028855709824711084, -0.03242667019367218, -0.04492397978901863, 0.00825581606477499, 0.03629862144589424, 0.029113151133060455, -0.047112543135881424, 0.020811250433325768, -0.02062075398862362, 0.021638469770550728, 0.04314500093460083, -0.007384548429399729, 0.014533941633999348, 0.019436486065387726, 0.0048619541339576244, 0.00033425542642362416, -0.025045497342944145, 0.008119858801364899, -0.012500212527811527, -0.01199243776500225, -0.03240165114402771, 0.03930632770061493, -0.01124505139887333, -0.005581509787589312, -0.004684295505285263, 0.03295901045203209, 0.02375362254679203, -0.007466582581400871, 0.0398084856569767, 0.02931232936680317, 0.010653587058186531, 0.031649455428123474, 0.05058707296848297, 0.03418074548244476, 0.011976747773587704, -0.024874946102499962, -0.0006040822481736541, -0.009088360704481602]  \n"
          ]
        }
      ]
    },
    {
      "cell_type": "code",
      "source": [
        "import pandas as pd\n",
        "from gensim.models import Word2Vec\n",
        "import numpy as np\n",
        "\n",
        "# Giả sử DataFrame `df` chứa các câu đã tiền xử lý trong cột 'lemmatized'\n",
        "# và đã sẵn sàng để vector hóa\n",
        "# Tạo mô hình Word2Vec trên dữ liệu đã lemmatized\n",
        "sentences = df['lemmatized'].tolist()\n",
        "w2v_model = Word2Vec(sentences, vector_size=100, window=5, min_count=1, sg=1, workers=4)\n",
        "\n",
        "# Tạo hàm chuyển câu thành vector trung bình từ các vector từ\n",
        "def sentence_vector(sentence, model):\n",
        "    # Tạo vector trung bình của các từ trong câu nếu từ nằm trong vocabulary\n",
        "    vectors = [model.wv[word] for word in sentence if word in model.wv]\n",
        "    if len(vectors) > 0:\n",
        "        mean_vector = np.mean(vectors, axis=0)\n",
        "        # Chỉ giữ các giá trị khác 0\n",
        "        return mean_vector[mean_vector != 0].tolist()\n",
        "    else:\n",
        "        # Trả về danh sách rỗng nếu câu không chứa từ nào trong từ điển\n",
        "        return []\n",
        "\n",
        "# Áp dụng hàm chuyển đổi cho từng câu trong DataFrame và lưu trực tiếp vào cột vector\n",
        "df['vector'] = df['lemmatized'].apply(lambda x: sentence_vector(x, w2v_model))\n",
        "\n",
        "# Kiểm tra dữ liệu trước khi lưu\n",
        "print(\"Dữ liệu sau khi tiền xử lý:\")\n",
        "print(df[['lemmatized', 'vector']].head())\n",
        "\n",
        "# Kiểm tra giá trị thiếu\n",
        "print(\"\\nKiểm tra giá trị thiếu:\")\n",
        "print(df.isnull().sum())\n",
        "\n",
        "# Xóa các hàng có giá trị null trong cột 'lemmatized' (nếu có)\n",
        "df = df.dropna(subset=['lemmatized'])\n",
        "\n",
        "# Chuyển cột 'lemmatized' thành chuỗi (nếu cần)\n",
        "# df['lemmatized_text'] = df['lemmatized'].apply(lambda x: ' '.join(x) if isinstance(x, list) else x)\n",
        "\n",
        "# Lưu dữ liệu đã qua xử lý vào file CSV\n",
        "# Nếu sử dụng Chuyển cột 'lemmatized' thành chuỗi thì giá trị ở dưới là lemmatized_text\n",
        "df[['COMMENT', 'lemmatized', 'vector']].to_csv('/content/drive/MyDrive/ForColab/processed_data.csv', index=False, encoding='utf-8')\n",
        "print(\"Dữ liệu đã được lưu vào file 'processed_data'\")\n"
      ],
      "metadata": {
        "colab": {
          "base_uri": "https://localhost:8080/"
        },
        "id": "lVZhul6e_2UE",
        "outputId": "9c64570f-cecb-440c-a22f-6e520b22602f"
      },
      "execution_count": null,
      "outputs": [
        {
          "output_type": "stream",
          "name": "stdout",
          "text": [
            "Dữ liệu sau khi tiền xử lý:\n",
            "                                                                          lemmatized  \\\n",
            "0  [camera, take, good, photo, ,, especially, night, mode, produce, sharp, image, .]   \n",
            "1              [device, good, compatibility, third-party, application, accessory, .]   \n",
            "2    [high, quality, glass, metal, material, ,, good, ,, give, solid, feel, hold, .]   \n",
            "3    [sound, quality, good, ,, stereo, speaker, great, music, listen, experience, .]   \n",
            "4                     [face, id, feature, good, ,, faster, accurate, recognition, .]   \n",
            "\n",
            "                                                                                                                                                                                                                                                                                                                                                                                                                                                                                                                                                                                                                                                                                                                                                                                                                                                                                                                                                                                                                                                                                                                                                                                                                                                                                                                                                                                                                                                                                                                                                                                                                                                                                                                                                                                                                                                                                                                                                                                                                                                                                                                                                                                                                                                                                                                                   vector  \n",
            "0  [-0.02010629139840603, 0.023488784208893776, -0.00038811934064142406, 0.0065128374844789505, 0.0016632803017273545, -0.04839501902461052, 0.01159696001559496, 0.0527089424431324, -0.029839634895324707, -0.02268717996776104, -0.015523704700171947, -0.01773936301469803, -0.018751895055174828, 0.0017291918629780412, 0.012228953652083874, -0.020031685009598732, -0.0005155371618457139, -0.026673823595046997, -0.0046219658106565475, -0.06039269641041756, 0.0006693049217574298, 0.018700219690799713, 0.016702057793736458, -0.010035742074251175, 0.009556018747389317, 0.007901612669229507, -0.02167779766023159, -0.023036181926727295, -0.013102925382554531, -0.00012059990694979206, 0.018210217356681824, 0.021165117621421814, 0.003355773165822029, -0.020103612914681435, -0.023178348317742348, 0.04339331388473511, 0.003046231111511588, -0.017248103395104408, -0.012699398212134838, -0.04794846847653389, -0.0025981012731790543, -0.028189321979880333, -0.001986188581213355, -0.006303786765784025, 0.016256650909781456, -0.0039832741022109985, -0.0030780769884586334, 0.003984205890446901, 0.02438005991280079, 0.015203791670501232, 0.012264634482562542, -0.022712066769599915, -0.009206476621329784, 0.006597666535526514, -0.021345363929867744, 0.005978859961032867, 0.018169226124882698, -0.005583910271525383, -0.02578781545162201, 0.011830846779048443, 0.014683700166642666, 0.010969175957143307, -0.0026641215663403273, -0.0285154078155756, -0.04176616296172142, 0.004397114738821983, 0.03059650957584381, 0.023797182366251945, -0.04508841410279274, 0.017962636426091194, -0.017764395102858543, 0.021347330883145332, 0.039066702127456665, -0.006537692155689001, 0.015207954682409763, 0.014783496968448162, 0.0051575168035924435, 0.0005562765873037279, -0.023664796724915504, 0.003887418657541275, -0.011441347189247608, -0.012518520466983318, -0.031223395839333534, 0.033594463020563126, -0.008231446146965027, -0.005843352992087603, -0.0047174072824418545, 0.03161396458745003, 0.02351316809654236, -0.007003240752965212, 0.030459053814411163, 0.030210142955183983, 0.013297838158905506, 0.024977346882224083, 0.04661588743329048, 0.02849244885146618, 0.009909776039421558, -0.024162957444787025, -0.0013594321208074689, -0.00887156743556261]  \n",
            "1                      [-0.016174370422959328, 0.025305915623903275, -0.000946603890042752, 0.005119683686643839, 0.0015256359474733472, -0.04787198454141617, 0.013437839224934578, 0.05545246601104736, -0.03551606088876724, -0.023930247873067856, -0.013500469736754894, -0.02322576381266117, -0.016894152387976646, 0.0010797817958518863, 0.011072876863181591, -0.02175520919263363, 0.000703805242665112, -0.03290291503071785, -0.005664210766553879, -0.06904827058315277, 0.004151288885623217, 0.02580292895436287, 0.01876014471054077, -0.012625415809452534, 0.007837207056581974, 0.006958145182579756, -0.025019416585564613, -0.028347691521048546, -0.01404414139688015, -0.001820145407691598, 0.01596314087510109, 0.019221674650907516, 0.006256935652345419, -0.020836535841226578, -0.021076787263154984, 0.0491638258099556, 0.0036857984960079193, -0.022886160761117935, -0.018586380407214165, -0.05036449804902077, 0.00022933140280656517, -0.027738945558667183, -0.0015392664354294538, -0.003867511870339513, 0.020773740485310555, -0.00258364574983716, -0.0027462404686957598, 0.004120694939047098, 0.025559553876519203, 0.016898712143301964, 0.007648996077477932, -0.023989876732230186, -0.011816301383078098, 0.008118919096887112, -0.017141234129667282, 0.005174944642931223, 0.02170577459037304, -0.006774519104510546, -0.024967653676867485, 0.01064254529774189, 0.02007490210235119, 0.016435524448752403, -0.00468007568269968, -0.02973617985844612, -0.04498850926756859, 0.007016104646027088, 0.029266387224197388, 0.02583363652229309, -0.04696530103683472, 0.021011507138609886, -0.01985357142984867, 0.025297166779637337, 0.04262172803282738, -0.008278525434434414, 0.01335952989757061, 0.015698352828621864, 0.005302343051880598, 0.0014326751697808504, -0.028218915686011314, 0.006427060812711716, -0.010995561257004738, -0.014469502493739128, -0.032635398209095, 0.038244638592004776, -0.008745419792830944, -0.004720580298453569, -0.0022696389351040125, 0.034787796437740326, 0.022261938080191612, -0.004283039830625057, 0.035848718136548996, 0.032269690185785294, 0.012304012663662434, 0.03022848442196846, 0.05225023999810219, 0.030974937602877617, 0.012529364787042141, -0.024717891588807106, -0.003178277751430869, -0.00696587236598134]  \n",
            "2                       [-0.02239437773823738, 0.03096075914800167, -0.00021407398162409663, 0.008856158703565598, 0.0062638274393975735, -0.0588400773704052, 0.01411735825240612, 0.0694560632109642, -0.03553839027881622, -0.029097653925418854, -0.01661320962011814, -0.02964288741350174, -0.02119320258498192, 0.0011505333241075277, 0.01336243748664856, -0.02539079077541828, 0.0013747077900916338, -0.037813451141119, -0.008277400396764278, -0.07462627440690994, 0.0033369760494679213, 0.025871790945529938, 0.01780647039413452, -0.015363777056336403, 0.012489691376686096, 0.009812548756599426, -0.028214646503329277, -0.027356985956430435, -0.019237268716096878, 0.0027097740676254034, 0.022470690310001373, 0.021836064755916595, 0.003884232370182872, -0.02614617720246315, -0.02677186205983162, 0.053845107555389404, 0.0063625723123550415, -0.02356858178973198, -0.016757572069764137, -0.05790160223841667, 0.00019328374764882028, -0.032801009714603424, -0.004970600362867117, -0.005967828445136547, 0.020556209608912468, -0.004833003506064415, -0.00020179309649392962, 0.002591761527583003, 0.028119288384914398, 0.01680690236389637, 0.015718262642621994, -0.03316294029355049, -0.015203318558633327, 0.009510944597423077, -0.024976421147584915, 0.005306922364979982, 0.026166627183556557, -0.004477901384234428, -0.030686089769005775, 0.01412964053452015, 0.01497564371675253, 0.014763254672288895, -0.004308438394218683, -0.037425629794597626, -0.05320964753627777, 0.008616245351731777, 0.03789254650473595, 0.029989633709192276, -0.05559222400188446, 0.02559535577893257, -0.026334166526794434, 0.02644210122525692, 0.05057748407125473, -0.00983755849301815, 0.015598566271364689, 0.017806099727749825, 0.0028160351794213057, 0.00019735170644707978, -0.027869654819369316, 0.003631866304203868, -0.015283426269888878, -0.01388332899659872, -0.040015533566474915, 0.042972780764102936, -0.008487972430884838, -0.005438657943159342, -0.0054444377310574055, 0.039531055837869644, 0.03054909221827984, -0.006195304449647665, 0.041604720056056976, 0.03811948746442795, 0.01263634953647852, 0.034194108098745346, 0.05934516340494156, 0.03795228898525238, 0.016031641513109207, -0.02608429454267025, -0.0038089370355010033, -0.009291650727391243]  \n",
            "3                [-0.0196763277053833, 0.024745548143982887, 0.0013279053382575512, 0.009503358975052834, 0.0035945670679211617, -0.051768817007541656, 0.013392249122262001, 0.06050308048725128, -0.03147973120212555, -0.025631720200181007, -0.015047966502606869, -0.026691244915127754, -0.020160425454378128, 0.0026331967674195766, 0.010090463794767857, -0.020103108137845993, 0.0009099539020098746, -0.03502501919865608, -0.00803594384342432, -0.06537950038909912, -0.0006021306035108864, 0.023953478783369064, 0.015125351957976818, -0.013127753511071205, 0.012273022904992104, 0.006103865802288055, -0.02684084326028824, -0.026219921186566353, -0.01715390384197235, 9.618987678550184e-05, 0.018445121124386787, 0.023106927052140236, 0.003963269758969545, -0.02053922601044178, -0.028940469026565552, 0.05005166679620743, 0.006291069556027651, -0.01984834484755993, -0.016228364780545235, -0.05295776203274727, 0.0005237430450506508, -0.030808724462985992, -0.00511508621275425, -0.006625107955187559, 0.015078794211149216, -0.004231742583215237, -0.004794219043105841, 0.0022728743497282267, 0.023183321580290794, 0.017258500680327415, 0.011567621491849422, -0.028385866433382034, -0.014504256658256054, 0.00752532621845603, -0.023588217794895172, 0.00592180946841836, 0.025717057287693024, -0.00639124633744359, -0.02697642333805561, 0.013123506680130959, 0.015955425798892975, 0.016369597986340523, -0.0035008469130843878, -0.034206412732601166, -0.04854671657085419, 0.007711437065154314, 0.03465854004025459, 0.024257058277726173, -0.05190607160329819, 0.020253559574484825, -0.02138657122850418, 0.025958627462387085, 0.04430985823273659, -0.007953464053571224, 0.012507873587310314, 0.018070602789521217, 0.0023750057443976402, 0.0016221038531512022, -0.024664396420121193, 0.0053411913104355335, -0.010573168285191059, -0.014809816144406796, -0.03215659037232399, 0.038888633251190186, -0.007514605298638344, -0.005515202879905701, -0.0029505968559533358, 0.03509876877069473, 0.028959102928638458, -0.006820285227149725, 0.03769339621067047, 0.03709825128316879, 0.01352426316589117, 0.028194915503263474, 0.05391007661819458, 0.033146344125270844, 0.011668402701616287, -0.02334878034889698, -0.0032385820522904396, -0.010102692991495132]  \n",
            "4                        [-0.020236793905496597, 0.024321116507053375, 0.003808393608778715, 0.008452516049146652, 0.003638670314103365, -0.052080653607845306, 0.013952515088021755, 0.05763685703277588, -0.03160063922405243, -0.02695097029209137, -0.015609885565936565, -0.020817574113607407, -0.018623899668455124, 0.0009865456959232688, 0.013166461139917374, -0.02081807516515255, -0.00013494357699528337, -0.030814601108431816, -0.007679943460971117, -0.06752302497625351, 0.005169044714421034, 0.02197835221886635, 0.016238728538155556, -0.011372963897883892, 0.012351072393357754, 0.006238103844225407, -0.02372027188539505, -0.02185782790184021, -0.01647668145596981, 0.0008702183840796351, 0.01875210553407669, 0.021572906523942947, 0.004503829870373011, -0.021861519664525986, -0.025100702419877052, 0.047106336802244186, 0.00573916407302022, -0.0196272861212492, -0.014404240995645523, -0.05299660935997963, -0.0008174494723789394, -0.02839369885623455, -0.004528375808149576, -0.0039673661813139915, 0.017271680757403374, -0.005497131962329149, -0.004148975946009159, 0.005851444322615862, 0.021524246782064438, 0.01820828579366207, 0.01130753569304943, -0.03125370666384697, -0.013355796225368977, 0.005377994850277901, -0.02474259026348591, 0.005066634621471167, 0.024292437359690666, -0.004532685037702322, -0.027457866817712784, 0.014406800270080566, 0.012380033731460571, 0.013639509677886963, -0.0028855709824711084, -0.03242667019367218, -0.04492397978901863, 0.00825581606477499, 0.03629862144589424, 0.029113151133060455, -0.047112543135881424, 0.020811250433325768, -0.02062075398862362, 0.021638469770550728, 0.04314500093460083, -0.007384548429399729, 0.014533941633999348, 0.019436486065387726, 0.0048619541339576244, 0.00033425542642362416, -0.025045497342944145, 0.008119858801364899, -0.012500212527811527, -0.01199243776500225, -0.03240165114402771, 0.03930632770061493, -0.01124505139887333, -0.005581509787589312, -0.004684295505285263, 0.03295901045203209, 0.02375362254679203, -0.007466582581400871, 0.0398084856569767, 0.02931232936680317, 0.010653587058186531, 0.031649455428123474, 0.05058707296848297, 0.03418074548244476, 0.011976747773587704, -0.024874946102499962, -0.0006040822481736541, -0.009088360704481602]  \n",
            "\n",
            "Kiểm tra giá trị thiếu:\n",
            "ID            0\n",
            "COMMENT       0\n",
            "filtered      0\n",
            "stemmed       0\n",
            "lemmatized    0\n",
            "vectorized    0\n",
            "vector        0\n",
            "dtype: int64\n",
            "Dữ liệu đã được lưu vào file 'processed_data'\n"
          ]
        }
      ]
    },
    {
      "cell_type": "code",
      "source": [
        "import pandas as pd\n",
        "from sklearn.feature_extraction.text import CountVectorizer\n",
        "from gensim.models import Word2Vec\n",
        "import numpy as np\n",
        "\n",
        "# Chuẩn bị dữ liệu cho Word2Vec\n",
        "sentences = df['lemmatized'].tolist()  # Danh sách các câu, mỗi câu là một danh sách từ\n",
        "\n",
        "# Huấn luyện mô hình Word2Vec\n",
        "w2v_model = Word2Vec(sentences, vector_size=100, window=5, min_count=1, sg=1)\n",
        "\n",
        "# Hàm để chuyển câu thành vector trung bình của các từ\n",
        "def sentence_to_vector(sentence, model):\n",
        "    vectors = [model.wv[word] for word in sentence if word in model.wv]\n",
        "    return np.mean(vectors, axis=0) if vectors else np.zeros(model.vector_size)\n",
        "\n",
        "# Vector hóa các câu trong cột 'lemmatized'\n",
        "df['vectorized'] = df['lemmatized'].apply(lambda sentence: sentence_to_vector(sentence, w2v_model))\n",
        "\n",
        "# Trích xuất đặc điểm theo mô hình Bag of Words (BoW)\n",
        "lemmatized_texts = df['lemmatized'].apply(lambda x: ' '.join(x))  # Chuyển danh sách từ thành chuỗi văn bản\n",
        "vectorizer = CountVectorizer()\n",
        "X_bow = vectorizer.fit_transform(lemmatized_texts)\n",
        "\n",
        "# Chuyển đổi kết quả thành DataFrame để dễ quan sát\n",
        "bow_df = pd.DataFrame(X_bow.toarray(), columns=vectorizer.get_feature_names_out())\n",
        "\n",
        "# Lọc và lưu chỉ các vị trí có giá trị khác 0\n",
        "def filter_nonzero_features(row):\n",
        "    nonzero_indices = row.nonzero()[0]  # Lấy các chỉ số cột có giá trị khác 0\n",
        "    return {bow_df.columns[i]: row[i] for i in nonzero_indices}\n",
        "\n",
        "# Áp dụng hàm để lọc chỉ số và giá trị khác 0 trên mỗi hàng\n",
        "filtered_bow = X_bow.toarray()\n",
        "df['bow_nonzero'] = [filter_nonzero_features(row) for row in filtered_bow]\n",
        "\n",
        "# Hiển thị DataFrame kết quả\n",
        "print(\"Dữ liệu BoW sau khi lọc các giá trị khác 0:\")\n",
        "print(df[['lemmatized', 'bow_nonzero']].head())\n",
        "\n",
        "# Gộp lại với dữ liệu gốc nếu cần\n",
        "df_bow = df\n",
        "\n",
        "# Lưu kết quả vào file CSV\n",
        "df_bow.to_csv('/content/drive/MyDrive/ForColab/bow_features.csv', index=False, encoding='utf-8')\n",
        "print(\"Dữ liệu đặc điểm BoW đã được lưu vào file 'bow_features.csv'\")\n"
      ],
      "metadata": {
        "colab": {
          "base_uri": "https://localhost:8080/"
        },
        "id": "-J7OJjfhCYNo",
        "outputId": "71b5a5c3-4a19-478c-c1e5-ec8af7968846"
      },
      "execution_count": null,
      "outputs": [
        {
          "output_type": "stream",
          "name": "stdout",
          "text": [
            "Dữ liệu BoW sau khi lọc các giá trị khác 0:\n",
            "                                                                          lemmatized  \\\n",
            "0  [camera, take, good, photo, ,, especially, night, mode, produce, sharp, image, .]   \n",
            "1              [device, good, compatibility, third-party, application, accessory, .]   \n",
            "2    [high, quality, glass, metal, material, ,, good, ,, give, solid, feel, hold, .]   \n",
            "3    [sound, quality, good, ,, stereo, speaker, great, music, listen, experience, .]   \n",
            "4                     [face, id, feature, good, ,, faster, accurate, recognition, .]   \n",
            "\n",
            "                                                                                                                     bow_nonzero  \n",
            "0  {'camera': 1, 'especially': 1, 'good': 1, 'image': 1, 'mode': 1, 'night': 1, 'photo': 1, 'produce': 1, 'sharp': 1, 'take': 1}  \n",
            "1                         {'accessory': 1, 'application': 1, 'compatibility': 1, 'device': 1, 'good': 1, 'party': 1, 'third': 1}  \n",
            "2       {'feel': 1, 'give': 1, 'glass': 1, 'good': 1, 'high': 1, 'hold': 1, 'material': 1, 'metal': 1, 'quality': 1, 'solid': 1}  \n",
            "3         {'experience': 1, 'good': 1, 'great': 1, 'listen': 1, 'music': 1, 'quality': 1, 'sound': 1, 'speaker': 1, 'stereo': 1}  \n",
            "4                                    {'accurate': 1, 'face': 1, 'faster': 1, 'feature': 1, 'good': 1, 'id': 1, 'recognition': 1}  \n",
            "Dữ liệu đặc điểm BoW đã được lưu vào file 'bow_features.csv'\n"
          ]
        }
      ]
    },
    {
      "cell_type": "code",
      "source": [
        "import pandas as pd\n",
        "from sklearn.feature_extraction.text import TfidfVectorizer\n",
        "\n",
        "# Chuyển cột 'lemmatized' thành chuỗi văn bản\n",
        "lemmatized_texts = df['lemmatized'].apply(lambda x: ' '.join(x))\n",
        "\n",
        "# Khởi tạo TfidfVectorizer với các tham số max_df và min_df\n",
        "vectorizer = TfidfVectorizer(max_df=0.85, min_df=0.01)\n",
        "\n",
        "# Biến đổi văn bản trong cột 'lemmatized' thành các đặc điểm TF-IDF\n",
        "X = vectorizer.fit_transform(lemmatized_texts)\n",
        "\n",
        "# Hàm để lọc chỉ các vị trí có giá trị khác 0\n",
        "def filter_nonzero_features(row):\n",
        "    nonzero_indices = row.nonzero()[1]  # Lấy các chỉ số cột có giá trị khác 0\n",
        "    return {vectorizer.get_feature_names_out()[i]: row[0, i] for i in nonzero_indices}\n",
        "\n",
        "# Áp dụng hàm để lọc các giá trị khác 0 cho từng hàng\n",
        "df['tfidf_nonzero'] = [filter_nonzero_features(row) for row in X]\n",
        "\n",
        "# Hiển thị dữ liệu TF-IDF sau khi lọc\n",
        "print(\"Dữ liệu TF-IDF sau khi lọc các giá trị khác 0:\")\n",
        "print(df[['lemmatized', 'tfidf_nonzero']].head())\n",
        "\n",
        "# Gộp lại với dữ liệu gốc nếu cần\n",
        "df_tfidf = df\n",
        "\n",
        "# Lưu kết quả vào file CSV\n",
        "df_tfidf.to_csv('/content/drive/MyDrive/ForColab/tfidf_features.csv', index=False, encoding='utf-8')\n",
        "print(\"Dữ liệu đặc điểm TF-IDF đã được lưu vào file 'tfidf_features.csv'\")\n"
      ],
      "metadata": {
        "colab": {
          "base_uri": "https://localhost:8080/"
        },
        "id": "0smbpccCEQKm",
        "outputId": "7cc4f648-27a4-4533-a0ca-0804ce009c5c"
      },
      "execution_count": null,
      "outputs": [
        {
          "output_type": "stream",
          "name": "stdout",
          "text": [
            "Dữ liệu TF-IDF sau khi lọc các giá trị khác 0:\n",
            "                                                                          lemmatized  \\\n",
            "0  [camera, take, good, photo, ,, especially, night, mode, produce, sharp, image, .]   \n",
            "1              [device, good, compatibility, third-party, application, accessory, .]   \n",
            "2    [high, quality, glass, metal, material, ,, good, ,, give, solid, feel, hold, .]   \n",
            "3    [sound, quality, good, ,, stereo, speaker, great, music, listen, experience, .]   \n",
            "4                     [face, id, feature, good, ,, faster, accurate, recognition, .]   \n",
            "\n",
            "                                                                                                                                                                                                                                                                  tfidf_nonzero  \n",
            "0  {'camera': 0.3147342628475536, 'take': 0.3147342628475536, 'good': 0.19123873879223882, 'photo': 0.3716466095753112, 'especially': 0.32970416815369613, 'mode': 0.3716466095753112, 'produce': 0.3716466095753112, 'sharp': 0.3480258515113322, 'image': 0.3480258515113322}  \n",
            "1                                                                                                                                                                                 {'good': 0.4036269931484632, 'device': 0.5940107168761036, 'application': 0.6958710502947139}  \n",
            "2                                     {'good': 0.21551789261627363, 'high': 0.3715625189542918, 'quality': 0.29055429032500574, 'metal': 0.35469207489771376, 'give': 0.4188298594704218, 'solid': 0.4188298594704218, 'feel': 0.39221027375207984, 'hold': 0.3171738760433477}  \n",
            "3                                                                                                                                                       {'good': 0.37868268063553806, 'quality': 0.5105278090591417, 'sound': 0.6528659360632578, 'great': 0.41197919012032846}  \n",
            "4                                                                                                                                                                                                                   {'good': 0.5192758577984691, 'feature': 0.8546066835145065}  \n",
            "Dữ liệu đặc điểm TF-IDF đã được lưu vào file 'tfidf_features.csv'\n"
          ]
        }
      ]
    },
    {
      "cell_type": "code",
      "source": [
        "import pandas as pd\n",
        "from gensim.models import Word2Vec\n",
        "import numpy as np\n",
        "\n",
        "# Tạo mô hình Word2Vec\n",
        "# Giả sử `lemmatized` là danh sách các danh sách từ đã được tách\n",
        "w2v_model = Word2Vec(sentences=df['lemmatized'], vector_size=100, window=5, min_count=1, sg=1, workers=4)\n",
        "\n",
        "# Hàm để tạo vector trung bình cho mỗi câu\n",
        "def get_sentence_vector(tokens, model):\n",
        "    # Tạo vector trung bình của các từ trong câu\n",
        "    vectors = [model.wv[word] for word in tokens if word in model.wv]\n",
        "    if vectors:\n",
        "        return np.mean(vectors, axis=0)\n",
        "    else:\n",
        "        return np.zeros(model.vector_size)\n",
        "\n",
        "# Áp dụng hàm tạo vector cho từng câu trong DataFrame\n",
        "df['vector'] = df['lemmatized'].apply(lambda x: get_sentence_vector(x, w2v_model))\n",
        "\n",
        "# Hàm lọc chỉ các giá trị khác 0 trong vector\n",
        "def filter_nonzero_vector(vector):\n",
        "    nonzero_indices = np.where(vector != 0)[0]  # Lấy chỉ số của các phần tử khác 0\n",
        "    return {f\"dim_{i}\": vector[i] for i in nonzero_indices}\n",
        "\n",
        "# Áp dụng hàm để lọc các giá trị khác 0\n",
        "df['vector_nonzero'] = df['vector'].apply(filter_nonzero_vector)\n",
        "\n",
        "# Chuyển đổi cột vector_nonzero thành DataFrame nếu cần quan sát trực tiếp\n",
        "print(\"Các vector Word Embeddings chỉ chứa giá trị khác 0:\")\n",
        "print(df[['lemmatized', 'vector_nonzero']].head())\n",
        "\n",
        "# Gộp lại với dữ liệu gốc\n",
        "df_word_embeddings = df\n",
        "\n",
        "# Lưu kết quả vào file CSV\n",
        "df_word_embeddings.to_csv('/content/drive/MyDrive/ForColab/word_embeddings_nonzero.csv', index=False, encoding='utf-8')\n",
        "print(\"Dữ liệu đặc điểm Word Embeddings đã được lưu vào file 'word_embeddings_nonzero.csv'\")\n"
      ],
      "metadata": {
        "colab": {
          "base_uri": "https://localhost:8080/"
        },
        "id": "56xaKJKsFTHm",
        "outputId": "605be59c-f498-4b45-822e-8edb0336b14a"
      },
      "execution_count": null,
      "outputs": [
        {
          "output_type": "stream",
          "name": "stdout",
          "text": [
            "Các vector Word Embeddings chỉ chứa giá trị khác 0:\n",
            "                                                                          lemmatized  \\\n",
            "0  [camera, take, good, photo, ,, especially, night, mode, produce, sharp, image, .]   \n",
            "1              [device, good, compatibility, third-party, application, accessory, .]   \n",
            "2    [high, quality, glass, metal, material, ,, good, ,, give, solid, feel, hold, .]   \n",
            "3    [sound, quality, good, ,, stereo, speaker, great, music, listen, experience, .]   \n",
            "4                     [face, id, feature, good, ,, faster, accurate, recognition, .]   \n",
            "\n",
            "                                                                                                                                                                                                                                                                                                                                                                                                                                                                                                                                                                                                                                                                                                                                                                                                                                                                                                                                                                                                                                                                                                                                                                                                                                                                                                                                                                                                                                                                                                                                                                                                                                                                                                                                                                                                                                                                                                                                                                                                                                                                                                                                                                                                                                                                                                                                                                                                                                       vector_nonzero  \n",
            "0  {'dim_0': -0.020106291, 'dim_1': 0.023488784, 'dim_2': -0.00038811934, 'dim_3': 0.0065128375, 'dim_4': 0.0016632803, 'dim_5': -0.04839502, 'dim_6': 0.01159696, 'dim_7': 0.052708942, 'dim_8': -0.029839635, 'dim_9': -0.02268718, 'dim_10': -0.015523705, 'dim_11': -0.017739363, 'dim_12': -0.018751895, 'dim_13': 0.0017291919, 'dim_14': 0.012228954, 'dim_15': -0.020031685, 'dim_16': -0.00051553716, 'dim_17': -0.026673824, 'dim_18': -0.004621966, 'dim_19': -0.060392696, 'dim_20': 0.0006693049, 'dim_21': 0.01870022, 'dim_22': 0.016702058, 'dim_23': -0.010035742, 'dim_24': 0.009556019, 'dim_25': 0.007901613, 'dim_26': -0.021677798, 'dim_27': -0.023036182, 'dim_28': -0.013102925, 'dim_29': -0.00012059991, 'dim_30': 0.018210217, 'dim_31': 0.021165118, 'dim_32': 0.0033557732, 'dim_33': -0.020103613, 'dim_34': -0.023178348, 'dim_35': 0.043393314, 'dim_36': 0.003046231, 'dim_37': -0.017248103, 'dim_38': -0.012699398, 'dim_39': -0.04794847, 'dim_40': -0.0025981013, 'dim_41': -0.028189322, 'dim_42': -0.0019861886, 'dim_43': -0.0063037868, 'dim_44': 0.01625665, 'dim_45': -0.003983274, 'dim_46': -0.003078077, 'dim_47': 0.003984206, 'dim_48': 0.02438006, 'dim_49': 0.015203792, 'dim_50': 0.0122646345, 'dim_51': -0.022712067, 'dim_52': -0.009206477, 'dim_53': 0.0065976665, 'dim_54': -0.021345364, 'dim_55': 0.00597886, 'dim_56': 0.018169226, 'dim_57': -0.0055839103, 'dim_58': -0.025787815, 'dim_59': 0.011830847, 'dim_60': 0.0146837, 'dim_61': 0.010969176, 'dim_62': -0.0026641216, 'dim_63': -0.028515408, 'dim_64': -0.041766163, 'dim_65': 0.0043971147, 'dim_66': 0.03059651, 'dim_67': 0.023797182, 'dim_68': -0.045088414, 'dim_69': 0.017962636, 'dim_70': -0.017764395, 'dim_71': 0.02134733, 'dim_72': 0.039066702, 'dim_73': -0.006537692, 'dim_74': 0.015207955, 'dim_75': 0.014783497, 'dim_76': 0.005157517, 'dim_77': 0.0005562766, 'dim_78': -0.023664797, 'dim_79': 0.0038874187, 'dim_80': -0.011441347, 'dim_81': -0.0125185205, 'dim_82': -0.031223396, 'dim_83': 0.033594463, 'dim_84': -0.008231446, 'dim_85': -0.005843353, 'dim_86': -0.0047174073, 'dim_87': 0.031613965, 'dim_88': 0.023513168, 'dim_89': -0.0070032408, 'dim_90': 0.030459054, 'dim_91': 0.030210143, 'dim_92': 0.013297838, 'dim_93': 0.024977347, 'dim_94': 0.046615887, 'dim_95': 0.028492449, 'dim_96': 0.009909776, 'dim_97': -0.024162957, 'dim_98': -0.0013594321, 'dim_99': -0.008871567}  \n",
            "1                {'dim_0': -0.01617437, 'dim_1': 0.025305916, 'dim_2': -0.0009466039, 'dim_3': 0.0051196837, 'dim_4': 0.001525636, 'dim_5': -0.047871985, 'dim_6': 0.013437839, 'dim_7': 0.055452466, 'dim_8': -0.03551606, 'dim_9': -0.023930248, 'dim_10': -0.01350047, 'dim_11': -0.023225764, 'dim_12': -0.016894152, 'dim_13': 0.0010797818, 'dim_14': 0.011072877, 'dim_15': -0.02175521, 'dim_16': 0.00070380524, 'dim_17': -0.032902915, 'dim_18': -0.0056642108, 'dim_19': -0.06904827, 'dim_20': 0.004151289, 'dim_21': 0.025802929, 'dim_22': 0.018760145, 'dim_23': -0.012625416, 'dim_24': 0.007837207, 'dim_25': 0.006958145, 'dim_26': -0.025019417, 'dim_27': -0.028347692, 'dim_28': -0.014044141, 'dim_29': -0.0018201454, 'dim_30': 0.01596314, 'dim_31': 0.019221675, 'dim_32': 0.0062569357, 'dim_33': -0.020836536, 'dim_34': -0.021076787, 'dim_35': 0.049163826, 'dim_36': 0.0036857985, 'dim_37': -0.02288616, 'dim_38': -0.01858638, 'dim_39': -0.050364498, 'dim_40': 0.0002293314, 'dim_41': -0.027738946, 'dim_42': -0.0015392664, 'dim_43': -0.0038675119, 'dim_44': 0.02077374, 'dim_45': -0.0025836457, 'dim_46': -0.0027462405, 'dim_47': 0.004120695, 'dim_48': 0.025559554, 'dim_49': 0.016898712, 'dim_50': 0.007648996, 'dim_51': -0.023989877, 'dim_52': -0.011816301, 'dim_53': 0.008118919, 'dim_54': -0.017141234, 'dim_55': 0.0051749446, 'dim_56': 0.021705775, 'dim_57': -0.006774519, 'dim_58': -0.024967654, 'dim_59': 0.010642545, 'dim_60': 0.020074902, 'dim_61': 0.016435524, 'dim_62': -0.0046800757, 'dim_63': -0.02973618, 'dim_64': -0.04498851, 'dim_65': 0.0070161046, 'dim_66': 0.029266387, 'dim_67': 0.025833637, 'dim_68': -0.0469653, 'dim_69': 0.021011507, 'dim_70': -0.019853571, 'dim_71': 0.025297167, 'dim_72': 0.042621728, 'dim_73': -0.008278525, 'dim_74': 0.01335953, 'dim_75': 0.015698353, 'dim_76': 0.005302343, 'dim_77': 0.0014326752, 'dim_78': -0.028218916, 'dim_79': 0.006427061, 'dim_80': -0.010995561, 'dim_81': -0.0144695025, 'dim_82': -0.0326354, 'dim_83': 0.03824464, 'dim_84': -0.00874542, 'dim_85': -0.0047205803, 'dim_86': -0.002269639, 'dim_87': 0.034787796, 'dim_88': 0.022261938, 'dim_89': -0.00428304, 'dim_90': 0.035848718, 'dim_91': 0.03226969, 'dim_92': 0.012304013, 'dim_93': 0.030228484, 'dim_94': 0.05225024, 'dim_95': 0.030974938, 'dim_96': 0.012529365, 'dim_97': -0.024717892, 'dim_98': -0.0031782778, 'dim_99': -0.0069658724}  \n",
            "2               {'dim_0': -0.022394378, 'dim_1': 0.03096076, 'dim_2': -0.00021407398, 'dim_3': 0.008856159, 'dim_4': 0.0062638274, 'dim_5': -0.058840077, 'dim_6': 0.014117358, 'dim_7': 0.06945606, 'dim_8': -0.03553839, 'dim_9': -0.029097654, 'dim_10': -0.01661321, 'dim_11': -0.029642887, 'dim_12': -0.021193203, 'dim_13': 0.0011505333, 'dim_14': 0.0133624375, 'dim_15': -0.02539079, 'dim_16': 0.0013747078, 'dim_17': -0.03781345, 'dim_18': -0.0082774, 'dim_19': -0.074626274, 'dim_20': 0.003336976, 'dim_21': 0.025871791, 'dim_22': 0.01780647, 'dim_23': -0.015363777, 'dim_24': 0.012489691, 'dim_25': 0.009812549, 'dim_26': -0.028214647, 'dim_27': -0.027356986, 'dim_28': -0.019237269, 'dim_29': 0.002709774, 'dim_30': 0.02247069, 'dim_31': 0.021836065, 'dim_32': 0.0038842324, 'dim_33': -0.026146177, 'dim_34': -0.026771862, 'dim_35': 0.053845108, 'dim_36': 0.0063625723, 'dim_37': -0.023568582, 'dim_38': -0.016757572, 'dim_39': -0.057901602, 'dim_40': 0.00019328375, 'dim_41': -0.03280101, 'dim_42': -0.0049706004, 'dim_43': -0.0059678284, 'dim_44': 0.02055621, 'dim_45': -0.0048330035, 'dim_46': -0.0002017931, 'dim_47': 0.0025917615, 'dim_48': 0.028119288, 'dim_49': 0.016806902, 'dim_50': 0.015718263, 'dim_51': -0.03316294, 'dim_52': -0.015203319, 'dim_53': 0.009510945, 'dim_54': -0.024976421, 'dim_55': 0.0053069224, 'dim_56': 0.026166627, 'dim_57': -0.0044779014, 'dim_58': -0.03068609, 'dim_59': 0.014129641, 'dim_60': 0.014975644, 'dim_61': 0.014763255, 'dim_62': -0.0043084384, 'dim_63': -0.03742563, 'dim_64': -0.053209648, 'dim_65': 0.008616245, 'dim_66': 0.037892547, 'dim_67': 0.029989634, 'dim_68': -0.055592224, 'dim_69': 0.025595356, 'dim_70': -0.026334167, 'dim_71': 0.026442101, 'dim_72': 0.050577484, 'dim_73': -0.0098375585, 'dim_74': 0.015598566, 'dim_75': 0.0178061, 'dim_76': 0.0028160352, 'dim_77': 0.0001973517, 'dim_78': -0.027869655, 'dim_79': 0.0036318663, 'dim_80': -0.015283426, 'dim_81': -0.013883329, 'dim_82': -0.040015534, 'dim_83': 0.04297278, 'dim_84': -0.008487972, 'dim_85': -0.005438658, 'dim_86': -0.0054444377, 'dim_87': 0.039531056, 'dim_88': 0.030549092, 'dim_89': -0.0061953044, 'dim_90': 0.04160472, 'dim_91': 0.038119487, 'dim_92': 0.01263635, 'dim_93': 0.034194108, 'dim_94': 0.059345163, 'dim_95': 0.03795229, 'dim_96': 0.016031642, 'dim_97': -0.026084295, 'dim_98': -0.003808937, 'dim_99': -0.009291651}  \n",
            "3             {'dim_0': -0.019676328, 'dim_1': 0.024745548, 'dim_2': 0.0013279053, 'dim_3': 0.009503359, 'dim_4': 0.003594567, 'dim_5': -0.051768817, 'dim_6': 0.013392249, 'dim_7': 0.06050308, 'dim_8': -0.03147973, 'dim_9': -0.02563172, 'dim_10': -0.0150479665, 'dim_11': -0.026691245, 'dim_12': -0.020160425, 'dim_13': 0.0026331968, 'dim_14': 0.010090464, 'dim_15': -0.020103108, 'dim_16': 0.0009099539, 'dim_17': -0.03502502, 'dim_18': -0.008035944, 'dim_19': -0.0653795, 'dim_20': -0.0006021306, 'dim_21': 0.023953479, 'dim_22': 0.015125352, 'dim_23': -0.0131277535, 'dim_24': 0.012273023, 'dim_25': 0.006103866, 'dim_26': -0.026840843, 'dim_27': -0.026219921, 'dim_28': -0.017153904, 'dim_29': 9.618988e-05, 'dim_30': 0.018445121, 'dim_31': 0.023106927, 'dim_32': 0.0039632698, 'dim_33': -0.020539226, 'dim_34': -0.028940469, 'dim_35': 0.050051667, 'dim_36': 0.0062910696, 'dim_37': -0.019848345, 'dim_38': -0.016228365, 'dim_39': -0.052957762, 'dim_40': 0.00052374305, 'dim_41': -0.030808724, 'dim_42': -0.005115086, 'dim_43': -0.006625108, 'dim_44': 0.015078794, 'dim_45': -0.0042317426, 'dim_46': -0.004794219, 'dim_47': 0.0022728743, 'dim_48': 0.023183322, 'dim_49': 0.0172585, 'dim_50': 0.0115676215, 'dim_51': -0.028385866, 'dim_52': -0.014504257, 'dim_53': 0.007525326, 'dim_54': -0.023588218, 'dim_55': 0.0059218095, 'dim_56': 0.025717057, 'dim_57': -0.0063912463, 'dim_58': -0.026976423, 'dim_59': 0.013123507, 'dim_60': 0.015955426, 'dim_61': 0.016369598, 'dim_62': -0.003500847, 'dim_63': -0.034206413, 'dim_64': -0.048546717, 'dim_65': 0.007711437, 'dim_66': 0.03465854, 'dim_67': 0.024257058, 'dim_68': -0.05190607, 'dim_69': 0.02025356, 'dim_70': -0.021386571, 'dim_71': 0.025958627, 'dim_72': 0.04430986, 'dim_73': -0.007953464, 'dim_74': 0.012507874, 'dim_75': 0.018070603, 'dim_76': 0.0023750057, 'dim_77': 0.0016221039, 'dim_78': -0.024664396, 'dim_79': 0.0053411913, 'dim_80': -0.010573168, 'dim_81': -0.014809816, 'dim_82': -0.03215659, 'dim_83': 0.038888633, 'dim_84': -0.0075146053, 'dim_85': -0.005515203, 'dim_86': -0.0029505969, 'dim_87': 0.03509877, 'dim_88': 0.028959103, 'dim_89': -0.006820285, 'dim_90': 0.037693396, 'dim_91': 0.03709825, 'dim_92': 0.013524263, 'dim_93': 0.028194916, 'dim_94': 0.053910077, 'dim_95': 0.033146344, 'dim_96': 0.011668403, 'dim_97': -0.02334878, 'dim_98': -0.003238582, 'dim_99': -0.010102693}  \n",
            "4                      {'dim_0': -0.020236794, 'dim_1': 0.024321117, 'dim_2': 0.0038083936, 'dim_3': 0.008452516, 'dim_4': 0.0036386703, 'dim_5': -0.052080654, 'dim_6': 0.013952515, 'dim_7': 0.057636857, 'dim_8': -0.03160064, 'dim_9': -0.02695097, 'dim_10': -0.015609886, 'dim_11': -0.020817574, 'dim_12': -0.0186239, 'dim_13': 0.0009865457, 'dim_14': 0.013166461, 'dim_15': -0.020818075, 'dim_16': -0.00013494358, 'dim_17': -0.030814601, 'dim_18': -0.0076799435, 'dim_19': -0.067523025, 'dim_20': 0.0051690447, 'dim_21': 0.021978352, 'dim_22': 0.016238729, 'dim_23': -0.011372964, 'dim_24': 0.012351072, 'dim_25': 0.006238104, 'dim_26': -0.023720272, 'dim_27': -0.021857828, 'dim_28': -0.016476681, 'dim_29': 0.0008702184, 'dim_30': 0.018752106, 'dim_31': 0.021572907, 'dim_32': 0.00450383, 'dim_33': -0.02186152, 'dim_34': -0.025100702, 'dim_35': 0.047106337, 'dim_36': 0.005739164, 'dim_37': -0.019627286, 'dim_38': -0.014404241, 'dim_39': -0.05299661, 'dim_40': -0.0008174495, 'dim_41': -0.028393699, 'dim_42': -0.004528376, 'dim_43': -0.003967366, 'dim_44': 0.01727168, 'dim_45': -0.005497132, 'dim_46': -0.004148976, 'dim_47': 0.0058514443, 'dim_48': 0.021524247, 'dim_49': 0.018208286, 'dim_50': 0.011307536, 'dim_51': -0.031253707, 'dim_52': -0.013355796, 'dim_53': 0.005377995, 'dim_54': -0.02474259, 'dim_55': 0.0050666346, 'dim_56': 0.024292437, 'dim_57': -0.004532685, 'dim_58': -0.027457867, 'dim_59': 0.0144068, 'dim_60': 0.012380034, 'dim_61': 0.01363951, 'dim_62': -0.002885571, 'dim_63': -0.03242667, 'dim_64': -0.04492398, 'dim_65': 0.008255816, 'dim_66': 0.03629862, 'dim_67': 0.029113151, 'dim_68': -0.047112543, 'dim_69': 0.02081125, 'dim_70': -0.020620754, 'dim_71': 0.02163847, 'dim_72': 0.043145, 'dim_73': -0.0073845484, 'dim_74': 0.014533942, 'dim_75': 0.019436486, 'dim_76': 0.004861954, 'dim_77': 0.00033425543, 'dim_78': -0.025045497, 'dim_79': 0.008119859, 'dim_80': -0.0125002125, 'dim_81': -0.011992438, 'dim_82': -0.03240165, 'dim_83': 0.039306328, 'dim_84': -0.011245051, 'dim_85': -0.00558151, 'dim_86': -0.0046842955, 'dim_87': 0.03295901, 'dim_88': 0.023753623, 'dim_89': -0.0074665826, 'dim_90': 0.039808486, 'dim_91': 0.02931233, 'dim_92': 0.010653587, 'dim_93': 0.031649455, 'dim_94': 0.050587073, 'dim_95': 0.034180745, 'dim_96': 0.011976748, 'dim_97': -0.024874946, 'dim_98': -0.00060408225, 'dim_99': -0.009088361}  \n",
            "Dữ liệu đặc điểm Word Embeddings đã được lưu vào file 'word_embeddings_nonzero.csv'\n"
          ]
        }
      ]
    },
    {
      "cell_type": "code",
      "source": [
        "import pandas as pd\n",
        "from gensim.models.doc2vec import Doc2Vec, TaggedDocument\n",
        "import numpy as np\n",
        "\n",
        "# Tạo các TaggedDocument từ cột 'lemmatized'\n",
        "documents = [TaggedDocument(words=text, tags=[i]) for i, text in enumerate(df['lemmatized'])]\n",
        "\n",
        "# Tạo mô hình Doc2Vec\n",
        "doc2vec_model = Doc2Vec(documents, vector_size=100, window=5, min_count=1, workers=4, dm=1)\n",
        "\n",
        "# Hàm để lọc các giá trị khác 0 trong vector\n",
        "def filter_nonzero_vector(vector):\n",
        "    nonzero_indices = np.where(vector != 0)[0]  # Lấy chỉ số của các phần tử khác 0\n",
        "    return {f\"dim_{i}\": vector[i] for i in nonzero_indices}\n",
        "\n",
        "# Hàm để tạo vector Doc2Vec cho mỗi document và lọc giá trị khác 0\n",
        "def get_filtered_document_vector(model, doc_id):\n",
        "    vector = model.dv[doc_id]\n",
        "    return filter_nonzero_vector(vector)\n",
        "\n",
        "# Áp dụng hàm để tạo vector cho từng document và chỉ giữ giá trị khác 0\n",
        "df['doc_vector_nonzero'] = [get_filtered_document_vector(doc2vec_model, i) for i in range(len(df))]\n",
        "\n",
        "# Hiển thị các vector Doc2Vec sau khi lọc\n",
        "print(\"Các vector Doc2Vec chỉ chứa giá trị khác 0:\")\n",
        "print(df[['lemmatized', 'doc_vector_nonzero']].head())\n",
        "\n",
        "# Lưu kết quả vào file CSV\n",
        "df[['lemmatized', 'doc_vector_nonzero']].to_csv('/content/drive/MyDrive/ForColab/doc2vec_features_nonzero.csv', index=False, encoding='utf-8')\n",
        "print(\"Dữ liệu đặc điểm Doc2Vec đã được lưu vào file 'doc2vec_features_nonzero.csv'\")\n"
      ],
      "metadata": {
        "colab": {
          "base_uri": "https://localhost:8080/"
        },
        "id": "rdjP-tfVGCff",
        "outputId": "3445e3ac-fc3b-4413-8839-1a80e444bb1d"
      },
      "execution_count": null,
      "outputs": [
        {
          "output_type": "stream",
          "name": "stdout",
          "text": [
            "Các vector Doc2Vec chỉ chứa giá trị khác 0:\n",
            "                                                                          lemmatized  \\\n",
            "0  [camera, take, good, photo, ,, especially, night, mode, produce, sharp, image, .]   \n",
            "1              [device, good, compatibility, third-party, application, accessory, .]   \n",
            "2    [high, quality, glass, metal, material, ,, good, ,, give, solid, feel, hold, .]   \n",
            "3    [sound, quality, good, ,, stereo, speaker, great, music, listen, experience, .]   \n",
            "4                     [face, id, feature, good, ,, faster, accurate, recognition, .]   \n",
            "\n",
            "                                                                                                                                                                                                                                                                                                                                                                                                                                                                                                                                                                                                                                                                                                                                                                                                                                                                                                                                                                                                                                                                                                                                                                                                                                                                                                                                                                                                                                                                                                                                                                                                                                                                                                                                                                                                                                                                                                                                                                                                                                                                                                                                                                                                                                                                                                                                                                                                                                                                                         doc_vector_nonzero  \n",
            "0  {'dim_0': -0.0040206932, 'dim_1': -0.0053844047, 'dim_2': -0.011638632, 'dim_3': 0.0076788347, 'dim_4': 0.0032201624, 'dim_5': -0.0054682596, 'dim_6': -0.0073342603, 'dim_7': -0.003081212, 'dim_8': -0.011913093, 'dim_9': -0.0005488437, 'dim_10': -0.00069382385, 'dim_11': 0.0011616391, 'dim_12': -0.0061743385, 'dim_13': -0.0035684775, 'dim_14': -0.004970618, 'dim_15': -0.012660488, 'dim_16': 0.0046981736, 'dim_17': 0.0044410187, 'dim_18': -0.012049938, 'dim_19': -0.0092575615, 'dim_20': 0.00017881702, 'dim_21': 0.0050179856, 'dim_22': -0.0013207841, 'dim_23': 0.0016408795, 'dim_24': 0.0068684183, 'dim_25': -0.0062995506, 'dim_26': -0.012548619, 'dim_27': -0.012410761, 'dim_28': 0.0020690095, 'dim_29': -0.008564641, 'dim_30': 0.0097232405, 'dim_31': 0.0094510345, 'dim_32': -0.0035333815, 'dim_33': -0.003475657, 'dim_34': -0.0055625085, 'dim_35': 0.007231475, 'dim_36': -0.0021037639, 'dim_37': -0.0119958995, 'dim_38': -0.003920488, 'dim_39': -0.0033204872, 'dim_40': -0.0019944543, 'dim_41': -0.00974756, 'dim_42': 0.0035477644, 'dim_43': -0.010531171, 'dim_44': 0.0038827974, 'dim_45': -0.0038229413, 'dim_46': 0.0014604375, 'dim_47': -0.00231056, 'dim_48': 0.00697167, 'dim_49': -0.009611426, 'dim_50': 0.00017051115, 'dim_51': -0.003380725, 'dim_52': -0.0067186398, 'dim_53': -0.006545268, 'dim_54': -0.0040604277, 'dim_55': 0.0100295, 'dim_56': -0.0002619395, 'dim_57': 0.0027154218, 'dim_58': -0.010718092, 'dim_59': 0.010424757, 'dim_60': 0.0033914351, 'dim_61': 0.009605728, 'dim_62': 0.0035264315, 'dim_63': -0.007535256, 'dim_64': -0.0007025154, 'dim_65': -0.00018378616, 'dim_66': 0.0048719402, 'dim_67': 0.0053528803, 'dim_68': -0.0067659183, 'dim_69': -0.0049196384, 'dim_70': -0.00990225, 'dim_71': 3.7675887e-05, 'dim_72': -0.005816054, 'dim_73': -0.009900611, 'dim_74': -0.0054692742, 'dim_75': 0.0044649285, 'dim_76': -0.004962627, 'dim_77': -0.007418048, 'dim_78': -0.0007057759, 'dim_79': 0.0040165707, 'dim_80': 0.007354469, 'dim_81': 0.003913245, 'dim_82': -0.012293806, 'dim_83': 0.0034882214, 'dim_84': 0.0036552837, 'dim_85': 0.0022579415, 'dim_86': 0.002976692, 'dim_87': -0.0034605088, 'dim_88': 0.009017467, 'dim_89': 0.0021608046, 'dim_90': -0.0015520023, 'dim_91': 0.00973961, 'dim_92': -0.0101781115, 'dim_93': -0.0058145258, 'dim_94': 0.0012513282, 'dim_95': 0.014027698, 'dim_96': 0.0032975208, 'dim_97': -0.0056107375, 'dim_98': 0.011042008, 'dim_99': 0.0018984505}  \n",
            "1                         {'dim_0': -0.0046724966, 'dim_1': -0.0028780717, 'dim_2': -0.006997212, 'dim_3': 0.0031516254, 'dim_4': -0.0071291826, 'dim_5': -0.0056797545, 'dim_6': 0.000553877, 'dim_7': 0.008738907, 'dim_8': 0.0053703575, 'dim_9': 0.0018116259, 'dim_10': -0.002387025, 'dim_11': -0.0070219696, 'dim_12': -0.0032421094, 'dim_13': -0.005773576, 'dim_14': 0.0077120205, 'dim_15': -0.011186897, 'dim_16': -0.008378114, 'dim_17': -0.003919817, 'dim_18': 0.0021257333, 'dim_19': 0.004371238, 'dim_20': 0.011621441, 'dim_21': 0.007960236, 'dim_22': -0.0033347213, 'dim_23': 0.008027351, 'dim_24': -0.008708966, 'dim_25': 0.001904651, 'dim_26': -0.009339004, 'dim_27': -0.0024171239, 'dim_28': 0.0008154817, 'dim_29': -0.00736273, 'dim_30': 0.0064006946, 'dim_31': 0.003072129, 'dim_32': 0.0013343996, 'dim_33': 0.006948275, 'dim_34': -0.007095559, 'dim_35': 0.001971632, 'dim_36': 0.0005947004, 'dim_37': 0.0006955824, 'dim_38': -0.0089470185, 'dim_39': -0.008320408, 'dim_40': 0.0079816, 'dim_41': -0.00064061035, 'dim_42': 0.0033012938, 'dim_43': -0.01051217, 'dim_44': -0.0011696226, 'dim_45': 0.0027569858, 'dim_46': 0.003130798, 'dim_47': 0.008757314, 'dim_48': 0.0012447939, 'dim_49': -0.005689852, 'dim_50': -0.0018110609, 'dim_51': 0.007565644, 'dim_52': 0.0074029947, 'dim_53': -0.00888674, 'dim_54': -0.004844481, 'dim_55': 0.00626491, 'dim_56': 0.0015860505, 'dim_57': 0.008325417, 'dim_58': -0.009070152, 'dim_59': -0.0021652542, 'dim_60': 0.008648753, 'dim_61': 0.0057075405, 'dim_62': 0.008168936, 'dim_63': -0.0052767354, 'dim_64': 0.0005446249, 'dim_65': -0.0041041328, 'dim_66': -0.006604436, 'dim_67': -0.0036328956, 'dim_68': -0.011154118, 'dim_69': -0.0015464983, 'dim_70': 0.0023462465, 'dim_71': -0.0010624956, 'dim_72': 0.0049521234, 'dim_73': 0.0046695243, 'dim_74': 0.0090329945, 'dim_75': 0.0040195165, 'dim_76': 0.0089048715, 'dim_77': -0.0036975027, 'dim_78': -0.0066024726, 'dim_79': 0.00012246279, 'dim_80': 0.0051213372, 'dim_81': 0.00423217, 'dim_82': -0.010036039, 'dim_83': -0.00058977096, 'dim_84': -0.0108156465, 'dim_85': 0.00856442, 'dim_86': -0.0018018086, 'dim_87': 0.000748676, 'dim_88': 0.01024039, 'dim_89': 0.0021612195, 'dim_90': -0.0033815843, 'dim_91': 0.008550643, 'dim_92': 0.0043567284, 'dim_93': 0.009479647, 'dim_94': 2.4912006e-06, 'dim_95': 0.007109993, 'dim_96': 0.0049718493, 'dim_97': -0.0063403524, 'dim_98': 0.0034308515, 'dim_99': 0.0050507057}  \n",
            "2                     {'dim_0': -0.006615128, 'dim_1': -0.0086855795, 'dim_2': 0.006980346, 'dim_3': -0.005110385, 'dim_4': 0.009473897, 'dim_5': -0.0077507296, 'dim_6': 0.011972799, 'dim_7': -0.0041096294, 'dim_8': 0.0016192034, 'dim_9': 0.0022278258, 'dim_10': -0.011853941, 'dim_11': 0.0019736115, 'dim_12': -0.008348228, 'dim_13': -0.004266179, 'dim_14': 0.002728093, 'dim_15': 0.006007408, 'dim_16': -0.00048708415, 'dim_17': -0.0075911335, 'dim_18': -0.001967266, 'dim_19': -0.005740264, 'dim_20': -0.0061464887, 'dim_21': -0.005643846, 'dim_22': 0.009719597, 'dim_23': 0.0062976093, 'dim_24': -0.00375437, 'dim_25': 0.0049854005, 'dim_26': -0.0049722916, 'dim_27': 0.0014397298, 'dim_28': -0.009028151, 'dim_29': 0.0032975827, 'dim_30': -0.0015724063, 'dim_31': -0.004391521, 'dim_32': 0.011083216, 'dim_33': -0.0069115474, 'dim_34': -0.006737714, 'dim_35': 0.009309253, 'dim_36': -0.009104901, 'dim_37': -0.007946727, 'dim_38': 0.0005948183, 'dim_39': -0.010285058, 'dim_40': 0.009069375, 'dim_41': 0.006815772, 'dim_42': 0.007008176, 'dim_43': 0.0012021641, 'dim_44': -0.004151319, 'dim_45': 0.00029139582, 'dim_46': -0.0012658358, 'dim_47': 0.0059206397, 'dim_48': -0.0056652725, 'dim_49': -0.010182911, 'dim_50': -0.007559321, 'dim_51': -0.011080498, 'dim_52': -0.006571736, 'dim_53': -0.0023366474, 'dim_54': -0.004240519, 'dim_55': 0.007288239, 'dim_56': 0.005558756, 'dim_57': 0.00460244, 'dim_58': -0.0019101552, 'dim_59': 0.0034102013, 'dim_60': 0.0048110713, 'dim_61': 0.00904882, 'dim_62': 0.004508288, 'dim_63': -0.0009183094, 'dim_64': -0.004574175, 'dim_65': 0.009028141, 'dim_66': 0.0063646096, 'dim_67': 0.012426784, 'dim_68': 0.0026427289, 'dim_69': 0.0055947565, 'dim_70': -0.011674316, 'dim_71': 0.0043082344, 'dim_72': 0.0009239597, 'dim_73': 0.0033622242, 'dim_74': 0.008548507, 'dim_75': -0.00019047844, 'dim_76': -0.0074212914, 'dim_77': -0.001982727, 'dim_78': -0.0076707043, 'dim_79': -0.0018622408, 'dim_80': -0.006770143, 'dim_81': 0.004512567, 'dim_82': -0.0018534478, 'dim_83': 0.0037394383, 'dim_84': -0.008608513, 'dim_85': 0.009460985, 'dim_86': 0.00087545696, 'dim_87': -0.0012559347, 'dim_88': -0.007053646, 'dim_89': 0.0034389459, 'dim_90': -0.001972525, 'dim_91': -0.002119724, 'dim_92': -0.009586465, 'dim_93': 0.0034356555, 'dim_94': 0.013828055, 'dim_95': 0.009622546, 'dim_96': -0.002952126, 'dim_97': -0.0042652157, 'dim_98': 0.011611475, 'dim_99': -0.0072858925}  \n",
            "3         {'dim_0': -0.0029735523, 'dim_1': 0.00784091, 'dim_2': 0.0009117129, 'dim_3': 0.0073732873, 'dim_4': -0.0015697462, 'dim_5': -0.009456848, 'dim_6': 0.0026719493, 'dim_7': 0.010052801, 'dim_8': 0.001782215, 'dim_9': -0.006309004, 'dim_10': -0.0031210037, 'dim_11': -0.012100987, 'dim_12': 0.006091365, 'dim_13': 0.0076069543, 'dim_14': 0.0020526117, 'dim_15': -0.007488336, 'dim_16': 0.008182034, 'dim_17': -0.0016282245, 'dim_18': 0.0015959828, 'dim_19': 0.0035075394, 'dim_20': -0.0018490413, 'dim_21': 0.00782416, 'dim_22': 0.0021981122, 'dim_23': 0.00933917, 'dim_24': 0.00089364575, 'dim_25': 0.009080637, 'dim_26': -0.0047707506, 'dim_27': -0.0045727715, 'dim_28': 0.00064539467, 'dim_29': -0.0075526773, 'dim_30': 0.000759965, 'dim_31': 0.0019877458, 'dim_32': 0.0036125865, 'dim_33': 0.0066430536, 'dim_34': -0.0047188937, 'dim_35': 0.0032723562, 'dim_36': -0.0076864976, 'dim_37': -0.008172213, 'dim_38': -4.113814e-05, 'dim_39': -0.005807793, 'dim_40': -0.0017085561, 'dim_41': 0.0045689237, 'dim_42': -0.0062630447, 'dim_43': 0.005210365, 'dim_44': -0.0033903169, 'dim_45': -0.006400876, 'dim_46': -0.0074408045, 'dim_47': 0.004407659, 'dim_48': -0.0024907612, 'dim_49': 0.007713767, 'dim_50': -0.0044049965, 'dim_51': 0.0031693904, 'dim_52': -0.0006962951, 'dim_53': 0.0057071713, 'dim_54': -0.0022331148, 'dim_55': -0.0039233114, 'dim_56': -0.008756344, 'dim_57': 0.0048049716, 'dim_58': -0.010852293, 'dim_59': -0.0014251745, 'dim_60': 0.003280539, 'dim_61': 0.009879319, 'dim_62': -0.003807183, 'dim_63': -0.0034882764, 'dim_64': 0.0030074164, 'dim_65': 0.0076639354, 'dim_66': -0.003731477, 'dim_67': -0.0021907839, 'dim_68': -0.0068010394, 'dim_69': 0.007716147, 'dim_70': -0.0065225884, 'dim_71': -0.0054448475, 'dim_72': -0.0038688616, 'dim_73': -0.003571623, 'dim_74': 0.009789939, 'dim_75': 0.00014568906, 'dim_76': 0.010255784, 'dim_77': -0.007462338, 'dim_78': 0.0006969891, 'dim_79': 0.01026497, 'dim_80': -0.0104774935, 'dim_81': -0.0017745742, 'dim_82': -0.010530204, 'dim_83': 0.009703619, 'dim_84': -0.0047783917, 'dim_85': 0.005895676, 'dim_86': -0.0045195417, 'dim_87': 0.0041853706, 'dim_88': -0.0022834146, 'dim_89': -0.008753791, 'dim_90': 0.0010460091, 'dim_91': 0.0013180006, 'dim_92': -0.009523768, 'dim_93': 0.0018185157, 'dim_94': -0.001415369, 'dim_95': 0.008194641, 'dim_96': -0.004304937, 'dim_97': 0.0073491097, 'dim_98': 0.0026070403, 'dim_99': -0.0028371422}  \n",
            "4         {'dim_0': -0.005936023, 'dim_1': -0.0067191245, 'dim_2': -0.005771593, 'dim_3': -0.0022430704, 'dim_4': -0.009486601, 'dim_5': -0.007851664, 'dim_6': -0.0009494654, 'dim_7': 0.010872379, 'dim_8': -0.002415697, 'dim_9': 0.002986505, 'dim_10': -0.0040333746, 'dim_11': -0.0040818816, 'dim_12': 0.00469579, 'dim_13': 0.0064708004, 'dim_14': -0.00011243069, 'dim_15': 0.002712922, 'dim_16': -0.006051465, 'dim_17': 0.0021591175, 'dim_18': -0.0032483072, 'dim_19': 0.0014112685, 'dim_20': -0.0006210306, 'dim_21': 0.0033130061, 'dim_22': 0.008048738, 'dim_23': -0.00853535, 'dim_24': -0.0029903105, 'dim_25': 0.005468556, 'dim_26': -0.002340232, 'dim_27': -0.000740046, 'dim_28': -0.0043826303, 'dim_29': 0.0069304574, 'dim_30': 0.010661492, 'dim_31': 0.010627323, 'dim_32': -0.00096813415, 'dim_33': 0.010210501, 'dim_34': 0.0009954242, 'dim_35': 0.009663065, 'dim_36': -0.0030468313, 'dim_37': -0.006759169, 'dim_38': 0.0046073766, 'dim_39': -0.0017159232, 'dim_40': -0.0097467955, 'dim_41': 0.0040159067, 'dim_42': -0.008020458, 'dim_43': -0.010361193, 'dim_44': -0.009071858, 'dim_45': 0.0041074306, 'dim_46': 0.009434078, 'dim_47': -0.0063824225, 'dim_48': 0.0008567891, 'dim_49': -0.0004739328, 'dim_50': 0.0029836635, 'dim_51': -0.011916776, 'dim_52': 0.002345395, 'dim_53': 0.0067281816, 'dim_54': -0.0038670735, 'dim_55': -0.0043484964, 'dim_56': 0.009808813, 'dim_57': -0.00438171, 'dim_58': -0.0024851074, 'dim_59': 0.0046564145, 'dim_60': 0.006735922, 'dim_61': -0.0057580005, 'dim_62': -0.0025835426, 'dim_63': 0.004372974, 'dim_64': -0.00015707196, 'dim_65': 0.0065167006, 'dim_66': 0.005403336, 'dim_67': 0.009889982, 'dim_68': 0.002195354, 'dim_69': -0.0023736833, 'dim_70': 0.0058355667, 'dim_71': -0.004159819, 'dim_72': 0.00091738015, 'dim_73': -0.0021932279, 'dim_74': 0.0005265808, 'dim_75': 0.010970801, 'dim_76': 0.00095379393, 'dim_77': -0.008100091, 'dim_78': -0.0031428915, 'dim_79': -0.007927137, 'dim_80': -0.004032031, 'dim_81': 0.0009335161, 'dim_82': -0.005379394, 'dim_83': -0.0057395417, 'dim_84': 0.0007352163, 'dim_85': -0.008538299, 'dim_86': -0.0004926416, 'dim_87': -0.005191796, 'dim_88': -0.0060506053, 'dim_89': 0.008652217, 'dim_90': 0.0064642583, 'dim_91': -0.0048397765, 'dim_92': 0.004385081, 'dim_93': -0.005457488, 'dim_94': 0.0026928629, 'dim_95': 0.0023480034, 'dim_96': -0.009371383, 'dim_97': 0.005156154, 'dim_98': -0.0025079113, 'dim_99': -0.0017561574}  \n",
            "Dữ liệu đặc điểm Doc2Vec đã được lưu vào file 'doc2vec_features_nonzero.csv'\n"
          ]
        }
      ]
    },
    {
      "cell_type": "code",
      "source": [
        "import pandas as pd\n",
        "import numpy as np\n",
        "from sklearn.model_selection import train_test_split, cross_val_score\n",
        "from sklearn.linear_model import LogisticRegression\n",
        "\n",
        "# Đọc file CSV chứa dữ liệu đã được xử lý từ cột vectorized đã được vector hóa\n",
        "file_path = \"/content/drive/MyDrive/ForColab/tfidf_features.csv\"  # Đường dẫn đến file tfidf_features của bạn\n",
        "df = pd.read_csv(file_path)\n",
        "\n",
        "# Giả sử cột 'vectorized' chứa các vector đặc trưng và cột 'ID' chứa nhãn\n",
        "# Tạo cột nhãn dựa trên nội dung trong cột 'ID'\n",
        "df['label'] = df['ID'].apply(lambda x: 'POSITIVE' if x == 1 else ('NEGATIVE' if x == 3 else 'NEUTRAL'))\n",
        "\n",
        "# Chuyển đổi cột 'vectorized' thành từ điển chỉ chứa giá trị khác 0\n",
        "def filter_nonzero_vector(vector_str):\n",
        "    vector = np.fromstring(vector_str.strip(\"[]\"), sep=' ')  # Chuyển chuỗi thành numpy array\n",
        "    nonzero_indices = np.where(vector != 0)[0]  # Chỉ số các giá trị khác 0\n",
        "    return {f\"dim_{i}\": vector[i] for i in nonzero_indices}\n",
        "\n",
        "df['vectorized_filtered'] = df['vectorized'].apply(filter_nonzero_vector)\n",
        "\n",
        "# Chuyển cột 'vectorized_filtered' thành ma trận số cho mô hình\n",
        "def reconstruct_vector(filtered_dict, vector_size):\n",
        "    vector = np.zeros(vector_size)\n",
        "    for key, value in filtered_dict.items():\n",
        "        index = int(key.split('_')[1])  # Lấy chỉ số từ khóa\n",
        "        vector[index] = value\n",
        "    return vector\n",
        "\n",
        "vector_size = len(np.fromstring(df['vectorized'].iloc[0].strip(\"[]\"), sep=' '))  # Lấy kích thước vector\n",
        "X = np.vstack(df['vectorized_filtered'].apply(lambda x: reconstruct_vector(x, vector_size)).values)\n",
        "y = df['label']\n",
        "\n",
        "# Kiểm tra dữ liệu\n",
        "print(\"Shape of X:\", X.shape)\n",
        "print(\"First row of X:\", X[0])\n",
        "\n",
        "# Chia dữ liệu thành tập huấn luyện và tập kiểm tra\n",
        "X_train, X_test, y_train, y_test = train_test_split(X, y, test_size=0.8, random_state=42)\n",
        "\n",
        "# Khởi tạo và huấn luyện mô hình Logistic Regression\n",
        "model = LogisticRegression(max_iter=1000)\n",
        "model.fit(X_train, y_train)\n",
        "\n",
        "# Dự đoán trên tập kiểm tra\n",
        "y_pred = model.predict(X_test)\n",
        "\n",
        "# Xác thực chéo với số lần chia phù hợp\n",
        "scores = cross_val_score(model, X, y, cv=3)\n",
        "print(\"Cross-validation scores:\", scores)\n",
        "print(\"Mean cross-validation score:\", scores.mean())\n",
        "\n",
        "# Hiển thị kết quả dự đoán\n",
        "print(\"Dự đoán trên tập kiểm tra:\", y_pred)\n",
        "\n",
        "# Lưu kết quả vector hóa đã lọc vào file CSV (nếu cần)\n",
        "df[['ID', 'vectorized_filtered', 'label']].to_csv(\n",
        "    \"/content/drive/MyDrive/ForColab/vectorized_filtered_results.csv\", index=False, encoding=\"utf-8\"\n",
        ")\n",
        "print(\"Dữ liệu đã được lưu vào file 'vectorized_filtered_results.csv'\")\n"
      ],
      "metadata": {
        "colab": {
          "base_uri": "https://localhost:8080/"
        },
        "id": "fXeVkrhTHUvJ",
        "outputId": "9db16f30-c6cc-48e0-ce20-7f8b14794ece"
      },
      "execution_count": null,
      "outputs": [
        {
          "output_type": "stream",
          "name": "stdout",
          "text": [
            "Shape of X: (101, 100)\n",
            "First row of X: [-0.02010629  0.02348878 -0.00038812  0.00651284  0.00166328 -0.04839502\n",
            "  0.01159696  0.05270894 -0.02983963 -0.02268718 -0.0155237  -0.01773936\n",
            " -0.0187519   0.00172919  0.01222895 -0.02003169 -0.00051554 -0.02667382\n",
            " -0.00462197 -0.0603927   0.0006693   0.01870022  0.01670206 -0.01003574\n",
            "  0.00955602  0.00790161 -0.0216778  -0.02303618 -0.01310293 -0.0001206\n",
            "  0.01821022  0.02116512  0.00335577 -0.02010361 -0.02317835  0.04339331\n",
            "  0.00304623 -0.0172481  -0.0126994  -0.04794847 -0.0025981  -0.02818932\n",
            " -0.00198619 -0.00630379  0.01625665 -0.00398327 -0.00307808  0.00398421\n",
            "  0.02438006  0.01520379  0.01226463 -0.02271207 -0.00920648  0.00659767\n",
            " -0.02134536  0.00597886  0.01816923 -0.00558391 -0.02578782  0.01183085\n",
            "  0.0146837   0.01096918 -0.00266412 -0.02851541 -0.04176616  0.00439711\n",
            "  0.03059651  0.02379718 -0.04508841  0.01796264 -0.0177644   0.02134733\n",
            "  0.0390667  -0.00653769  0.01520795  0.0147835   0.00515752  0.00055628\n",
            " -0.0236648   0.00388742 -0.01144135 -0.01251852 -0.0312234   0.03359446\n",
            " -0.00823145 -0.00584335 -0.00471741  0.03161396  0.02351317 -0.00700324\n",
            "  0.03045905  0.03021014  0.01329784  0.02497735  0.04661589  0.02849245\n",
            "  0.00990978 -0.02416296 -0.00135943 -0.00887157]\n",
            "Cross-validation scores: [0.70588235 0.70588235 0.6969697 ]\n",
            "Mean cross-validation score: 0.70291146761735\n",
            "Dự đoán trên tập kiểm tra: ['POSITIVE' 'POSITIVE' 'POSITIVE' 'POSITIVE' 'POSITIVE' 'POSITIVE'\n",
            " 'POSITIVE' 'POSITIVE' 'POSITIVE' 'POSITIVE' 'POSITIVE' 'POSITIVE'\n",
            " 'POSITIVE' 'POSITIVE' 'POSITIVE' 'POSITIVE' 'POSITIVE' 'POSITIVE'\n",
            " 'POSITIVE' 'POSITIVE' 'POSITIVE' 'POSITIVE' 'POSITIVE' 'POSITIVE'\n",
            " 'POSITIVE' 'POSITIVE' 'POSITIVE' 'POSITIVE' 'POSITIVE' 'POSITIVE'\n",
            " 'POSITIVE' 'POSITIVE' 'POSITIVE' 'POSITIVE' 'POSITIVE' 'POSITIVE'\n",
            " 'POSITIVE' 'POSITIVE' 'POSITIVE' 'POSITIVE' 'POSITIVE' 'POSITIVE'\n",
            " 'POSITIVE' 'POSITIVE' 'POSITIVE' 'POSITIVE' 'POSITIVE' 'POSITIVE'\n",
            " 'POSITIVE' 'POSITIVE' 'POSITIVE' 'POSITIVE' 'POSITIVE' 'POSITIVE'\n",
            " 'POSITIVE' 'POSITIVE' 'POSITIVE' 'POSITIVE' 'POSITIVE' 'POSITIVE'\n",
            " 'POSITIVE' 'POSITIVE' 'POSITIVE' 'POSITIVE' 'POSITIVE' 'POSITIVE'\n",
            " 'POSITIVE' 'POSITIVE' 'POSITIVE' 'POSITIVE' 'POSITIVE' 'POSITIVE'\n",
            " 'POSITIVE' 'POSITIVE' 'POSITIVE' 'POSITIVE' 'POSITIVE' 'POSITIVE'\n",
            " 'POSITIVE' 'POSITIVE' 'POSITIVE']\n",
            "Dữ liệu đã được lưu vào file 'vectorized_filtered_results.csv'\n"
          ]
        }
      ]
    },
    {
      "cell_type": "code",
      "source": [
        "# kiểm tra kích thước và đánh giá mô hình từ cột vectorized chứa các vector đặc trưng theo mô hình (TF-IDF)\n",
        "import pandas as pd\n",
        "import numpy as np\n",
        "from sklearn.linear_model import LogisticRegression\n",
        "from sklearn.model_selection import train_test_split, cross_val_score\n",
        "from sklearn.metrics import accuracy_score, precision_score, recall_score, f1_score\n",
        "\n",
        "# Đọc file CSV chứa dữ liệu đã được vector hóa\n",
        "file_path = \"/content/drive/MyDrive/ForColab/tfidf_features.csv\"  # Đường dẫn đến file tfidf_features.csv của bạn\n",
        "df = pd.read_csv(file_path)\n",
        "\n",
        "# Kiểm tra dữ liệu trong cột 'vectorized'\n",
        "# print(\"First few rows of vectorized column:\", df['vectorized'].head())\n",
        "\n",
        "# Tạo cột nhãn dựa trên nội dung trong cột 'ID'\n",
        "df['label'] = df['ID'].apply(lambda x: 'POSITIVE' if x == 1 else ('NEGATIVE' if x == 3 else 'NEUTRAL'))\n",
        "\n",
        "# Chuyển đổi cột 'vectorized' thành một ma trận số\n",
        "X = np.vstack(df['vectorized'].apply(lambda x: np.fromstring(x.strip(\"[]\"), sep=' ')).values)\n",
        "y = df['label']\n",
        "\n",
        "# Kiểm tra xem dữ liệu có đúng định dạng không\n",
        "# print(\"Shape of X:\", X.shape)\n",
        "# print(\"First row of X:\", X[0])\n",
        "\n",
        "# Chia dữ liệu thành tập huấn luyện và tập kiểm tra\n",
        "X_train, X_test, y_train, y_test = train_test_split(X, y, test_size=0.8, random_state=42)\n",
        "\n",
        "# Khởi tạo mô hình Logistic Regression\n",
        "model = LogisticRegression(max_iter=1000)\n",
        "\n",
        "# Huấn luyện mô hình\n",
        "model.fit(X_train, y_train)\n",
        "\n",
        "# Dự đoán trên tập kiểm tra\n",
        "y_pred = model.predict(X_test)\n",
        "\n",
        "# Kiểm tra kích thước của y_pred và y_test\n",
        "print(\"y_pred size:\", len(y_pred))\n",
        "print(\"y_test size:\", len(y_test))\n",
        "\n",
        "# Đánh giá mô hình\n",
        "accuracy = accuracy_score(y_test, y_pred)\n",
        "precision = precision_score(y_test, y_pred, average='weighted')\n",
        "recall = recall_score(y_test, y_pred, average='weighted')\n",
        "f1 = f1_score(y_test, y_pred, average='weighted')\n",
        "\n",
        "print(\"Accuracy:\", accuracy)\n",
        "print(\"Precision:\", precision)\n",
        "print(\"Recall:\", recall)\n",
        "print(\"F1-score:\", f1)\n",
        "\n",
        "# Xác thực chéo với số lần chia phù hợp\n",
        "scores = cross_val_score(model, X, y, cv=3)\n",
        "print(\"Cross-validation scores:\", scores)\n",
        "print(\"Mean cross-validation score:\", scores.mean())\n"
      ],
      "metadata": {
        "colab": {
          "base_uri": "https://localhost:8080/"
        },
        "id": "SEC5QuEAfFaJ",
        "outputId": "cf87c7f5-d7ec-41ca-da68-d8d18b87e779"
      },
      "execution_count": null,
      "outputs": [
        {
          "output_type": "stream",
          "name": "stdout",
          "text": [
            "y_pred size: 81\n",
            "y_test size: 81\n",
            "Accuracy: 0.7283950617283951\n",
            "Precision: 0.5305593659503125\n",
            "Recall: 0.7283950617283951\n",
            "F1-score: 0.6139329805996473\n",
            "Cross-validation scores: [0.70588235 0.70588235 0.6969697 ]\n",
            "Mean cross-validation score: 0.70291146761735\n"
          ]
        },
        {
          "output_type": "stream",
          "name": "stderr",
          "text": [
            "/usr/local/lib/python3.10/dist-packages/sklearn/metrics/_classification.py:1531: UndefinedMetricWarning: Precision is ill-defined and being set to 0.0 in labels with no predicted samples. Use `zero_division` parameter to control this behavior.\n",
            "  _warn_prf(average, modifier, f\"{metric.capitalize()} is\", len(result))\n"
          ]
        }
      ]
    },
    {
      "cell_type": "code",
      "source": [
        "# Dự đoán tập kiểm tra và đánh giá mô hình từ cột vectorized chứa các vector đặc trưng trên theo mô hình Word2Vec\n",
        "\n",
        "import pandas as pd\n",
        "import numpy as np\n",
        "from sklearn.model_selection import train_test_split, cross_val_score\n",
        "from sklearn.linear_model import LogisticRegression\n",
        "\n",
        "# Đọc file CSV chứa dữ liệu đã được xử lý từ cột vectorized đã được vector hóa\n",
        "file_path = \"/content/drive/MyDrive/ForColab/word_embeddings_nonzero.csv\"  # Đường dẫn đến file word_embeddings.csv của bạn\n",
        "df = pd.read_csv(file_path)\n",
        "\n",
        "# Kiểm tra dữ liệu trong cột 'vectorized'\n",
        "print(\"First few rows of vectorized column:\", df['vectorized'].head())\n",
        "\n",
        "# Tạo cột nhãn dựa trên nội dung trong cột 'ID'\n",
        "df['label'] = df['ID'].apply(lambda x: 'POSITIVE' if x == 1 else ('NEGATIVE' if x == 3 else 'NEUTRAL'))\n",
        "\n",
        "# Chuyển đổi cột 'vectorized' thành một ma trận số\n",
        "X = np.vstack(df['vectorized'].apply(lambda x: np.fromstring(x.strip(\"[]\"), sep=' ')).values)\n",
        "y = df['label']\n",
        "\n",
        "# Kiểm tra xem dữ liệu có đúng định dạng không\n",
        "print(\"Shape of X:\", X.shape)\n",
        "print(\"First row of X:\", X[0])\n",
        "\n",
        "# Chia dữ liệu thành tập huấn luyện và tập kiểm tra\n",
        "X_train, X_test, y_train, y_test = train_test_split(X, y, test_size=0.9, random_state=42)\n",
        "\n",
        "# Khởi tạo và huấn luyện mô hình Logistic Regression\n",
        "model = LogisticRegression(max_iter=1000)\n",
        "model.fit(X_train, y_train)\n",
        "\n",
        "# Dự đoán trên tập kiểm tra\n",
        "y_pred = model.predict(X_test)\n",
        "\n",
        "# Xác thực chéo với số lần chia phù hợp\n",
        "scores = cross_val_score(model, X, y, cv=3)\n",
        "print(\"Cross-validation scores:\", scores)\n",
        "print(\"Mean cross-validation score:\", scores.mean())\n",
        "\n",
        "# Hiển thị kết quả dự đoán\n",
        "print(\"Dự đoán trên tập kiểm tra:\", y_pred)\n"
      ],
      "metadata": {
        "colab": {
          "base_uri": "https://localhost:8080/"
        },
        "id": "mWZOGFi_bTB9",
        "outputId": "985b02b6-fa6c-4236-b91f-36f4d20f202d"
      },
      "execution_count": null,
      "outputs": [
        {
          "output_type": "stream",
          "name": "stdout",
          "text": [
            "First few rows of vectorized column: 0                                                                                                                                                                                                                                                                                                                                                                                                                                     [-0.02010629  0.02348878 -0.00038812  0.00651284  0.00166328 -0.04839502\\n  0.01159696  0.05270894 -0.02983963 -0.02268718 -0.0155237  -0.01773936\\n -0.0187519   0.00172919  0.01222895 -0.02003169 -0.00051554 -0.02667382\\n -0.00462197 -0.0603927   0.0006693   0.01870022  0.01670206 -0.01003574\\n  0.00955602  0.00790161 -0.0216778  -0.02303618 -0.01310293 -0.0001206\\n  0.01821022  0.02116512  0.00335577 -0.02010361 -0.02317835  0.04339331\\n  0.00304623 -0.0172481  -0.0126994  -0.04794847 -0.0025981  -0.02818932\\n -0.00198619 -0.00630379  0.01625665 -0.00398327 -0.00307808  0.00398421\\n  0.02438006  0.01520379  0.01226463 -0.02271207 -0.00920648  0.00659767\\n -0.02134536  0.00597886  0.01816923 -0.00558391 -0.02578782  0.01183085\\n  0.0146837   0.01096918 -0.00266412 -0.02851541 -0.04176616  0.00439711\\n  0.03059651  0.02379718 -0.04508841  0.01796264 -0.0177644   0.02134733\\n  0.0390667  -0.00653769  0.01520795  0.0147835   0.00515752  0.00055628\\n -0.0236648   0.00388742 -0.01144135 -0.01251852 -0.0312234   0.03359446\\n -0.00823145 -0.00584335 -0.00471741  0.03161396  0.02351317 -0.00700324\\n  0.03045905  0.03021014  0.01329784  0.02497735  0.04661589  0.02849245\\n  0.00990978 -0.02416296 -0.00135943 -0.00887157]\n",
            "1                                                                                                                                                                                                                                                                                                                                                                                                                                     [-0.01617437  0.02530592 -0.0009466   0.00511968  0.00152564 -0.04787198\\n  0.01343784  0.05545247 -0.03551606 -0.02393025 -0.01350047 -0.02322576\\n -0.01689415  0.00107978  0.01107288 -0.02175521  0.00070381 -0.03290292\\n -0.00566421 -0.06904827  0.00415129  0.02580293  0.01876014 -0.01262542\\n  0.00783721  0.00695815 -0.02501942 -0.02834769 -0.01404414 -0.00182015\\n  0.01596314  0.01922167  0.00625694 -0.02083654 -0.02107679  0.04916383\\n  0.0036858  -0.02288616 -0.01858638 -0.0503645   0.00022933 -0.02773895\\n -0.00153927 -0.00386751  0.02077374 -0.00258365 -0.00274624  0.00412069\\n  0.02555955  0.01689871  0.007649   -0.02398988 -0.0118163   0.00811892\\n -0.01714123  0.00517494  0.02170577 -0.00677452 -0.02496765  0.01064255\\n  0.0200749   0.01643552 -0.00468008 -0.02973618 -0.04498851  0.0070161\\n  0.02926639  0.02583364 -0.0469653   0.02101151 -0.01985357  0.02529717\\n  0.04262173 -0.00827853  0.01335953  0.01569835  0.00530234  0.00143268\\n -0.02821892  0.00642706 -0.01099556 -0.0144695  -0.0326354   0.03824464\\n -0.00874542 -0.00472058 -0.00226964  0.0347878   0.02226194 -0.00428304\\n  0.03584872  0.03226969  0.01230401  0.03022848  0.05225024  0.03097494\\n  0.01252936 -0.02471789 -0.00317828 -0.00696587]\n",
            "2                                                                                                                                                                                                                                                                                                                                                                                                                                      [-0.02239438  0.03096076 -0.00021407  0.00885616  0.00626383 -0.05884008\\n  0.01411736  0.06945606 -0.03553839 -0.02909765 -0.01661321 -0.02964289\\n -0.0211932   0.00115053  0.01336244 -0.02539079  0.00137471 -0.03781345\\n -0.0082774  -0.07462627  0.00333698  0.02587179  0.01780647 -0.01536378\\n  0.01248969  0.00981255 -0.02821465 -0.02735699 -0.01923727  0.00270977\\n  0.02247069  0.02183606  0.00388423 -0.02614618 -0.02677186  0.05384511\\n  0.00636257 -0.02356858 -0.01675757 -0.0579016   0.00019328 -0.03280101\\n -0.0049706  -0.00596783  0.02055621 -0.004833   -0.00020179  0.00259176\\n  0.02811929  0.0168069   0.01571826 -0.03316294 -0.01520332  0.00951094\\n -0.02497642  0.00530692  0.02616663 -0.0044779  -0.03068609  0.01412964\\n  0.01497564  0.01476325 -0.00430844 -0.03742563 -0.05320965  0.00861625\\n  0.03789255  0.02998963 -0.05559222  0.02559536 -0.02633417  0.0264421\\n  0.05057748 -0.00983756  0.01559857  0.0178061   0.00281604  0.00019735\\n -0.02786965  0.00363187 -0.01528343 -0.01388333 -0.04001553  0.04297278\\n -0.00848797 -0.00543866 -0.00544444  0.03953106  0.03054909 -0.0061953\\n  0.04160472  0.03811949  0.01263635  0.03419411  0.05934516  0.03795229\\n  0.01603164 -0.02608429 -0.00380894 -0.00929165]\n",
            "3    [-1.96763277e-02  2.47455481e-02  1.32790534e-03  9.50335898e-03\\n  3.59456707e-03 -5.17688170e-02  1.33922491e-02  6.05030805e-02\\n -3.14797312e-02 -2.56317202e-02 -1.50479665e-02 -2.66912449e-02\\n -2.01604255e-02  2.63319677e-03  1.00904638e-02 -2.01031081e-02\\n  9.09953902e-04 -3.50250192e-02 -8.03594384e-03 -6.53795004e-02\\n -6.02130604e-04  2.39534788e-02  1.51253520e-02 -1.31277535e-02\\n  1.22730229e-02  6.10386580e-03 -2.68408433e-02 -2.62199212e-02\\n -1.71539038e-02  9.61898768e-05  1.84451211e-02  2.31069271e-02\\n  3.96326976e-03 -2.05392260e-02 -2.89404690e-02  5.00516668e-02\\n  6.29106956e-03 -1.98483448e-02 -1.62283648e-02 -5.29577620e-02\\n  5.23743045e-04 -3.08087245e-02 -5.11508621e-03 -6.62510796e-03\\n  1.50787942e-02 -4.23174258e-03 -4.79421904e-03  2.27287435e-03\\n  2.31833216e-02  1.72585007e-02  1.15676215e-02 -2.83858664e-02\\n -1.45042567e-02  7.52532622e-03 -2.35882178e-02  5.92180947e-03\\n  2.57170573e-02 -6.39124634e-03 -2.69764233e-02  1.31235067e-02\\n  1.59554258e-02  1.63695980e-02 -3.50084691e-03 -3.42064127e-02\\n -4.85467166e-02  7.71143707e-03  3.46585400e-02  2.42570583e-02\\n -5.19060716e-02  2.02535596e-02 -2.13865712e-02  2.59586275e-02\\n  4.43098582e-02 -7.95346405e-03  1.25078736e-02  1.80706028e-02\\n  2.37500574e-03  1.62210385e-03 -2.46643964e-02  5.34119131e-03\\n -1.05731683e-02 -1.48098161e-02 -3.21565904e-02  3.88886333e-02\\n -7.51460530e-03 -5.51520288e-03 -2.95059686e-03  3.50987688e-02\\n  2.89591029e-02 -6.82028523e-03  3.76933962e-02  3.70982513e-02\\n  1.35242632e-02  2.81949155e-02  5.39100766e-02  3.31463441e-02\\n  1.16684027e-02 -2.33487803e-02 -3.23858205e-03 -1.01026930e-02]\n",
            "4                                                                                                                                                                                                                                                                                                                                                                                                                                       [-0.02023679  0.02432112  0.00380839  0.00845252  0.00363867 -0.05208065\\n  0.01395252  0.05763686 -0.03160064 -0.02695097 -0.01560989 -0.02081757\\n -0.0186239   0.00098655  0.01316646 -0.02081808 -0.00013494 -0.0308146\\n -0.00767994 -0.06752302  0.00516904  0.02197835  0.01623873 -0.01137296\\n  0.01235107  0.0062381  -0.02372027 -0.02185783 -0.01647668  0.00087022\\n  0.01875211  0.02157291  0.00450383 -0.02186152 -0.0251007   0.04710634\\n  0.00573916 -0.01962729 -0.01440424 -0.05299661 -0.00081745 -0.0283937\\n -0.00452838 -0.00396737  0.01727168 -0.00549713 -0.00414898  0.00585144\\n  0.02152425  0.01820829  0.01130754 -0.03125371 -0.0133558   0.00537799\\n -0.02474259  0.00506663  0.02429244 -0.00453269 -0.02745787  0.0144068\\n  0.01238003  0.01363951 -0.00288557 -0.03242667 -0.04492398  0.00825582\\n  0.03629862  0.02911315 -0.04711254  0.02081125 -0.02062075  0.02163847\\n  0.043145   -0.00738455  0.01453394  0.01943649  0.00486195  0.00033426\\n -0.0250455   0.00811986 -0.01250021 -0.01199244 -0.03240165  0.03930633\\n -0.01124505 -0.00558151 -0.0046843   0.03295901  0.02375362 -0.00746658\\n  0.03980849  0.02931233  0.01065359  0.03164946  0.05058707  0.03418075\\n  0.01197675 -0.02487495 -0.00060408 -0.00908836]\n",
            "Name: vectorized, dtype: object\n",
            "Shape of X: (101, 100)\n",
            "First row of X: [-0.02010629  0.02348878 -0.00038812  0.00651284  0.00166328 -0.04839502\n",
            "  0.01159696  0.05270894 -0.02983963 -0.02268718 -0.0155237  -0.01773936\n",
            " -0.0187519   0.00172919  0.01222895 -0.02003169 -0.00051554 -0.02667382\n",
            " -0.00462197 -0.0603927   0.0006693   0.01870022  0.01670206 -0.01003574\n",
            "  0.00955602  0.00790161 -0.0216778  -0.02303618 -0.01310293 -0.0001206\n",
            "  0.01821022  0.02116512  0.00335577 -0.02010361 -0.02317835  0.04339331\n",
            "  0.00304623 -0.0172481  -0.0126994  -0.04794847 -0.0025981  -0.02818932\n",
            " -0.00198619 -0.00630379  0.01625665 -0.00398327 -0.00307808  0.00398421\n",
            "  0.02438006  0.01520379  0.01226463 -0.02271207 -0.00920648  0.00659767\n",
            " -0.02134536  0.00597886  0.01816923 -0.00558391 -0.02578782  0.01183085\n",
            "  0.0146837   0.01096918 -0.00266412 -0.02851541 -0.04176616  0.00439711\n",
            "  0.03059651  0.02379718 -0.04508841  0.01796264 -0.0177644   0.02134733\n",
            "  0.0390667  -0.00653769  0.01520795  0.0147835   0.00515752  0.00055628\n",
            " -0.0236648   0.00388742 -0.01144135 -0.01251852 -0.0312234   0.03359446\n",
            " -0.00823145 -0.00584335 -0.00471741  0.03161396  0.02351317 -0.00700324\n",
            "  0.03045905  0.03021014  0.01329784  0.02497735  0.04661589  0.02849245\n",
            "  0.00990978 -0.02416296 -0.00135943 -0.00887157]\n",
            "Cross-validation scores: [0.70588235 0.70588235 0.6969697 ]\n",
            "Mean cross-validation score: 0.70291146761735\n",
            "Dự đoán trên tập kiểm tra: ['POSITIVE' 'POSITIVE' 'POSITIVE' 'POSITIVE' 'POSITIVE' 'POSITIVE'\n",
            " 'POSITIVE' 'POSITIVE' 'POSITIVE' 'POSITIVE' 'POSITIVE' 'POSITIVE'\n",
            " 'POSITIVE' 'POSITIVE' 'POSITIVE' 'POSITIVE' 'POSITIVE' 'POSITIVE'\n",
            " 'POSITIVE' 'POSITIVE' 'POSITIVE' 'POSITIVE' 'POSITIVE' 'POSITIVE'\n",
            " 'POSITIVE' 'POSITIVE' 'POSITIVE' 'POSITIVE' 'POSITIVE' 'POSITIVE'\n",
            " 'POSITIVE' 'POSITIVE' 'POSITIVE' 'POSITIVE' 'POSITIVE' 'POSITIVE'\n",
            " 'POSITIVE' 'POSITIVE' 'POSITIVE' 'POSITIVE' 'POSITIVE' 'POSITIVE'\n",
            " 'POSITIVE' 'POSITIVE' 'POSITIVE' 'POSITIVE' 'POSITIVE' 'POSITIVE'\n",
            " 'POSITIVE' 'POSITIVE' 'POSITIVE' 'POSITIVE' 'POSITIVE' 'POSITIVE'\n",
            " 'POSITIVE' 'POSITIVE' 'POSITIVE' 'POSITIVE' 'POSITIVE' 'POSITIVE'\n",
            " 'POSITIVE' 'POSITIVE' 'POSITIVE' 'POSITIVE' 'POSITIVE' 'POSITIVE'\n",
            " 'POSITIVE' 'POSITIVE' 'POSITIVE' 'POSITIVE' 'POSITIVE' 'POSITIVE'\n",
            " 'POSITIVE' 'POSITIVE' 'POSITIVE' 'POSITIVE' 'POSITIVE' 'POSITIVE'\n",
            " 'POSITIVE' 'POSITIVE' 'POSITIVE' 'POSITIVE' 'POSITIVE' 'POSITIVE'\n",
            " 'POSITIVE' 'POSITIVE' 'POSITIVE' 'POSITIVE' 'POSITIVE' 'POSITIVE'\n",
            " 'POSITIVE']\n"
          ]
        }
      ]
    },
    {
      "cell_type": "code",
      "source": [
        "# kiểm tra kích thước và đánh giá mô hình từ cột vectorized chứa các vector đặc trưng theo mô hình Word2Vec\n",
        "import pandas as pd\n",
        "import numpy as np\n",
        "from sklearn.linear_model import LogisticRegression\n",
        "from sklearn.model_selection import train_test_split, cross_val_score\n",
        "from sklearn.metrics import accuracy_score, precision_score, recall_score, f1_score\n",
        "\n",
        "# Đọc file CSV chứa dữ liệu đã được vector hóa\n",
        "file_path = \"/content/drive/MyDrive/ForColab/word_embeddings_nonzero.csv\"  # Đường dẫn đến file word_embeddings.csv của bạn\n",
        "df = pd.read_csv(file_path)\n",
        "\n",
        "# Tạo cột nhãn dựa trên nội dung trong cột 'ID'\n",
        "df['label'] = df['ID'].apply(lambda x: 'POSITIVE' if x == 1 else ('NEGATIVE' if x == 3 else 'NEUTRAL'))\n",
        "\n",
        "# Chuyển đổi cột 'vectorized' thành một ma trận số\n",
        "X = np.vstack(df['vectorized'].apply(lambda x: np.fromstring(x.strip(\"[]\"), sep=' ')).values)\n",
        "y = df['label']\n",
        "\n",
        "# Kiểm tra kích thước của X\n",
        "# print(\"Shape of X:\", X.shape)  # Kích thước của ma trận đặc trưng\n",
        "# print(\"First row of X:\", X[0])  # Dòng đầu tiên của ma trận đặc trưng\n",
        "\n",
        "# Chia dữ liệu thành tập huấn luyện và tập kiểm tra\n",
        "X_train, X_test, y_train, y_test = train_test_split(X, y, test_size=0.9, random_state=42)\n",
        "\n",
        "# Khởi tạo mô hình Logistic Regression\n",
        "model = LogisticRegression(max_iter=1000)\n",
        "\n",
        "# Huấn luyện mô hình\n",
        "model.fit(X_train, y_train)\n",
        "\n",
        "# Dự đoán trên tập kiểm tra\n",
        "y_pred = model.predict(X_test)\n",
        "\n",
        "# Kiểm tra kích thước của y_pred và y_test\n",
        "print(\"y_pred size:\", len(y_pred))\n",
        "print(\"y_test size:\", len(y_test))\n",
        "\n",
        "# Đánh giá mô hình\n",
        "accuracy = accuracy_score(y_test, y_pred)\n",
        "precision = precision_score(y_test, y_pred, average='weighted', zero_division=0)\n",
        "recall = recall_score(y_test, y_pred, average='weighted', zero_division=0)\n",
        "f1 = f1_score(y_test, y_pred, average='weighted', zero_division=0)\n",
        "\n",
        "print(\"Accuracy:\", accuracy)\n",
        "print(\"Precision:\", precision)\n",
        "print(\"Recall:\", recall)\n",
        "print(\"F1-score:\", f1)\n",
        "\n",
        "# Xác thực chéo với số lần chia phù hợp\n",
        "scores = cross_val_score(model, X, y, cv=3)\n",
        "print(\"Cross-validation scores:\", scores)\n",
        "print(\"Mean cross-validation score:\", scores.mean())\n"
      ],
      "metadata": {
        "colab": {
          "base_uri": "https://localhost:8080/"
        },
        "id": "Uge2kU66ejvx",
        "outputId": "3e59734f-5abf-4bef-a07a-a3158aacfbb4"
      },
      "execution_count": null,
      "outputs": [
        {
          "output_type": "stream",
          "name": "stdout",
          "text": [
            "y_pred size: 91\n",
            "y_test size: 91\n",
            "Accuracy: 0.7362637362637363\n",
            "Precision: 0.5420842893370367\n",
            "Recall: 0.7362637362637363\n",
            "F1-score: 0.6244262067046876\n",
            "Cross-validation scores: [0.70588235 0.70588235 0.6969697 ]\n",
            "Mean cross-validation score: 0.70291146761735\n"
          ]
        }
      ]
    },
    {
      "cell_type": "code",
      "source": [
        "print(df['label'].value_counts())"
      ],
      "metadata": {
        "colab": {
          "base_uri": "https://localhost:8080/"
        },
        "id": "irpwn8O9gsa1",
        "outputId": "08120c1e-5a2a-4199-a822-47cb116862d3"
      },
      "execution_count": null,
      "outputs": [
        {
          "output_type": "stream",
          "name": "stdout",
          "text": [
            "label\n",
            "POSITIVE    71\n",
            "NEGATIVE    17\n",
            "NEUTRAL     13\n",
            "Name: count, dtype: int64\n"
          ]
        }
      ]
    },
    {
      "cell_type": "markdown",
      "source": [
        "**TEST**"
      ],
      "metadata": {
        "id": "Mz_OY49Wx4SB"
      }
    },
    {
      "cell_type": "code",
      "source": [
        "#Logistic Regression với GridSearchCV (GIỐNG CHỈ SỐ VỚI MÔ HÌNH Word2Vec)\n",
        "\n",
        "import pandas as pd\n",
        "import numpy as np\n",
        "from sklearn.linear_model import LogisticRegression\n",
        "from sklearn.model_selection import train_test_split, cross_val_score, GridSearchCV\n",
        "from sklearn.preprocessing import StandardScaler, LabelEncoder\n",
        "from sklearn.metrics import accuracy_score, precision_score, recall_score, f1_score\n",
        "\n",
        "# Đọc file CSV chứa dữ liệu đã được vector hóa\n",
        "file_path = \"/content/drive/MyDrive/ForColab/word_embeddings_nonzero.csv\"  # Đường dẫn đến file word_embeddings.csv của bạn\n",
        "df = pd.read_csv(file_path)\n",
        "\n",
        "# Tạo cột nhãn dựa trên nội dung trong cột 'ID'\n",
        "df['label'] = df['ID'].apply(lambda x: 'POSITIVE' if x == 1 else ('NEGATIVE' if x == 3 else 'NEUTRAL'))\n",
        "\n",
        "# Chuyển đổi cột 'vectorized' thành một ma trận số\n",
        "X = np.vstack(df['vectorized'].apply(lambda x: np.fromstring(x.strip(\"[]\"), sep=' ')).values)\n",
        "y = df['label']\n",
        "\n",
        "# Chuẩn hóa dữ liệu\n",
        "scaler = StandardScaler()\n",
        "X = scaler.fit_transform(X)\n",
        "\n",
        "# Chuyển đổi nhãn thành số nguyên\n",
        "label_encoder = LabelEncoder()\n",
        "y = label_encoder.fit_transform(y)\n",
        "\n",
        "# Chia dữ liệu thành tập huấn luyện và tập kiểm tra\n",
        "X_train, X_test, y_train, y_test = train_test_split(X, y, test_size=0.3, random_state=42)\n",
        "\n",
        "# Khởi tạo và huấn luyện mô hình Logistic Regression với GridSearchCV để tìm tham số tối ưu\n",
        "param_grid = {'C': [0.1, 1, 10, 100], 'solver': ['lbfgs', 'liblinear']}\n",
        "grid_search = GridSearchCV(LogisticRegression(max_iter=1000), param_grid, cv=3, scoring='f1_weighted')\n",
        "grid_search.fit(X_train, y_train)\n",
        "\n",
        "# Dự đoán trên tập kiểm tra\n",
        "y_pred_lr = grid_search.predict(X_test)\n",
        "\n",
        "# Kiểm tra kích thước của y_pred và y_test\n",
        "print(\"y_pred size:\", len(y_pred_lr))\n",
        "print(\"y_test size:\", len(y_test))\n",
        "\n",
        "# Đánh giá mô hình\n",
        "accuracy_lr = accuracy_score(y_test, y_pred_lr)\n",
        "precision_lr = precision_score(y_test, y_pred_lr, average='weighted', zero_division=0)\n",
        "recall_lr = recall_score(y_test, y_pred_lr, average='weighted', zero_division=0)\n",
        "f1_lr = f1_score(y_test, y_pred_lr, average='weighted', zero_division=0)\n",
        "\n",
        "print(\"Logistic Regression - Accuracy:\", accuracy_lr)\n",
        "print(\"Logistic Regression - Precision:\", precision_lr)\n",
        "print(\"Logistic Regression - Recall:\", recall_lr)\n",
        "print(\"Logistic Regression - F1-score:\", f1_lr)\n",
        "\n",
        "# Xác thực chéo với số lần chia phù hợp\n",
        "scores_lr = cross_val_score(grid_search.best_estimator_, X, y, cv=5, scoring='accuracy')\n",
        "print(\"Logistic Regression - Cross-validation scores:\", scores_lr)\n",
        "print(\"Logistic Regression - Mean cross-validation score:\", scores_lr.mean())\n"
      ],
      "metadata": {
        "colab": {
          "base_uri": "https://localhost:8080/"
        },
        "id": "hyhmrXQt2KcG",
        "outputId": "9ae59457-13c9-4738-c8f7-7813995807d7"
      },
      "execution_count": null,
      "outputs": [
        {
          "output_type": "stream",
          "name": "stdout",
          "text": [
            "y_pred size: 31\n",
            "y_test size: 31\n",
            "Logistic Regression - Accuracy: 0.7096774193548387\n",
            "Logistic Regression - Precision: 0.6937821411874707\n",
            "Logistic Regression - Recall: 0.7096774193548387\n",
            "Logistic Regression - F1-score: 0.7006656426011265\n",
            "Logistic Regression - Cross-validation scores: [0.28571429 0.6        0.75       0.85       0.75      ]\n",
            "Logistic Regression - Mean cross-validation score: 0.6471428571428571\n"
          ]
        }
      ]
    },
    {
      "cell_type": "code",
      "source": [
        "import joblib\n",
        "\n",
        "# Lưu mô hình đã huấn luyện\n",
        "joblib.dump(grid_search, '/content/drive/MyDrive/ForColab/logistic_regression_model.pkl')\n",
        "\n"
      ],
      "metadata": {
        "colab": {
          "base_uri": "https://localhost:8080/"
        },
        "id": "NIvr8j4fo8G7",
        "outputId": "52892b11-f140-4a24-9a5b-3565a7bce187"
      },
      "execution_count": null,
      "outputs": [
        {
          "output_type": "execute_result",
          "data": {
            "text/plain": [
              "['/content/drive/MyDrive/ForColab/logistic_regression_model.pkl']"
            ]
          },
          "metadata": {},
          "execution_count": 36
        }
      ]
    },
    {
      "cell_type": "markdown",
      "source": [
        "**Logistic Regression** có độ chính xác và các chỉ số đánh giá thấp hơn so với Naive Bayes, đặc biệt là Precision và F1-score. Điểm kiểm tra chéo ***ổn định hơn một chút so với Naive Bayes***, nhưng **kết quả vẫn chưa cao.**"
      ],
      "metadata": {
        "id": "Rdqcpjnl36pH"
      }
    },
    {
      "cell_type": "code",
      "source": [
        "import pandas as pd\n",
        "import numpy as np\n",
        "from sklearn.svm import SVC\n",
        "from sklearn.model_selection import train_test_split, cross_val_score\n",
        "from sklearn.preprocessing import StandardScaler, LabelEncoder\n",
        "from sklearn.metrics import accuracy_score, precision_score, recall_score, f1_score\n",
        "\n",
        "# Đọc file CSV chứa dữ liệu đã được vector hóa\n",
        "file_path = \"/content/drive/MyDrive/ForColab/word_embeddings_nonzero.csv\"  # Đường dẫn đến file word_embeddings.csv của bạn\n",
        "df = pd.read_csv(file_path)\n",
        "\n",
        "# Tạo cột nhãn dựa trên nội dung trong cột 'ID'\n",
        "df['label'] = df['ID'].apply(lambda x: 'POSITIVE' if x == 1 else ('NEGATIVE' if x == 3 else 'NEUTRAL'))\n",
        "\n",
        "# Chuyển đổi cột 'vectorized' thành một ma trận số\n",
        "X = np.vstack(df['vectorized'].apply(lambda x: np.fromstring(x.strip(\"[]\"), sep=' ')).values)\n",
        "y = df['label']\n",
        "\n",
        "# Chuẩn hóa dữ liệu\n",
        "scaler = StandardScaler()\n",
        "X = scaler.fit_transform(X)\n",
        "\n",
        "# Chuyển đổi nhãn thành số nguyên\n",
        "label_encoder = LabelEncoder()\n",
        "y = label_encoder.fit_transform(y)\n",
        "\n",
        "# Chia dữ liệu thành tập huấn luyện và tập kiểm tra\n",
        "X_train, X_test, y_train, y_test = train_test_split(X, y, test_size=0.3, random_state=42)\n",
        "\n",
        "# Khởi tạo và huấn luyện mô hình SVM\n",
        "svm_model = SVC(kernel='linear')\n",
        "svm_model.fit(X_train, y_train)\n",
        "\n",
        "# Dự đoán trên tập kiểm tra\n",
        "y_pred_svm = svm_model.predict(X_test)\n",
        "\n",
        "# Kiểm tra kích thước của y_pred và y_test\n",
        "print(\"y_pred size:\", len(y_pred_svm))\n",
        "print(\"y_test size:\", len(y_test))\n",
        "\n",
        "# Đánh giá mô hình\n",
        "accuracy_svm = accuracy_score(y_test, y_pred_svm)\n",
        "precision_svm = precision_score(y_test, y_pred_svm, average='weighted', zero_division=0)\n",
        "recall_svm = recall_score(y_test, y_pred_svm, average='weighted', zero_division=0)\n",
        "f1_svm = f1_score(y_test, y_pred_svm, average='weighted', zero_division=0)\n",
        "\n",
        "print(\"SVM - Accuracy:\", accuracy_svm)\n",
        "print(\"SVM - Precision:\", precision_svm)\n",
        "print(\"SVM - Recall:\", recall_svm)\n",
        "print(\"SVM - F1-score:\", f1_svm)\n",
        "\n",
        "# Xác thực chéo với số lần chia phù hợp\n",
        "scores_svm = cross_val_score(svm_model, X, y, cv=5, scoring='accuracy')\n",
        "print(\"SVM - Cross-validation scores:\", scores_svm)\n",
        "print(\"SVM - Mean cross-validation score:\", scores_svm.mean())\n"
      ],
      "metadata": {
        "colab": {
          "base_uri": "https://localhost:8080/"
        },
        "id": "2IO_GG9L2cgl",
        "outputId": "421ab974-e1aa-4a70-ed48-5eb4d14673f5"
      },
      "execution_count": null,
      "outputs": [
        {
          "output_type": "stream",
          "name": "stdout",
          "text": [
            "y_pred size: 31\n",
            "y_test size: 31\n",
            "SVM - Accuracy: 0.6129032258064516\n",
            "SVM - Precision: 0.6148233486943164\n",
            "SVM - Recall: 0.6129032258064516\n",
            "SVM - F1-score: 0.6107680766345432\n",
            "SVM - Cross-validation scores: [0.33333333 0.45       0.7        0.8        0.8       ]\n",
            "SVM - Mean cross-validation score: 0.6166666666666666\n"
          ]
        }
      ]
    },
    {
      "cell_type": "markdown",
      "source": [
        "**SVM** có độ chính xác và các chỉ số đánh giá tốt hơn Logistic Regression và gần với Naive Bayes.\n",
        "\n",
        "Precision và F1-score tương đối cao.\n",
        "\n",
        "Điểm kiểm tra chéo trung bình là 0.6, cho thấy mô hình có **hiệu suất tốt**"
      ],
      "metadata": {
        "id": "D8bPsdgz4lUH"
      }
    },
    {
      "cell_type": "code",
      "source": [
        "import joblib\n",
        "\n",
        "# Lưu trữ mô hình\n",
        "joblib.dump(svm_model, '/content/drive/MyDrive/ForColab/svm_model.pkl')\n",
        "print(\"Mô hình SVM đã được lưu trữ.\")\n",
        "# Tải lại mô hình\n",
        "loaded_model = joblib.load('/content/drive/MyDrive/ForColab/svm_model.pkl')\n",
        "print(\"Mô hình SVM đã được tải lại.\")\n"
      ],
      "metadata": {
        "colab": {
          "base_uri": "https://localhost:8080/"
        },
        "id": "K_oPoj4jFfAh",
        "outputId": "e1eb4fb2-fbd3-4fdc-a608-808576dfe6af"
      },
      "execution_count": null,
      "outputs": [
        {
          "output_type": "stream",
          "name": "stdout",
          "text": [
            "Mô hình SVM đã được lưu trữ.\n",
            "Mô hình SVM đã được tải lại.\n"
          ]
        }
      ]
    },
    {
      "cell_type": "code",
      "source": [
        "# mô hình Naive Bayes\n",
        "\n",
        "import pandas as pd\n",
        "import numpy as np\n",
        "from sklearn.naive_bayes import MultinomialNB\n",
        "from sklearn.preprocessing import LabelEncoder, MinMaxScaler\n",
        "from sklearn.model_selection import train_test_split, cross_val_score, StratifiedKFold\n",
        "from sklearn.metrics import accuracy_score, precision_score, recall_score, f1_score\n",
        "\n",
        "# Đọc file CSV chứa dữ liệu đã được vector hóa\n",
        "file_path = \"/content/drive/MyDrive/ForColab/word_embeddings_nonzero.csv\"\n",
        "df = pd.read_csv(file_path)\n",
        "\n",
        "# Tạo cột nhãn dựa trên nội dung trong cột 'ID'\n",
        "df['label'] = df['ID'].apply(lambda x: 'POSITIVE' if x == 1 else ('NEGATIVE' if x == 3 else 'NEUTRAL'))\n",
        "\n",
        "# Chuyển đổi cột 'vectorized' thành một ma trận số\n",
        "X = np.vstack(df['vectorized'].apply(lambda x: np.fromstring(x.strip(\"[]\"), sep=' ')).values)\n",
        "y = df['label']\n",
        "\n",
        "# Chuẩn hóa dữ liệu bằng MinMaxScaler\n",
        "scaler = MinMaxScaler()\n",
        "X = scaler.fit_transform(X)\n",
        "\n",
        "# Chuyển đổi nhãn thành số nguyên\n",
        "label_encoder = LabelEncoder()\n",
        "y = label_encoder.fit_transform(y)\n",
        "\n",
        "# Chia dữ liệu thành tập huấn luyện và tập kiểm tra\n",
        "X_train, X_test, y_train, y_test = train_test_split(X, y, test_size=0.3, random_state=42)\n",
        "\n",
        "# Khởi tạo và huấn luyện mô hình Naive Bayes\n",
        "nb_model = MultinomialNB()\n",
        "nb_model.fit(X_train, y_train)\n",
        "\n",
        "# Dự đoán và đánh giá mô hình\n",
        "y_pred_nb = nb_model.predict(X_test)\n",
        "accuracy_nb = accuracy_score(y_test, y_pred_nb)\n",
        "precision_nb = precision_score(y_test, y_pred_nb, average='weighted')\n",
        "recall_nb = recall_score(y_test, y_pred_nb, average='weighted')\n",
        "f1_nb = f1_score(y_test, y_pred_nb, average='weighted')\n",
        "\n",
        "print(\"Naive Bayes - Accuracy:\", accuracy_nb)\n",
        "print(\"Naive Bayes - Precision:\", precision_nb)\n",
        "print(\"Naive Bayes - Recall:\", recall_nb)\n",
        "print(\"Naive Bayes - F1-score:\", f1_nb)\n",
        "\n",
        "# Xác thực chéo với StratifiedKFold\n",
        "skf = StratifiedKFold(n_splits=10, shuffle=True, random_state=42)\n",
        "scores_nb = cross_val_score(nb_model, X, y, cv=skf, scoring='accuracy')\n",
        "\n",
        "print(\"Naive Bayes - Cross-validation scores:\", scores_nb)\n",
        "print(\"Naive Bayes - Mean cross-validation score:\", scores_nb.mean())\n"
      ],
      "metadata": {
        "colab": {
          "base_uri": "https://localhost:8080/"
        },
        "id": "4VCAuCcR46gV",
        "outputId": "9a6fe8a8-9e67-4c37-ca14-b11eebc660f7"
      },
      "execution_count": null,
      "outputs": [
        {
          "output_type": "stream",
          "name": "stdout",
          "text": [
            "Naive Bayes - Accuracy: 0.6129032258064516\n",
            "Naive Bayes - Precision: 0.4994026284348865\n",
            "Naive Bayes - Recall: 0.6129032258064516\n",
            "Naive Bayes - F1-score: 0.5503620803159974\n",
            "Naive Bayes - Cross-validation scores: [0.63636364 0.8        0.5        0.8        0.7        0.6\n",
            " 0.7        0.7        0.7        0.7       ]\n",
            "Naive Bayes - Mean cross-validation score: 0.6836363636363636\n"
          ]
        },
        {
          "output_type": "stream",
          "name": "stderr",
          "text": [
            "/usr/local/lib/python3.10/dist-packages/sklearn/metrics/_classification.py:1531: UndefinedMetricWarning: Precision is ill-defined and being set to 0.0 in labels with no predicted samples. Use `zero_division` parameter to control this behavior.\n",
            "  _warn_prf(average, modifier, f\"{metric.capitalize()} is\", len(result))\n"
          ]
        }
      ]
    },
    {
      "cell_type": "markdown",
      "source": [
        "**Accuracy: 0.6:**\n",
        "\n",
        "Độ chính xác (Accuracy): Khoảng 60% dự đoán của mô hình là đúng. Điều này cho thấy mô hình hoạt động khá tốt trong việc phân loại, nhưng vẫn có room để cải thiện.\n",
        "\n",
        "**Precision:**\n",
        "\n",
        "Độ chính xác dự đoán (Precision): có khoảng 67.99% là đúng. Điều này chỉ ra rằng mô hình có tỷ lệ dự đoán dương tính giả khá thấp, cho thấy nó khá chính xác khi dự đoán dương tính.\n",
        "\n",
        "**Recall: 0.6:**\n",
        "\n",
        "Khả năng tìm kiếm (Recall): Trong số các mẫu thực tế là dương tính, mô hình tìm ra được khoảng 60%. Điều này cho thấy mô hình bỏ lỡ một số lượng dương tính nhất định.\n",
        "\n",
        "**F1-score: 0.5694117647058824:**\n",
        "\n",
        "F1-score: Chỉ số trung bình điều hòa giữa Precision và Recall là 56.94%. Chỉ số này cho thấy mô hình có sự cân bằng khá tốt giữa độ chính xác và khả năng tìm kiếm, nhưng vẫn có thể cải thiện thêm.\n",
        "\n",
        "**Cross-validation scores:** [0.6, 0.6, 0.6, 0.6, 0.6, 0.4, 0.6, 0.8, 0.8, 0.4]:\n",
        "\n",
        "Điểm kiểm tra chéo (Cross-validation scores): Điểm kiểm tra chéo dao động từ 40% đến 80%, với phần lớn các giá trị ở mức 60%. Điều này cho thấy mô hình có mức độ ổn định tương đối, mặc dù có một số sự dao động.\n",
        "\n",
        "**Mean cross-validation score**: 0.6:\n",
        "\n",
        "Điểm trung bình của kiểm tra chéo: Trung bình các điểm số kiểm tra chéo là 60%, tương tự với độ chính xác tổng thể. Điều này cho thấy mô hình có thể tổng quát hóa khá tốt trên các tập dữ liệu khác nhau."
      ],
      "metadata": {
        "id": "ynlxH3YF6p4r"
      }
    },
    {
      "cell_type": "code",
      "source": [
        "import joblib\n",
        "\n",
        "# Lưu trữ mô hình\n",
        "joblib.dump(nb_model, '/content/drive/MyDrive/ForColab/nb_model.pkl')\n",
        "print(\"Mô hình Naive Bayes đã được lưu trữ.\")\n",
        "# Tải lại mô hình\n",
        "loaded_model = joblib.load('/content/drive/MyDrive/ForColab/nb_model.pkl')\n",
        "print(\"Mô hình Naive Bayes đã được tải lại.\")\n"
      ],
      "metadata": {
        "colab": {
          "base_uri": "https://localhost:8080/"
        },
        "id": "s9_Pzr1V8EZP",
        "outputId": "5415050c-f2be-49c8-8eb4-8af4daf61d72"
      },
      "execution_count": null,
      "outputs": [
        {
          "output_type": "stream",
          "name": "stdout",
          "text": [
            "Mô hình Naive Bayes đã được lưu trữ.\n",
            "Mô hình Naive Bayes đã được tải lại.\n"
          ]
        }
      ]
    },
    {
      "cell_type": "code",
      "source": [
        "# Tạo vector cho các câu mới\n",
        "def get_sentence_vector(tokens, model):\n",
        "    vectors = [model.wv[word] for word in tokens if word in model.wv]\n",
        "    if vectors:\n",
        "        return np.mean(vectors, axis=0)\n",
        "    else:\n",
        "        return np.zeros(model.vector_size)\n",
        "\n",
        "# Xử lý và vector hóa các bình luận mới\n",
        "new_comments = [\"Sản phẩm này rất tuyệt vời!\", \"Dịch vụ tệ, rất thất vọng.\", \"Ổn, không quá tốt nhưng chấp nhận được.\"]\n",
        "new_comments_processed = [comment.lower().split() for comment in new_comments]\n",
        "new_vectors = np.array([get_sentence_vector(tokens, w2v_model) for tokens in new_comments_processed])\n",
        "\n",
        "# Kiểm tra kích thước của new_vectors\n",
        "print(\"Kích thước new_vectors:\", new_vectors.shape)\n",
        "\n",
        "# Dự đoán nhãn\n",
        "new_predictions = model.predict(new_vectors)\n",
        "\n",
        "# Xuất kết quả dự đoán\n",
        "for comment, prediction in zip(new_comments, new_predictions):\n",
        "    print(f\"Bình luận: {comment} => Nhãn dự đoán: {prediction}\")\n",
        "\n"
      ],
      "metadata": {
        "colab": {
          "base_uri": "https://localhost:8080/"
        },
        "id": "JqBH2nFxJKgj",
        "outputId": "7477657d-c0b3-4b62-b539-44857688d352"
      },
      "execution_count": null,
      "outputs": [
        {
          "output_type": "stream",
          "name": "stdout",
          "text": [
            "Kích thước new_vectors: (3, 100)\n",
            "Bình luận: Sản phẩm này rất tuyệt vời! => Nhãn dự đoán: POSITIVE\n",
            "Bình luận: Dịch vụ tệ, rất thất vọng. => Nhãn dự đoán: POSITIVE\n",
            "Bình luận: Ổn, không quá tốt nhưng chấp nhận được. => Nhãn dự đoán: POSITIVE\n"
          ]
        }
      ]
    },
    {
      "cell_type": "code",
      "source": [
        "import numpy as np\n",
        "\n",
        "# Hàm tạo vector cho câu mới\n",
        "def get_sentence_vector(tokens, model):\n",
        "    vectors = [model.wv[word] for word in tokens if word in model.wv]\n",
        "    if vectors:\n",
        "        return np.mean(vectors, axis=0)\n",
        "    else:\n",
        "        return np.zeros(model.vector_size)\n",
        "\n",
        "# Hàm xử lý và dự đoán nhãn cho các bình luận mới\n",
        "def predict_comment_labels(comments, w2v_model, classifier_model):\n",
        "    # Xử lý bình luận\n",
        "    comments_processed = [comment.lower().split() for comment in comments]\n",
        "\n",
        "    # Vector hóa bình luận\n",
        "    vectors = np.array([get_sentence_vector(tokens, w2v_model) for tokens in comments_processed])\n",
        "\n",
        "    # Dự đoán nhãn\n",
        "    predictions = classifier_model.predict(vectors)\n",
        "\n",
        "    # Xuất kết quả dự đoán\n",
        "    for comment, prediction in zip(comments, predictions):\n",
        "        print(f\"Bình luận: {comment} => Nhãn dự đoán: {prediction}\")\n",
        "\n",
        "# Nhập bình luận từ người dùng\n",
        "print(\"Nhập các bình luận (gõ 'thoát' để kết thúc):\")\n",
        "user_comments = []\n",
        "while True:\n",
        "    comment = input(\"Bình luận: \")\n",
        "    if comment.strip().lower() == \"thoát\":\n",
        "        break\n",
        "    user_comments.append(comment)\n",
        "\n",
        "# Kiểm tra nếu có bình luận được nhập\n",
        "if user_comments:\n",
        "    predict_comment_labels(user_comments, w2v_model, model)\n",
        "else:\n",
        "    print(\"Không có bình luận nào được nhập.\")\n",
        "\n"
      ],
      "metadata": {
        "colab": {
          "base_uri": "https://localhost:8080/",
          "height": 280
        },
        "id": "7qPygawIlS1o",
        "outputId": "86076037-3b7e-4c34-a5f9-8ba8d3805d18"
      },
      "execution_count": null,
      "outputs": [
        {
          "name": "stdout",
          "output_type": "stream",
          "text": [
            "Nhập các bình luận (gõ 'thoát' để kết thúc):\n",
            "Bình luận: The cake is very tasty\n",
            "Bình luận: The milk tea is so bad\n",
            "Bình luận: thoát\n"
          ]
        },
        {
          "output_type": "error",
          "ename": "NameError",
          "evalue": "name 'w2v_model' is not defined",
          "traceback": [
            "\u001b[0;31m---------------------------------------------------------------------------\u001b[0m",
            "\u001b[0;31mNameError\u001b[0m                                 Traceback (most recent call last)",
            "\u001b[0;32m<ipython-input-3-911427f10203>\u001b[0m in \u001b[0;36m<cell line: 36>\u001b[0;34m()\u001b[0m\n\u001b[1;32m     35\u001b[0m \u001b[0;31m# Kiểm tra nếu có bình luận được nhập\u001b[0m\u001b[0;34m\u001b[0m\u001b[0;34m\u001b[0m\u001b[0m\n\u001b[1;32m     36\u001b[0m \u001b[0;32mif\u001b[0m \u001b[0muser_comments\u001b[0m\u001b[0;34m:\u001b[0m\u001b[0;34m\u001b[0m\u001b[0;34m\u001b[0m\u001b[0m\n\u001b[0;32m---> 37\u001b[0;31m     \u001b[0mpredict_comment_labels\u001b[0m\u001b[0;34m(\u001b[0m\u001b[0muser_comments\u001b[0m\u001b[0;34m,\u001b[0m \u001b[0mw2v_model\u001b[0m\u001b[0;34m,\u001b[0m \u001b[0mmodel\u001b[0m\u001b[0;34m)\u001b[0m\u001b[0;34m\u001b[0m\u001b[0;34m\u001b[0m\u001b[0m\n\u001b[0m\u001b[1;32m     38\u001b[0m \u001b[0;32melse\u001b[0m\u001b[0;34m:\u001b[0m\u001b[0;34m\u001b[0m\u001b[0;34m\u001b[0m\u001b[0m\n\u001b[1;32m     39\u001b[0m     \u001b[0mprint\u001b[0m\u001b[0;34m(\u001b[0m\u001b[0;34m\"Không có bình luận nào được nhập.\"\u001b[0m\u001b[0;34m)\u001b[0m\u001b[0;34m\u001b[0m\u001b[0;34m\u001b[0m\u001b[0m\n",
            "\u001b[0;31mNameError\u001b[0m: name 'w2v_model' is not defined"
          ]
        }
      ]
    }
  ]
}